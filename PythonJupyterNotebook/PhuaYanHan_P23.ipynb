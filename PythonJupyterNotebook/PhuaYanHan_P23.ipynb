{
 "cells": [
  {
   "cell_type": "markdown",
   "metadata": {},
   "source": [
    "<img src=\"https://i.imgur.com/FoKB5Z5.png\" align=\"left\" width=\"300\" height=\"250\" title=\"source: imgur.com\" /></a>"
   ]
  },
  {
   "cell_type": "markdown",
   "metadata": {},
   "source": [
    "## Program Code: J620-002-4:2020 \n",
    "\n",
    "## Program Name: FRONT-END SOFTWARE DEVELOPMENT\n",
    "\n",
    "## Title :  Basic Maths with Python\n",
    "\n",
    "#### Name: Phua Yan Han\n",
    "\n",
    "#### IC Number: 050824070059\n",
    "\n",
    "#### Date : 10/7/23\n",
    "\n",
    "#### Introduction : learning math\n",
    "\n",
    "\n",
    "\n",
    "#### Conclusion :\n",
    "\n",
    "\n",
    "\n",
    "\n"
   ]
  },
  {
   "cell_type": "markdown",
   "metadata": {},
   "source": [
    "## P23 - Basic Mathematics with Python "
   ]
  },
  {
   "cell_type": "markdown",
   "metadata": {
    "scrolled": true
   },
   "source": [
    "## Sets\n",
    "\n",
    "Python comes with an implementation of the mathematical set. Initially this implementation had to be imported from the standard module set, but with Python 2.6 the types set and frozenset became built-in types. A set is an unordered collection of objects, unlike sequence objects such as lists and tuples, in which each element is indexed. Sets cannot have duplicate members - a given object appears in a set 0 or 1 times. All members of a set have to be hashable, just like dictionary keys. Integers, floating point numbers, tuples, and strings are hashable; dictionaries, lists, and other sets (except frozensets) are not."
   ]
  },
  {
   "cell_type": "markdown",
   "metadata": {},
   "source": [
    "Sets in Python at a glance:"
   ]
  },
  {
   "cell_type": "code",
   "execution_count": 3,
   "metadata": {},
   "outputs": [
    {
     "name": "stdout",
     "output_type": "stream",
     "text": [
      "{'mouse', 'doe', 'horse', 'dog'}\n"
     ]
    }
   ],
   "source": [
    "set1 = set()                   # A new empty set\n",
    "set1.add(\"cat\")                # Add a single member\n",
    "set1.update([\"dog\", \"mouse\"])  # Add several members, like list's extend\n",
    "set1 |= set([\"doe\", \"horse\"])  # Add several members 2, like list's extend\n",
    "if \"cat\" in set1:              # Membership test\n",
    "    set1.remove(\"cat\")\n",
    "#set1.remove(\"elephant\") - throws an error\n",
    "set1.discard(\"elephant\")       # No error thrown\n",
    "print (set1)"
   ]
  },
  {
   "cell_type": "markdown",
   "metadata": {},
   "source": [
    "## Hints\n",
    "\n",
    "|= performs an in-place+ operation between pairs of objects. In particular, between:\n",
    "\n",
    "sets: a union operation\n",
    "dicts: an update operation\n",
    "counters: a union (of multisets) operation\n",
    "numbers: a bitwise OR, binary operation\n",
    "\n",
    "Reference: https://stackoverflow.com/questions/3929278/what-does-ior-do-in-python\n",
    "\n",
    "## Sets\n",
    "\n",
    "Reference: https://medium.com/better-programming/mathematical-set-operations-in-python-e065aac07413#:~:text=Python's%20set%20is%20an%20unordered,don't%20support%20set%20operations."
   ]
  },
  {
   "cell_type": "code",
   "execution_count": 4,
   "metadata": {},
   "outputs": [
    {
     "name": "stdout",
     "output_type": "stream",
     "text": [
      "mouse\n",
      "doe\n",
      "horse\n",
      "dog\n",
      "Item count: 4\n",
      "dog\n",
      "{'dog', 'cat'} {'mouse', 'dog'} {'dog'} {'mouse', 'dog', 'cat'} {'cat'} {'mouse', 'cat'} set() set() {1, 3, 5, 7, 9} False False\n"
     ]
    }
   ],
   "source": [
    "for item in set1:              # Iteration AKA for each element\n",
    "    print (item)\n",
    "print (\"Item count:\", len(set1)) # Length AKA size AKA item count\n",
    "#1stitem = set1[0]             # Error: no indexing for sets\n",
    "isempty = len(set1) == 0       # Test for emptiness\n",
    "#set1 = {\"cat\", \"dog\"}          # Initialize set using braces; since Python 2.7\n",
    "#set1 = {}                     # No way; this is a dict\n",
    "set1 = set([\"cat\", \"dog\"])     # Initialize set from a list\n",
    "set2 = set([\"dog\", \"mouse\"])\n",
    "set3 = set1 & set2             # Intersection\n",
    "set4 = set1 | set2             # Union\n",
    "set5 = set1 - set3             # Set difference\n",
    "set6 = set1 ^ set2             # Symmetric difference\n",
    "issubset = set1 <= set2        # Subset test\n",
    "issuperset = set1 >= set2      # Superset test\n",
    "set7 = set1.copy()             # A shallow copy\n",
    "set7.remove(\"cat\")\n",
    "print (set7.pop())               # Remove an arbitrary element\n",
    "set8 = set1.copy()\n",
    "set8.clear()                   # Clear AKA empty AKA erase\n",
    "set9 = {x for x in range(10) if x % 2} # Set comprehension\n",
    "print(set1, set2, set3, set4, set5, set6, set7, set8, set9, issubset, issuperset)"
   ]
  },
  {
   "cell_type": "markdown",
   "metadata": {},
   "source": [
    "### Constructing Sets\n",
    "One way to construct sets is by passing any sequential object to the \"set\" constructor."
   ]
  },
  {
   "cell_type": "code",
   "execution_count": 5,
   "metadata": {},
   "outputs": [
    {
     "name": "stdout",
     "output_type": "stream",
     "text": [
      "{0, 1, 2, 3}\n",
      "{'u', 's', 'o', 'e', 't', 'b'}\n"
     ]
    }
   ],
   "source": [
    "set10 = set([0, 1, 2, 3])\n",
    "print(set10)\n",
    "\n",
    "set11 = set(\"obtuse\")\n",
    "print(set11)"
   ]
  },
  {
   "cell_type": "markdown",
   "metadata": {},
   "source": [
    "We can also add elements to sets one by one, using the \"add\" function."
   ]
  },
  {
   "cell_type": "code",
   "execution_count": 8,
   "metadata": {},
   "outputs": [
    {
     "data": {
      "text/plain": [
       "{12, 26, 32, 54}"
      ]
     },
     "execution_count": 8,
     "metadata": {},
     "output_type": "execute_result"
    }
   ],
   "source": [
    "s = set([12, 26, 54])\n",
    "s.add(32)\n",
    "s"
   ]
  },
  {
   "cell_type": "markdown",
   "metadata": {},
   "source": [
    "Note that since a set does not contain duplicate elements, if we add one of the members of s to s again, the add function will have no effect. This same behavior occurs in the \"update\" function, which adds a group of elements to a set."
   ]
  },
  {
   "cell_type": "code",
   "execution_count": 9,
   "metadata": {},
   "outputs": [
    {
     "data": {
      "text/plain": [
       "{9, 12, 14, 26, 32, 54}"
      ]
     },
     "execution_count": 9,
     "metadata": {},
     "output_type": "execute_result"
    }
   ],
   "source": [
    "s.update([26, 12, 9, 14])\n",
    "s"
   ]
  },
  {
   "cell_type": "markdown",
   "metadata": {},
   "source": [
    "Note that you can give any type of sequential structure, or even another set, to the update function, regardless of what structure was used to initialize the set.\n",
    "\n",
    "The set function also provides a copy constructor. However, remember that the copy constructor will copy the set, but not the individual elements."
   ]
  },
  {
   "cell_type": "code",
   "execution_count": 10,
   "metadata": {},
   "outputs": [
    {
     "data": {
      "text/plain": [
       "{9, 12, 14, 26, 32, 54}"
      ]
     },
     "execution_count": 10,
     "metadata": {},
     "output_type": "execute_result"
    }
   ],
   "source": [
    "s2 = s.copy()\n",
    "s2"
   ]
  },
  {
   "cell_type": "code",
   "execution_count": 11,
   "metadata": {},
   "outputs": [
    {
     "data": {
      "text/plain": [
       "True"
      ]
     },
     "execution_count": 11,
     "metadata": {},
     "output_type": "execute_result"
    }
   ],
   "source": [
    "s2 == s"
   ]
  },
  {
   "cell_type": "markdown",
   "metadata": {},
   "source": [
    "### Membership Testing\n",
    "We can check if an object is in the set using the same \"in\" operator as with sequential data types."
   ]
  },
  {
   "cell_type": "code",
   "execution_count": 12,
   "metadata": {},
   "outputs": [
    {
     "name": "stdout",
     "output_type": "stream",
     "text": [
      "True\n",
      "False\n",
      "True\n"
     ]
    }
   ],
   "source": [
    "print(32 in s)\n",
    "\n",
    "print(6 in s)\n",
    "\n",
    "print(6 not in s)\n"
   ]
  },
  {
   "cell_type": "markdown",
   "metadata": {},
   "source": [
    "We can also test the membership of entire sets. Given two sets $S_{1}$ and $S_{2}$, we check if $S_{1}$ is a subset or a superset of $S_{2}$."
   ]
  },
  {
   "cell_type": "code",
   "execution_count": 13,
   "metadata": {},
   "outputs": [
    {
     "name": "stdout",
     "output_type": "stream",
     "text": [
      "True\n",
      "True\n"
     ]
    }
   ],
   "source": [
    "print(s.issubset(set([32, 8, 9, 12, 14, -4, 54, 26, 19])))\n",
    "\n",
    "print(s.issuperset(set([9, 12])))\n"
   ]
  },
  {
   "cell_type": "markdown",
   "metadata": {},
   "source": [
    "Note that \"issubset\" and \"issuperset\" can also accept sequential data types as arguments\n",
    "\n",
    "Reference: https://www.programiz.com/python-programming/methods/set/issuperset\n",
    "\n",
    "Reference: https://www.programiz.com/python-programming/methods/set/issubset"
   ]
  },
  {
   "cell_type": "code",
   "execution_count": 14,
   "metadata": {},
   "outputs": [
    {
     "data": {
      "text/plain": [
       "True"
      ]
     },
     "execution_count": 14,
     "metadata": {},
     "output_type": "execute_result"
    }
   ],
   "source": [
    "(s.issuperset([32, 9]))"
   ]
  },
  {
   "cell_type": "markdown",
   "metadata": {},
   "source": [
    "Note that the <= and >= operators also express the issubset and issuperset functions respectively."
   ]
  },
  {
   "cell_type": "code",
   "execution_count": 15,
   "metadata": {},
   "outputs": [
    {
     "name": "stdout",
     "output_type": "stream",
     "text": [
      "True\n",
      "True\n"
     ]
    }
   ],
   "source": [
    "print(set([4, 5, 7]) <= set([4, 5, 7, 9]))\n",
    "\n",
    "print(set([9, 12, 15]) >= set([9, 12]))"
   ]
  },
  {
   "cell_type": "markdown",
   "metadata": {},
   "source": [
    "Like lists, tuples, and string, we can use the \"len\" function to find the number of items in a set."
   ]
  },
  {
   "cell_type": "markdown",
   "metadata": {},
   "source": [
    "### Removing Items\n",
    "There are three functions which remove individual items from a set, called pop, remove, and discard. The first, pop, simply removes an item from the set. Note that there is no defined behavior as to which element it chooses to remove."
   ]
  },
  {
   "cell_type": "code",
   "execution_count": 16,
   "metadata": {},
   "outputs": [
    {
     "data": {
      "text/plain": [
       "{2, 3, 4, 5, 6}"
      ]
     },
     "execution_count": 16,
     "metadata": {},
     "output_type": "execute_result"
    }
   ],
   "source": [
    "s = set([1,2,3,4,5,6])\n",
    "s.pop()\n",
    "s"
   ]
  },
  {
   "cell_type": "markdown",
   "metadata": {},
   "source": [
    "We also have the \"remove\" function to remove a specified element."
   ]
  },
  {
   "cell_type": "code",
   "execution_count": 17,
   "metadata": {},
   "outputs": [
    {
     "data": {
      "text/plain": [
       "{2, 4, 5, 6}"
      ]
     },
     "execution_count": 17,
     "metadata": {},
     "output_type": "execute_result"
    }
   ],
   "source": [
    "s.remove(3)\n",
    "s"
   ]
  },
  {
   "cell_type": "markdown",
   "metadata": {},
   "source": [
    "However, removing a item which isn't in the set causes an error."
   ]
  },
  {
   "cell_type": "code",
   "execution_count": 18,
   "metadata": {},
   "outputs": [
    {
     "ename": "KeyError",
     "evalue": "9",
     "output_type": "error",
     "traceback": [
      "\u001b[1;31m---------------------------------------------------------------------------\u001b[0m",
      "\u001b[1;31mKeyError\u001b[0m                                  Traceback (most recent call last)",
      "\u001b[1;32m<ipython-input-18-d6996fc5cb16>\u001b[0m in \u001b[0;36m<module>\u001b[1;34m\u001b[0m\n\u001b[1;32m----> 1\u001b[1;33m \u001b[0ms\u001b[0m\u001b[1;33m.\u001b[0m\u001b[0mremove\u001b[0m\u001b[1;33m(\u001b[0m\u001b[1;36m9\u001b[0m\u001b[1;33m)\u001b[0m\u001b[1;33m\u001b[0m\u001b[1;33m\u001b[0m\u001b[0m\n\u001b[0m",
      "\u001b[1;31mKeyError\u001b[0m: 9"
     ]
    }
   ],
   "source": [
    "s.remove(9)"
   ]
  },
  {
   "cell_type": "code",
   "execution_count": 19,
   "metadata": {},
   "outputs": [],
   "source": [
    "s.discard(9)"
   ]
  },
  {
   "cell_type": "markdown",
   "metadata": {},
   "source": [
    "If you wish to avoid this error, use \"discard.\" It has the same functionality as remove, but will simply do nothing if the element isn't in the set\n",
    "\n",
    "We also have another operation for removing elements from a set, clear, which simply removes all elements from the set."
   ]
  },
  {
   "cell_type": "code",
   "execution_count": 20,
   "metadata": {},
   "outputs": [
    {
     "data": {
      "text/plain": [
       "set()"
      ]
     },
     "execution_count": 20,
     "metadata": {},
     "output_type": "execute_result"
    }
   ],
   "source": [
    "s.clear()\n",
    "s"
   ]
  },
  {
   "cell_type": "markdown",
   "metadata": {},
   "source": [
    "### Iteration Over Sets\n",
    "We can also have a loop move over each of the items in a set. However, since sets are unordered, it is undefined which order the iteration will follow."
   ]
  },
  {
   "cell_type": "code",
   "execution_count": 27,
   "metadata": {},
   "outputs": [
    {
     "name": "stdout",
     "output_type": "stream",
     "text": [
      "r\n",
      "e\n",
      "g\n",
      "l\n",
      "b\n"
     ]
    }
   ],
   "source": [
    "s = set(\"blerg\")\n",
    "for n in s:\n",
    "    print (n)"
   ]
  },
  {
   "cell_type": "markdown",
   "metadata": {},
   "source": [
    "### Set Operations\n",
    "Python allows us to perform all the standard mathematical set operations, using members of set. Note that each of these set operations has several forms. One of these forms, `s1.function(s2)` will return another set which is created by \"function\" applied to $S_{1}$ and $S_{2}$. The other form, `s1.function_update(s2)`, will change $S_{1}$ to be the set created by \"function\" of $S_{1}$ and $S_{2}$. Finally, some functions have equivalent special operators. For example, $s1$ & $s2$ is equivalent to `s1.intersection(s2)`."
   ]
  },
  {
   "cell_type": "markdown",
   "metadata": {},
   "source": [
    "### Intersection\n",
    "Any element which is in both $S_{1}$ and $S_{2}$ will appear in their intersection."
   ]
  },
  {
   "cell_type": "code",
   "execution_count": 28,
   "metadata": {},
   "outputs": [
    {
     "name": "stdout",
     "output_type": "stream",
     "text": [
      "{6}\n",
      "{6}\n",
      "{6}\n"
     ]
    }
   ],
   "source": [
    "s1 = set([4, 6, 9])\n",
    "s2 = set([1, 6, 8])\n",
    "print(s1.intersection(s2))\n",
    "\n",
    "print(s1 & s2)\n",
    "\n",
    "s1.intersection_update(s2)\n",
    "print(s1)\n"
   ]
  },
  {
   "cell_type": "markdown",
   "metadata": {},
   "source": [
    "Union\n",
    "The union is the merger of two sets. Any element in $S_{1}$ or $S_{2}$ will appear in their union."
   ]
  },
  {
   "cell_type": "code",
   "execution_count": 18,
   "metadata": {},
   "outputs": [
    {
     "name": "stdout",
     "output_type": "stream",
     "text": [
      "{1, 4, 6, 8, 9}\n",
      "{1, 4, 6, 8, 9}\n"
     ]
    }
   ],
   "source": [
    "s1 = set([4, 6, 9])\n",
    "s2 = set([1, 6, 8])\n",
    "print(s1.union(s2))\n",
    "\n",
    "print(s1 | s2)"
   ]
  },
  {
   "cell_type": "markdown",
   "metadata": {},
   "source": [
    "### Symmetric Difference\n",
    "The symmetric difference of two sets is the set of elements which are in one of either set, but not in both."
   ]
  },
  {
   "cell_type": "code",
   "execution_count": 29,
   "metadata": {},
   "outputs": [
    {
     "name": "stdout",
     "output_type": "stream",
     "text": [
      "{1, 4, 8, 9}\n",
      "{1, 4, 8, 9}\n",
      "{1, 4, 8, 9}\n"
     ]
    }
   ],
   "source": [
    "s1 = set([4, 6, 9])\n",
    "s2 = set([1, 6, 8])\n",
    "print(s1.symmetric_difference(s2))\n",
    "\n",
    "set([8, 1, 4, 9])\n",
    "print(s1 ^ s2)\n",
    "\n",
    "set([8, 1, 4, 9])\n",
    "s1.symmetric_difference_update(s2)\n",
    "print(s1)"
   ]
  },
  {
   "cell_type": "markdown",
   "metadata": {},
   "source": [
    "### Set Difference\n",
    "Python can also find the set difference of $S_{1}$ and $S_{2}$, which is the elements that are in $S_{1}$ but not in $S_{2}$."
   ]
  },
  {
   "cell_type": "code",
   "execution_count": 30,
   "metadata": {},
   "outputs": [
    {
     "name": "stdout",
     "output_type": "stream",
     "text": [
      "{9, 4}\n",
      "{9, 4}\n",
      "{9, 4}\n"
     ]
    }
   ],
   "source": [
    "s1 = set([4, 6, 9])\n",
    "s2 = set([1, 6, 8])\n",
    "print(s1.difference(s2))\n",
    "\n",
    "set([9, 4])\n",
    "print (s1 - s2)\n",
    "\n",
    "set([9, 4])\n",
    "s1.difference_update(s2)\n",
    "print(s1)"
   ]
  },
  {
   "cell_type": "markdown",
   "metadata": {},
   "source": [
    "### Multiple sets\n",
    "\"union\", \"intersection\", and \"difference\" can work with multiple input by using the set constructor. For example, using \"set.intersection()\":"
   ]
  },
  {
   "cell_type": "code",
   "execution_count": 31,
   "metadata": {},
   "outputs": [
    {
     "data": {
      "text/plain": [
       "{7, 9}"
      ]
     },
     "execution_count": 31,
     "metadata": {},
     "output_type": "execute_result"
    }
   ],
   "source": [
    "s1 = set([3, 6, 7, 9])\n",
    "s2 = set([6, 7, 9, 10])\n",
    "s3 = set([7, 9, 10, 11])\n",
    "set.intersection(s1, s2, s3)"
   ]
  },
  {
   "cell_type": "markdown",
   "metadata": {},
   "source": [
    "### frozenset\n",
    "A frozenset is basically the same as a set, except that it is immutable - once it is created, its members cannot be changed. Since they are immutable, they are also hashable, which means that frozensets can be used as members in other sets and as dictionary keys. frozensets have the same functions as normal sets, except none of the functions that change the contents (update, remove, pop, etc.) are available."
   ]
  },
  {
   "cell_type": "code",
   "execution_count": 33,
   "metadata": {},
   "outputs": [
    {
     "name": "stdout",
     "output_type": "stream",
     "text": [
      "{frozenset({2, 3, 4}), 4, 5, 6}\n",
      "frozenset({4})\n"
     ]
    }
   ],
   "source": [
    "fs = frozenset([2, 3, 4])\n",
    "s1 = set([fs, 4, 5, 6])\n",
    "print(s1)\n",
    "\n",
    "set([4, frozenset([2, 3, 4]), 6, 5])\n",
    "print(fs.intersection(s1))\n",
    "\n",
    "#fs.add(6)"
   ]
  },
  {
   "cell_type": "markdown",
   "metadata": {},
   "source": [
    "## Mathematical Operators\n",
    "Here are some commonly used mathematical operators\n",
    "\n",
    "| Syntax |  Math  | Operation Name |\n",
    "|------|------|------|\n",
    "| a+b  | a+b | addition|\n",
    "| a-b  | a-b |subtraction |\n",
    "| a*b\t| a $\\times$ b | multiplication|  \n",
    "| a/b | a $\\div$ b | division |\n",
    "| a//b | \\[ a $\\div$ b \\] | floor division (e.g. 5//2=2) |\n",
    "| a%b | a $mod$ b | modulo|\n",
    "| -a | -a | negation | \t\n",
    "| abs(a) | \\[a\\] | absolute value |\t\n",
    "| `a**b` | $a^{b}$ | exponent |\n",
    "| math.sqrt(a) | $\\sqrt {a}$   | square root |\n",
    "\n",
    "Note:\n",
    "In order to use the math.sqrt() function, you must explicitly tell Python that you want it to load the math module. To do that, write\n",
    "\n",
    "```python\n",
    "import math\n",
    "```\n",
    "\n",
    "at the top of your file. For other functions made available by this statement, see [here](https://docs.python.org/3/library/math.html)."
   ]
  },
  {
   "cell_type": "markdown",
   "metadata": {},
   "source": [
    "### Order of Operations\n",
    "Python uses the standard order of operations as taught in Algebra and Geometry classes at high school or secondary school. That is, mathematical expressions are evaluated in the following order (memorized by many as PEMDAS), which is also applied to parentheticals.\n",
    "\n",
    "(Note that operations which share a table row are performed from left to right. That is, a division to the left of a multiplication, with no parentheses between them, is performed before the multiplication simply because it is to the left.)\n",
    "\n",
    "\n",
    "| Name\t|Syntax|\tDescription|\tPEMDAS Mnemonic|\n",
    "|------|------|------|------|\n",
    "| Parentheses\t| ( ... )\t} |Before operating on anything else, Python must evaluate all parentheticals starting at the innermost level. (This includes functions.)\t|**P**lease|\n",
    "|Exponents\t|**\t|As an exponent is simply short multiplication or division, it should be evaluated before them.\t|**E**xcuse|\n",
    "|Multiplication and Division| * / // % |\tAgain, multiplication is rapid addition and must, therefore, happen first.|\t**M**y Dear|\n",
    "|Addition and Subtraction| + - | |**A**unt Sally|"
   ]
  },
  {
   "cell_type": "markdown",
   "metadata": {},
   "source": [
    "## Randomness and reproducibility\n",
    "\n",
    "In Python, we refer to randomness as the ability to generate data, strings, or, more generally, numbers at random.\n",
    "\n",
    "However, when conducting analysis it is important to consider reproducibility. If we are creating random data, how can we enable reproducible analysis?\n",
    "\n",
    "We do this by utilizing pseudo-random number generators (PRNGs). PRNGs start with a random number, known as the seed, and then use an algorithm to generate a psuedo-random sequence based on it.\n",
    "\n",
    "This means that we can replicate the output of a random number generator in python simply by knowing which seed was used.\n",
    "\n",
    "We can showcase this by using the functions in the python library random."
   ]
  },
  {
   "cell_type": "code",
   "execution_count": 1,
   "metadata": {},
   "outputs": [],
   "source": [
    "import numpy as np\n",
    "import pandas as pd\n",
    "import matplotlib.pyplot as plt\n",
    "import seaborn as sns"
   ]
  },
  {
   "cell_type": "code",
   "execution_count": 2,
   "metadata": {},
   "outputs": [],
   "source": [
    "import random"
   ]
  },
  {
   "cell_type": "code",
   "execution_count": 15,
   "metadata": {},
   "outputs": [
    {
     "data": {
      "text/plain": [
       "0.40397807494366633"
      ]
     },
     "execution_count": 15,
     "metadata": {},
     "output_type": "execute_result"
    }
   ],
   "source": [
    "random.seed(99)\n",
    "random.random()"
   ]
  },
  {
   "cell_type": "code",
   "execution_count": 40,
   "metadata": {},
   "outputs": [
    {
     "data": {
      "text/plain": [
       "0.9664535356921388"
      ]
     },
     "execution_count": 40,
     "metadata": {},
     "output_type": "execute_result"
    }
   ],
   "source": [
    "random.seed(1234)\n",
    "random.random()"
   ]
  },
  {
   "cell_type": "markdown",
   "metadata": {},
   "source": [
    "The random library includes standard distributions that may come in handy"
   ]
  },
  {
   "cell_type": "code",
   "execution_count": 61,
   "metadata": {},
   "outputs": [
    {
     "data": {
      "text/plain": [
       "43.99693591270194"
      ]
     },
     "execution_count": 61,
     "metadata": {},
     "output_type": "execute_result"
    }
   ],
   "source": [
    "# Uniform distribution\n",
    "random.uniform(25,50)"
   ]
  },
  {
   "cell_type": "code",
   "execution_count": 64,
   "metadata": {},
   "outputs": [
    {
     "data": {
      "text/plain": [
       "1.4725098791455906"
      ]
     },
     "execution_count": 64,
     "metadata": {},
     "output_type": "execute_result"
    }
   ],
   "source": [
    "mu = 0\n",
    "\n",
    "sigma = 1\n",
    "\n",
    "random.normalvariate(mu, sigma)"
   ]
  },
  {
   "cell_type": "markdown",
   "metadata": {},
   "source": [
    "# Lists vs. numpy arrays"
   ]
  },
  {
   "cell_type": "markdown",
   "metadata": {},
   "source": [
    "Lists can have multiple datatypes. For example one element can be a string and another can be and int and another a float. Lists are defined by using the square brackets: \\[ \\], with elements separated by commas, ','.\n",
    "Ex:\n",
    "```\n",
    "my_list = [1, 'Colorado', 4.7, 'rain']\n",
    "```\n",
    "Lists are indexed by position. Remember, in Python, the index starts at 0 and ends at length(list)-1. So to retrieve the first element of the list you call:\n",
    "```\n",
    "my_list[0]\n",
    "```\n",
    "\n",
    "Numpy arrays  np.arrays differ from lists is that the contain only 1 datatype. For example all the elements might be ints or strings or floats or objects. It is defined by np.array(object), where the input 'object' can be for example a list or a tuple.    \n",
    "Ex:\n",
    "```\n",
    "my_array = np.array([1, 4, 5, 2])\n",
    "```\n",
    "or \n",
    "```\n",
    "my_array = np.array((1, 4, 5, 2))\n",
    "```\n",
    "\n",
    "Lists and numpy arrays differ in their **speed** and **memory efficiency**. An intuitive reason for this is that python lists have to store the value of each element and also the type of each element (since the types can differ). Whereas numpy arrays only need to store the type once because it is the same for all the elements in the array. \n",
    "\n",
    "You can do calculations with numpy arrays that can't be done on lists.  \n",
    "Ex:\n",
    "```\n",
    "my_array/3\n",
    "```\n",
    "will return a numpy array, with each of the elements divided by 3. Whereas:\n",
    "```\n",
    "my_list/3\n",
    "```\n",
    "Will throw an error.\n",
    "\n",
    "You can appened items to the end of lists and numpy arrays, though they have slightly different commands. It is almost of note that lists can append an item 'in place', but numpy arrays cannot.\n",
    "\n",
    "```\n",
    "my_list.append('new item')\n",
    "np.append(my_array, 5) # new element must be of the same type as all other elements\n",
    "```\n",
    "\n",
    "Links to python docs:  \n",
    "[Lists](https://docs.python.org/3/tutorial/datastructures.html), [arrays](https://docs.scipy.org/doc/numpy-1.15.1/reference/generated/numpy.array.html), [more on arrays](https://docs.scipy.org/doc/numpy-1.15.0/user/basics.creation.html)"
   ]
  },
  {
   "cell_type": "code",
   "execution_count": 65,
   "metadata": {},
   "outputs": [],
   "source": [
    "my_list = [1, 2, 3]\n",
    "my_array = np.array([1, 2, 3])"
   ]
  },
  {
   "cell_type": "code",
   "execution_count": 66,
   "metadata": {},
   "outputs": [
    {
     "data": {
      "text/plain": [
       "1"
      ]
     },
     "execution_count": 66,
     "metadata": {},
     "output_type": "execute_result"
    }
   ],
   "source": [
    "# Both indexed by position\n",
    "my_list[0]"
   ]
  },
  {
   "cell_type": "code",
   "execution_count": 67,
   "metadata": {},
   "outputs": [
    {
     "data": {
      "text/plain": [
       "1"
      ]
     },
     "execution_count": 67,
     "metadata": {},
     "output_type": "execute_result"
    }
   ],
   "source": [
    "my_array[0]"
   ]
  },
  {
   "cell_type": "code",
   "execution_count": 68,
   "metadata": {},
   "outputs": [
    {
     "data": {
      "text/plain": [
       "array([0.33333333, 0.66666667, 1.        ])"
      ]
     },
     "execution_count": 68,
     "metadata": {},
     "output_type": "execute_result"
    }
   ],
   "source": [
    "my_array/3"
   ]
  },
  {
   "cell_type": "code",
   "execution_count": 69,
   "metadata": {},
   "outputs": [
    {
     "ename": "TypeError",
     "evalue": "unsupported operand type(s) for /: 'list' and 'int'",
     "output_type": "error",
     "traceback": [
      "\u001b[1;31m---------------------------------------------------------------------------\u001b[0m",
      "\u001b[1;31mTypeError\u001b[0m                                 Traceback (most recent call last)",
      "\u001b[1;32m<ipython-input-69-344e5631acd2>\u001b[0m in \u001b[0;36m<module>\u001b[1;34m\u001b[0m\n\u001b[1;32m----> 1\u001b[1;33m \u001b[0mmy_list\u001b[0m\u001b[1;33m/\u001b[0m\u001b[1;36m3\u001b[0m\u001b[1;33m\u001b[0m\u001b[1;33m\u001b[0m\u001b[0m\n\u001b[0m",
      "\u001b[1;31mTypeError\u001b[0m: unsupported operand type(s) for /: 'list' and 'int'"
     ]
    }
   ],
   "source": [
    "my_list/3"
   ]
  },
  {
   "cell_type": "code",
   "execution_count": 70,
   "metadata": {},
   "outputs": [
    {
     "data": {
      "text/plain": [
       "[1, 2, 3, 5]"
      ]
     },
     "execution_count": 70,
     "metadata": {},
     "output_type": "execute_result"
    }
   ],
   "source": [
    "my_list.append(5) # inplace\n",
    "my_list"
   ]
  },
  {
   "cell_type": "code",
   "execution_count": 73,
   "metadata": {},
   "outputs": [
    {
     "data": {
      "text/plain": [
       "array([1, 2, 3, 5, 5])"
      ]
     },
     "execution_count": 73,
     "metadata": {},
     "output_type": "execute_result"
    }
   ],
   "source": [
    "my_array = np.append(my_array, 5) # cannot do inplace because not always contiguous memory\n",
    "my_array"
   ]
  },
  {
   "cell_type": "code",
   "execution_count": 74,
   "metadata": {},
   "outputs": [
    {
     "data": {
      "text/plain": [
       "7"
      ]
     },
     "execution_count": 74,
     "metadata": {},
     "output_type": "execute_result"
    }
   ],
   "source": [
    "lst = [1, 7, 3, 5]\n",
    "def get_element(lst):\n",
    "  new_lst = []\n",
    "  for i in lst:\n",
    "    new_lst.append(i**2)\n",
    "    return lst[1]\n",
    "get_element(lst)"
   ]
  },
  {
   "cell_type": "markdown",
   "metadata": {},
   "source": [
    "### Exercise: Sets\n",
    "\n",
    "1. Join these two sets: `set1 = {\"a\", \"b\" , \"c\"}` and `set2 = {1, 2, 3}`\n",
    "2. Check if \"apple\" is present in `fruits = {\"apple\", \"banana\", \"cherry\"}`\n",
    "3. Insert set 2 into set 1. `set1 = {\"a\", \"b\" , \"c\"}` `set2 = {1, 2, 3}`\n",
    "4. Show the values that appear in both Set A and Set B. `A = {1, 2, 3, 4, 5}` `B = {4, 5, 6, 7, 8}`\n",
    "5. Show all the values in A and B. `A = {2, 4, 6}` `B = {1, 3, 5}`\n",
    "6. Show only values that appear in A and not B. `A = {1, 2, 3, 4, 5}` `B = {4, 5, 6, 7, 8}`\n",
    "7. Show values of A and B without the intersection. `A = {10, 11, 12, 13, 14, 15}` `B = {14, 15, 16, 17, 18}`\n",
    "8. Extract and print out all the values in Days. `Days=\"Mon\",\"Tue\",\"Wed\",\"Thu\",\"Fri\",\"Sat\",\"Sun\"`\n",
    "9. Compare whether DaysA is a subset of DaysB. `DaysA = \"Mon\",\"Tue\",\"Wed\"` `DaysB = \"Mon\",\"Tue\",\"Wed\",\"Thu\",\"Fri\",\"Sat\",\"Sun\"]`\n",
    "10. Find out whether DaysB is a superset of DaysA."
   ]
  },
  {
   "cell_type": "code",
   "execution_count": 41,
   "metadata": {},
   "outputs": [
    {
     "data": {
      "text/plain": [
       "{1, 2, 3, 'a', 'b', 'c'}"
      ]
     },
     "execution_count": 41,
     "metadata": {},
     "output_type": "execute_result"
    }
   ],
   "source": [
    "## Q1\n",
    "set1 = {'a','b','c'}\n",
    "set2 = {1, 2, 3}\n",
    "set3 = set1.union(set2)\n",
    "set3"
   ]
  },
  {
   "cell_type": "code",
   "execution_count": 42,
   "metadata": {},
   "outputs": [
    {
     "name": "stdout",
     "output_type": "stream",
     "text": [
      "Yes, 'apple' is in this set\n"
     ]
    }
   ],
   "source": [
    "##Q2\n",
    "fruits = {\"apple\", \"banana\", \"cherry\"}\n",
    "if \"apple\" in fruits:\n",
    "  print(\"Yes, 'apple' is in this set\")"
   ]
  },
  {
   "cell_type": "code",
   "execution_count": 47,
   "metadata": {},
   "outputs": [
    {
     "data": {
      "text/plain": [
       "{1, 2, 3, 'a', 'b', 'c'}"
      ]
     },
     "execution_count": 47,
     "metadata": {},
     "output_type": "execute_result"
    }
   ],
   "source": [
    "##Q3\n",
    "set1 = {\"a\", \"b\" , \"c\"}\n",
    "set2 = {1, 2, 3}\n",
    "set1.update(set2)\n",
    "set1"
   ]
  },
  {
   "cell_type": "code",
   "execution_count": 48,
   "metadata": {},
   "outputs": [
    {
     "name": "stdout",
     "output_type": "stream",
     "text": [
      "{4, 5}\n"
     ]
    }
   ],
   "source": [
    "##Q4\n",
    "A = {1, 2, 3, 4, 5}\n",
    "B = {4, 5, 6, 7, 8}\n",
    "print(A.intersection(B))"
   ]
  },
  {
   "cell_type": "code",
   "execution_count": 51,
   "metadata": {},
   "outputs": [
    {
     "data": {
      "text/plain": [
       "{1, 2, 3, 4, 5, 6}"
      ]
     },
     "execution_count": 51,
     "metadata": {},
     "output_type": "execute_result"
    }
   ],
   "source": [
    "##Q5\n",
    "A = {2, 4, 6}\n",
    "B = {1, 3, 5}\n",
    "C=A.union(B)\n",
    "C"
   ]
  },
  {
   "cell_type": "code",
   "execution_count": 52,
   "metadata": {},
   "outputs": [
    {
     "name": "stdout",
     "output_type": "stream",
     "text": [
      "{1, 2, 3}\n"
     ]
    }
   ],
   "source": [
    "##Q6\n",
    "A = {1, 2, 3, 4, 5}\n",
    "B = {4, 5, 6, 7, 8}\n",
    "print(A.difference(B))"
   ]
  },
  {
   "cell_type": "code",
   "execution_count": 53,
   "metadata": {},
   "outputs": [
    {
     "name": "stdout",
     "output_type": "stream",
     "text": [
      "{10, 11, 12, 13, 16, 17, 18}\n"
     ]
    }
   ],
   "source": [
    "##Q7\n",
    "A = {10, 11, 12, 13, 14, 15}\n",
    "B = {14, 15, 16, 17, 18}\n",
    "print(A.symmetric_difference(B))"
   ]
  },
  {
   "cell_type": "code",
   "execution_count": 55,
   "metadata": {},
   "outputs": [
    {
     "name": "stdout",
     "output_type": "stream",
     "text": [
      "['Mon', 'Tue', 'Wed', 'Thu', 'Fri', 'Sat', 'Sun']\n"
     ]
    }
   ],
   "source": [
    "##Q8\n",
    "Days=\"Mon\",\"Tue\",\"Wed\",\"Thu\",\"Fri\",\"Sat\",\"Sun\"\n",
    "print(set(Days))"
   ]
  },
  {
   "cell_type": "code",
   "execution_count": 57,
   "metadata": {},
   "outputs": [
    {
     "data": {
      "text/plain": [
       "True"
      ]
     },
     "execution_count": 57,
     "metadata": {},
     "output_type": "execute_result"
    }
   ],
   "source": [
    "##Q9\n",
    "DaysA = {\"Mon\",\"Tue\",\"Wed\"}\n",
    "DaysB = {\"Mon\",\"Tue\",\"Wed\",\"Thu\",\"Fri\",\"Sat\",\"Sun\"}\n",
    "DaysA.issubset(DaysB)"
   ]
  },
  {
   "cell_type": "code",
   "execution_count": 60,
   "metadata": {},
   "outputs": [
    {
     "data": {
      "text/plain": [
       "True"
      ]
     },
     "execution_count": 60,
     "metadata": {},
     "output_type": "execute_result"
    }
   ],
   "source": [
    "##Q10\n",
    "DaysA = {\"Mon\",\"Tue\",\"Wed\"}\n",
    "DaysB = {\"Mon\",\"Tue\",\"Wed\",\"Thu\",\"Fri\",\"Sat\",\"Sun\"}\n",
    "DaysB.issuperset(DaysA)"
   ]
  },
  {
   "cell_type": "markdown",
   "metadata": {},
   "source": [
    "### Exercise: Maths\n",
    "\n",
    "1. $c=\\frac{3+a}{1-n}$, where a=1 and n=10, solve c\n",
    "2. Find the factorial of 12, $12!$\n",
    "3. $CI = mean\\pm 1.96*\\sqrt{\\frac{p(1-p)}{n}}$, where mean=45.6, p = 0.54 and n= 1118. Solve CI.\n",
    "4. Pythagoras Theorem: $c = \\sqrt{a^2+b^2}$ where a = 3 and b=4, solve C\n",
    "5. Generate 1000 random normal distribution numbers with mean=50, sd=1 and plot a histogram. Use `seed=1234`\n",
    "6. Generate 100 random normal distribution numbers with mean=0, sd=1 and plot a qqplot. Use `seed=1234`. Use the `statsmodel.api` library. Interpret the plot.\n",
    "7. Generate five trials of 10 observations of a uniform random variable on `[0,1)`.  Use `seed=1234`. Plot a boxplot. Interpret the plot.\n",
    "8. Calculate the standard deviation for A. `A = [11,15,17,18,19]`. Standard Deviation, $std = \\sqrt{\\frac{1}{N} \\sum_{i=1}^N (x_i - \\overline{x})^2}$\n",
    "9. Solve the following equations using `Sympy library`:\n",
    "$$2x^2+y+z=1$$\n",
    "$$x+2y+z=c_1$$\n",
    "$$-2x+y=-z$$\n",
    "10. Generate 100 equal distance numbers from the range of 0 to 1 as store into A. Random sampling 50 numbers from A and plot the distribution. Use `seed=1234`."
   ]
  },
  {
   "cell_type": "code",
   "execution_count": 62,
   "metadata": {},
   "outputs": [
    {
     "data": {
      "text/plain": [
       "-0.4444444444444444"
      ]
     },
     "execution_count": 62,
     "metadata": {},
     "output_type": "execute_result"
    }
   ],
   "source": [
    "##Q1\n",
    "c = ((3+1)/(1-10))\n",
    "c"
   ]
  },
  {
   "cell_type": "code",
   "execution_count": 13,
   "metadata": {},
   "outputs": [
    {
     "data": {
      "text/plain": [
       "479001600"
      ]
     },
     "execution_count": 13,
     "metadata": {},
     "output_type": "execute_result"
    }
   ],
   "source": [
    "##Q2\n",
    "import math\n",
    "f=math.factorial(12)\n",
    "f"
   ]
  },
  {
   "cell_type": "code",
   "execution_count": 14,
   "metadata": {},
   "outputs": [
    {
     "data": {
      "text/plain": [
       "(45.57078465862367, 45.62921534137633)"
      ]
     },
     "execution_count": 14,
     "metadata": {},
     "output_type": "execute_result"
    }
   ],
   "source": [
    "##Q3\n",
    "CI= (45.6-1.96*math.sqrt((0.54*(1-0.54)/1118)),45.6+1.96*math.sqrt((0.54*(1-0.54)/1118)))\n",
    "CI"
   ]
  },
  {
   "cell_type": "code",
   "execution_count": 71,
   "metadata": {},
   "outputs": [
    {
     "data": {
      "text/plain": [
       "5.0"
      ]
     },
     "execution_count": 71,
     "metadata": {},
     "output_type": "execute_result"
    }
   ],
   "source": [
    "##Q4\n",
    "pythag=math.sqrt(3**2+4**2)\n",
    "pythag"
   ]
  },
  {
   "cell_type": "code",
   "execution_count": 21,
   "metadata": {},
   "outputs": [
    {
     "data": {
      "image/png": "[encoded data removed]",
      "text/plain": [
       "<Figure size 640x480 with 1 Axes>"
      ]
     },
     "metadata": {},
     "output_type": "display_data"
    }
   ],
   "source": [
    "##Q5\n",
    "import numpy as np\n",
    "import matplotlib.pyplot as plt\n",
    "np.random.seed(1234)\n",
    "random_numbers = np.random.normal(50, 1, 1000)\n",
    "plt.hist(random_numbers)\n",
    "plt.xlabel('Values')\n",
    "plt.ylabel('Frequency')\n",
    "plt.title('Histogram of Random Numbers')\n",
    "plt.show()"
   ]
  },
  {
   "cell_type": "code",
   "execution_count": 3,
   "metadata": {},
   "outputs": [
    {
     "data": {
      "image/png": "[encoded data removed]",
      "text/plain": [
       "<Figure size 640x480 with 1 Axes>"
      ]
     },
     "metadata": {},
     "output_type": "display_data"
    }
   ],
   "source": [
    "##Q6\n",
    "import statsmodels.api as sm\n",
    "np.random.seed(1234)\n",
    "\n",
    "mean = 0\n",
    "std_dev = 1\n",
    "sample_size = 100\n",
    "\n",
    "random_numbers = np.random.normal(0, 1, 100)\n",
    "\n",
    "sm.qqplot(random_numbers, line='s')\n",
    "plt.xlabel('Theoretical Quantiles')\n",
    "plt.ylabel('Sample Quantiles')\n",
    "plt.title('QQ Plot')\n",
    "plt.show()"
   ]
  },
  {
   "cell_type": "code",
   "execution_count": 4,
   "metadata": {},
   "outputs": [
    {
     "data": {
      "image/png": "[encoded data removed]",
      "text/plain": [
       "<Figure size 640x480 with 1 Axes>"
      ]
     },
     "metadata": {},
     "output_type": "display_data"
    }
   ],
   "source": [
    "##Q7\n",
    "np.random.seed(1234)\n",
    "\n",
    "num_trials = 5\n",
    "sample_size = 10\n",
    "\n",
    "trials = np.random.uniform(0, 1, size=(num_trials, sample_size))\n",
    "\n",
    "plt.boxplot(trials)\n",
    "plt.xlabel('Trial')\n",
    "plt.ylabel('Observations')\n",
    "plt.title('Boxplot of Uniform Random Variables')\n",
    "plt.show()\n",
    "\n"
   ]
  },
  {
   "cell_type": "code",
   "execution_count": 6,
   "metadata": {},
   "outputs": [
    {
     "data": {
      "text/plain": [
       "2.8284271247461903"
      ]
     },
     "execution_count": 6,
     "metadata": {},
     "output_type": "execute_result"
    }
   ],
   "source": [
    "##Q8\n",
    "A = [11,15,17,18,19]\n",
    "np.std(A)\n",
    "# 2.8284271247461903"
   ]
  },
  {
   "cell_type": "code",
   "execution_count": 19,
   "metadata": {},
   "outputs": [
    {
     "name": "stdout",
     "output_type": "stream",
     "text": [
      "[(-1/2 + sqrt(3)/2, 𝑐 - 3*sqrt(3)/2 + 3/2, -𝑐 - 5/2 + 5*sqrt(3)/2), (-sqrt(3)/2 - 1/2, 𝑐 + 3/2 + 3*sqrt(3)/2, -𝑐 - 5*sqrt(3)/2 - 5/2)]\n"
     ]
    }
   ],
   "source": [
    "##Q9\n",
    "from sympy import symbols, Eq, solve\n",
    "𝑥, 𝑦, 𝑧, 𝑐 = symbols('𝑥 𝑦 𝑧 𝑐')\n",
    "equation1 = Eq(2*𝑥**2 + 𝑦 + 𝑧, 1)\n",
    "equation2 = Eq(𝑥 + 2*𝑦 + 𝑧, 𝑐)\n",
    "equation3 = Eq(-2*𝑥 + 𝑦, -𝑧)\n",
    "solution = solve((equation1, equation2, equation3), (𝑥, 𝑦, 𝑧))\n",
    "print(solution)"
   ]
  },
  {
   "cell_type": "code",
   "execution_count": 24,
   "metadata": {},
   "outputs": [
    {
     "data": {
      "image/png": "[encoded data removed]",
      "text/plain": [
       "<Figure size 640x480 with 1 Axes>"
      ]
     },
     "metadata": {},
     "output_type": "display_data"
    }
   ],
   "source": [
    "##Q10\n",
    "\n",
    "np.random.seed(1234)\n",
    "\n",
    "A = np.linspace(0, 1, 100)\n",
    "sample_size = 50\n",
    "\n",
    "random_sample = np.random.choice(A, size=sample_size)\n",
    "\n",
    "plt.hist(random_sample, bins=10)\n",
    "plt.xlabel('Values')\n",
    "plt.ylabel('Frequency')\n",
    "plt.title('Distribution of Random Sample')\n",
    "plt.show()"
   ]
  }
 ],
 "metadata": {
  "kernelspec": {
   "display_name": "Python 3 (ipykernel)",
   "language": "python",
   "name": "python3"
  },
  "language_info": {
   "codemirror_mode": {
    "name": "ipython",
    "version": 3
   },
   "file_extension": ".py",
   "mimetype": "text/x-python",
   "name": "python",
   "nbconvert_exporter": "python",
   "pygments_lexer": "ipython3",
   "version": "3.9.16"
  }
 },
 "nbformat": 4,
 "nbformat_minor": 4
}
