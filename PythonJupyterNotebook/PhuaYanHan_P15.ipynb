{
 "cells": [
  {
   "cell_type": "markdown",
   "metadata": {},
   "source": [
    "<img src=\"https://i.imgur.com/FoKB5Z5.png\" align=\"left\" width=\"300\" height=\"250\" title=\"source: imgur.com\" /></a>"
   ]
  },
  {
   "cell_type": "markdown",
   "metadata": {},
   "source": [
    "## Program Code: J620-002-4:2020 \n",
    "\n",
    "## Program Name: FRONT-END SOFTWARE DEVELOPMENT\n",
    "\n",
    "## Title :  Selenium and BeautifulSoup Examples\n",
    "\n",
    "#### Name: Phua Yan Han\n",
    "\n",
    "#### IC Number: 050824070059\n",
    "\n",
    "#### Date : 4/7/23\n",
    "\n",
    "#### Introduction : learning beautiful soup with selenium\n",
    "\n",
    "\n",
    "\n",
    "#### Conclusion :\n",
    "\n",
    "\n",
    "\n",
    "\n"
   ]
  },
  {
   "cell_type": "markdown",
   "metadata": {},
   "source": [
    "# P15 - Selenium and BeautifulSoup Examples"
   ]
  },
  {
   "cell_type": "code",
   "execution_count": 4,
   "metadata": {},
   "outputs": [],
   "source": [
    "import time\n",
    "\n",
    "from selenium import webdriver\n",
    "from bs4 import BeautifulSoup\n",
    "\n",
    "driver = webdriver.Chrome('C:\\\\Users\\Asus\\Documents\\ChromeDriver\\chromedriver\\chromedriver')\n",
    "\n",
    "driver.get(\"https://www.ebay.com.my\")"
   ]
  },
  {
   "cell_type": "code",
   "execution_count": 2,
   "metadata": {},
   "outputs": [],
   "source": [
    "#webdriver: https://github.com/mozilla/geckodriver/releases\n",
    "\n",
    "from selenium import webdriver\n",
    "from selenium.webdriver.common.keys import Keys\n",
    "\n",
    "driver = webdriver.Chrome('C:\\\\Users\\Asus\\Documents\\ChromeDriver\\chromedriver\\chromedriver')\n",
    "driver.get(\"https://www.ebay.com.my\")\n"
   ]
  },
  {
   "cell_type": "code",
   "execution_count": 5,
   "metadata": {},
   "outputs": [],
   "source": [
    "# Page 1\n",
    "driver.find_element_by_id(\"gh-ac\").send_keys(\"Proton\")\n",
    "\n",
    "time.sleep(1)\n",
    "\n",
    "driver.find_element_by_id(\"gh-btn\").click()\n"
   ]
  },
  {
   "cell_type": "code",
   "execution_count": 12,
   "metadata": {},
   "outputs": [
    {
     "ename": "InvalidSessionIdException",
     "evalue": "Message: invalid session id\n",
     "output_type": "error",
     "traceback": [
      "\u001b[1;31m---------------------------------------------------------------------------\u001b[0m",
      "\u001b[1;31mInvalidSessionIdException\u001b[0m                 Traceback (most recent call last)",
      "Cell \u001b[1;32mIn[12], line 2\u001b[0m\n\u001b[0;32m      1\u001b[0m \u001b[38;5;66;03m# Page 2\u001b[39;00m\n\u001b[1;32m----> 2\u001b[0m soup \u001b[38;5;241m=\u001b[39m BeautifulSoup(\u001b[43mdriver\u001b[49m\u001b[38;5;241;43m.\u001b[39;49m\u001b[43mpage_source\u001b[49m,\u001b[38;5;124m'\u001b[39m\u001b[38;5;124mhtml.parser\u001b[39m\u001b[38;5;124m'\u001b[39m)\n\u001b[0;32m      4\u001b[0m time\u001b[38;5;241m.\u001b[39msleep(\u001b[38;5;241m1\u001b[39m)\n\u001b[0;32m      6\u001b[0m soup_list \u001b[38;5;241m=\u001b[39m soup\u001b[38;5;241m.\u001b[39mfindAll(\u001b[38;5;124m\"\u001b[39m\u001b[38;5;124mh3\u001b[39m\u001b[38;5;124m\"\u001b[39m, attrs\u001b[38;5;241m=\u001b[39m{\u001b[38;5;124m\"\u001b[39m\u001b[38;5;124mclass\u001b[39m\u001b[38;5;124m\"\u001b[39m:\u001b[38;5;124m\"\u001b[39m\u001b[38;5;124mgh-sbc-parent\u001b[39m\u001b[38;5;124m\"\u001b[39m})\n",
      "File \u001b[1;32m~\\anaconda3\\envs\\python-dscourse\\lib\\site-packages\\selenium\\webdriver\\remote\\webdriver.py:679\u001b[0m, in \u001b[0;36mWebDriver.page_source\u001b[1;34m(self)\u001b[0m\n\u001b[0;32m    671\u001b[0m \u001b[38;5;129m@property\u001b[39m\n\u001b[0;32m    672\u001b[0m \u001b[38;5;28;01mdef\u001b[39;00m \u001b[38;5;21mpage_source\u001b[39m(\u001b[38;5;28mself\u001b[39m):\n\u001b[0;32m    673\u001b[0m \u001b[38;5;250m    \u001b[39m\u001b[38;5;124;03m\"\"\"\u001b[39;00m\n\u001b[0;32m    674\u001b[0m \u001b[38;5;124;03m    Gets the source of the current page.\u001b[39;00m\n\u001b[0;32m    675\u001b[0m \n\u001b[0;32m    676\u001b[0m \u001b[38;5;124;03m    :Usage:\u001b[39;00m\n\u001b[0;32m    677\u001b[0m \u001b[38;5;124;03m        driver.page_source\u001b[39;00m\n\u001b[0;32m    678\u001b[0m \u001b[38;5;124;03m    \"\"\"\u001b[39;00m\n\u001b[1;32m--> 679\u001b[0m     \u001b[38;5;28;01mreturn\u001b[39;00m \u001b[38;5;28;43mself\u001b[39;49m\u001b[38;5;241;43m.\u001b[39;49m\u001b[43mexecute\u001b[49m\u001b[43m(\u001b[49m\u001b[43mCommand\u001b[49m\u001b[38;5;241;43m.\u001b[39;49m\u001b[43mGET_PAGE_SOURCE\u001b[49m\u001b[43m)\u001b[49m[\u001b[38;5;124m'\u001b[39m\u001b[38;5;124mvalue\u001b[39m\u001b[38;5;124m'\u001b[39m]\n",
      "File \u001b[1;32m~\\anaconda3\\envs\\python-dscourse\\lib\\site-packages\\selenium\\webdriver\\remote\\webdriver.py:321\u001b[0m, in \u001b[0;36mWebDriver.execute\u001b[1;34m(self, driver_command, params)\u001b[0m\n\u001b[0;32m    319\u001b[0m response \u001b[38;5;241m=\u001b[39m \u001b[38;5;28mself\u001b[39m\u001b[38;5;241m.\u001b[39mcommand_executor\u001b[38;5;241m.\u001b[39mexecute(driver_command, params)\n\u001b[0;32m    320\u001b[0m \u001b[38;5;28;01mif\u001b[39;00m response:\n\u001b[1;32m--> 321\u001b[0m     \u001b[38;5;28;43mself\u001b[39;49m\u001b[38;5;241;43m.\u001b[39;49m\u001b[43merror_handler\u001b[49m\u001b[38;5;241;43m.\u001b[39;49m\u001b[43mcheck_response\u001b[49m\u001b[43m(\u001b[49m\u001b[43mresponse\u001b[49m\u001b[43m)\u001b[49m\n\u001b[0;32m    322\u001b[0m     response[\u001b[38;5;124m'\u001b[39m\u001b[38;5;124mvalue\u001b[39m\u001b[38;5;124m'\u001b[39m] \u001b[38;5;241m=\u001b[39m \u001b[38;5;28mself\u001b[39m\u001b[38;5;241m.\u001b[39m_unwrap_value(\n\u001b[0;32m    323\u001b[0m         response\u001b[38;5;241m.\u001b[39mget(\u001b[38;5;124m'\u001b[39m\u001b[38;5;124mvalue\u001b[39m\u001b[38;5;124m'\u001b[39m, \u001b[38;5;28;01mNone\u001b[39;00m))\n\u001b[0;32m    324\u001b[0m     \u001b[38;5;28;01mreturn\u001b[39;00m response\n",
      "File \u001b[1;32m~\\anaconda3\\envs\\python-dscourse\\lib\\site-packages\\selenium\\webdriver\\remote\\errorhandler.py:242\u001b[0m, in \u001b[0;36mErrorHandler.check_response\u001b[1;34m(self, response)\u001b[0m\n\u001b[0;32m    240\u001b[0m         alert_text \u001b[38;5;241m=\u001b[39m value[\u001b[38;5;124m'\u001b[39m\u001b[38;5;124malert\u001b[39m\u001b[38;5;124m'\u001b[39m]\u001b[38;5;241m.\u001b[39mget(\u001b[38;5;124m'\u001b[39m\u001b[38;5;124mtext\u001b[39m\u001b[38;5;124m'\u001b[39m)\n\u001b[0;32m    241\u001b[0m     \u001b[38;5;28;01mraise\u001b[39;00m exception_class(message, screen, stacktrace, alert_text)\n\u001b[1;32m--> 242\u001b[0m \u001b[38;5;28;01mraise\u001b[39;00m exception_class(message, screen, stacktrace)\n",
      "\u001b[1;31mInvalidSessionIdException\u001b[0m: Message: invalid session id\n"
     ]
    }
   ],
   "source": [
    "# Page 2\n",
    "soup = BeautifulSoup(driver.page_source,'html.parser')\n",
    "\n",
    "time.sleep(1)\n",
    "\n",
    "soup_list = soup.findAll(\"h3\", attrs={\"class\":\"gh-sbc-parent\"})\n",
    "\n",
    "# soup_list = soup.findAll(\"h3\", attrs={\"class\":\"gh-sbc-parent\"})[0]\n",
    "\n",
    "print(soup_list)\n",
    "\n",
    "soup_list = soup.findAll(\"a\", attrs={\"class\":\"scnd\"})[0]\n",
    "print(soup_list)"
   ]
  },
  {
   "cell_type": "code",
   "execution_count": 7,
   "metadata": {},
   "outputs": [
    {
     "name": "stdout",
     "output_type": "stream",
     "text": [
      "https://www.ebay.com.my/b/Collectible-Animation-Art-Characters/13658/bn_1849452\n"
     ]
    }
   ],
   "source": [
    "# Page 2\n",
    "soup = BeautifulSoup(driver.page_source,'html.parser')\n",
    "\n",
    "soup_list = soup.findAll(\"a\", attrs={\"class\":\"scnd\"})[0]['href']\n",
    "\n",
    "print(soup_list)\n"
   ]
  },
  {
   "cell_type": "code",
   "execution_count": 8,
   "metadata": {},
   "outputs": [
    {
     "name": "stdout",
     "output_type": "stream",
     "text": [
      "https://www.ebay.com.my/b/Collectible-Animation-Art-Characters/13658/bn_1849452\n"
     ]
    }
   ],
   "source": [
    "# Page 2\n",
    "soup = BeautifulSoup(driver.page_source,'html.parser')\n",
    "\n",
    "soup_list = soup.findAll(\"a\", attrs={\"class\":\"scnd\"})[0]['href']\n",
    "\n",
    "driver.get(soup_list)\n",
    "\n",
    "time.sleep(1)\n",
    "\n",
    "print(soup_list)"
   ]
  },
  {
   "cell_type": "code",
   "execution_count": 9,
   "metadata": {},
   "outputs": [
    {
     "name": "stdout",
     "output_type": "stream",
     "text": [
      "https://www.ebay.com.my/n/all-categories\n"
     ]
    }
   ],
   "source": [
    "# Page 3\n",
    "soup = BeautifulSoup(driver.page_source,'html.parser')\n",
    "\n",
    "soup_button = soup.find(\"a\",attrs={\"id\":\"gh-shop-see-all\"})['href']\n",
    "\n",
    "driver.get(soup_button)\n",
    "\n",
    "time.sleep(1)\n",
    "\n",
    "print(soup_button)\n",
    "\n",
    "#driver.close()\n"
   ]
  },
  {
   "cell_type": "markdown",
   "metadata": {},
   "source": [
    "### find_element_by_xpath"
   ]
  },
  {
   "cell_type": "code",
   "execution_count": 10,
   "metadata": {},
   "outputs": [
    {
     "name": "stdout",
     "output_type": "stream",
     "text": [
      "<table class=\"infobox\"><caption class=\"infobox-title\">International Space Station</caption><tbody><tr><td colspan=\"2\" class=\"infobox-image\"><a href=\"/wiki/File:The_station_pictured_from_the_SpaceX_Crew_Dragon_5_(cropped).jpg\" class=\"image\"><img alt=\"A forward view of the International Space Station with limb of the Earth in the background. In view are the station's sixteen paired maroon-coloured main solar array wings, eight on either side of the station, mounted to a central integrated truss structure. Spaced along the truss are ten white radiators. Mounted to the base of the two rightmost main solar arrays pairs, there are two smaller paired light brown- coloured ISS Roll-out Solar Arrays. Attached to the centre of the truss is a cluster of pressurised modules arranged in an elongated T shape. A set of solar arrays are mounted to the module at the aft end of the cluster.\" src=\"//upload.wikimedia.org/wikipedia/commons/thumb/e/e1/The_station_pictured_from_the_SpaceX_Crew_Dragon_5_%28cropped%29.jpg/240px-The_station_pictured_from_the_SpaceX_Crew_Dragon_5_%28cropped%29.jpg\" decoding=\"async\" width=\"240\" height=\"138\" srcset=\"//upload.wikimedia.org/wikipedia/commons/thumb/e/e1/The_station_pictured_from_the_SpaceX_Crew_Dragon_5_%28cropped%29.jpg/360px-The_station_pictured_from_the_SpaceX_Crew_Dragon_5_%28cropped%29.jpg 1.5x, //upload.wikimedia.org/wikipedia/commons/thumb/e/e1/The_station_pictured_from_the_SpaceX_Crew_Dragon_5_%28cropped%29.jpg/480px-The_station_pictured_from_the_SpaceX_Crew_Dragon_5_%28cropped%29.jpg 2x\" data-file-width=\"6633\" data-file-height=\"3820\"></a><div class=\"infobox-caption\" style=\"line-height:15px;\">Oblique forward view in November 2021</div></td></tr><tr><td colspan=\"2\" class=\"infobox-image\"><a href=\"/wiki/File:ISS_insignia.svg\" class=\"image\"><img alt=\"ISS insignia.svg\" src=\"//upload.wikimedia.org/wikipedia/commons/thumb/b/bb/ISS_insignia.svg/110px-ISS_insignia.svg.png\" decoding=\"async\" width=\"110\" height=\"136\" srcset=\"//upload.wikimedia.org/wikipedia/commons/thumb/b/bb/ISS_insignia.svg/165px-ISS_insignia.svg.png 1.5x, //upload.wikimedia.org/wikipedia/commons/thumb/b/bb/ISS_insignia.svg/220px-ISS_insignia.svg.png 2x\" data-file-width=\"800\" data-file-height=\"990\"></a> <a href=\"/wiki/File:ISS_emblem.png\" class=\"image\"><img alt=\"ISS emblem.png\" src=\"//upload.wikimedia.org/wikipedia/commons/thumb/1/15/ISS_emblem.png/130px-ISS_emblem.png\" decoding=\"async\" width=\"130\" height=\"130\" srcset=\"//upload.wikimedia.org/wikipedia/commons/thumb/1/15/ISS_emblem.png/195px-ISS_emblem.png 1.5x, //upload.wikimedia.org/wikipedia/commons/thumb/1/15/ISS_emblem.png/260px-ISS_emblem.png 2x\" data-file-width=\"1891\" data-file-height=\"1891\"></a><div class=\"infobox-caption\" style=\"line-height:15px;\"><a href=\"/wiki/International_Space_Station_programme\" title=\"International Space Station programme\">International Space Station program</a> insignia</div></td></tr><tr><th colspan=\"2\" class=\"infobox-header\">Station statistics</th></tr><tr><th scope=\"row\" class=\"infobox-label\"><a href=\"/wiki/International_Designator\" title=\"International Designator\">COSPAR ID</a></th><td class=\"infobox-data\">1998-067A</td></tr><tr><th scope=\"row\" class=\"infobox-label\"><a href=\"/wiki/Satellite_Catalog_Number\" title=\"Satellite Catalog Number\">SATCAT <abbr title=\"number\">no.</abbr></a></th><td class=\"infobox-data\">25544</td></tr><tr><th scope=\"row\" class=\"infobox-label\"><a href=\"/wiki/Call_sign\" title=\"Call sign\">Call sign</a></th><td class=\"infobox-data\"><i>Alpha</i>, <i>Station</i></td></tr><tr><th scope=\"row\" class=\"infobox-label\">Crew</th><td class=\"infobox-data\"><style data-mw-deduplicate=\"TemplateStyles:r1126788409\">.mw-parser-output .plainlist ol,.mw-parser-output .plainlist ul{line-height:inherit;list-style:none;margin:0;padding:0}.mw-parser-output .plainlist ol li,.mw-parser-output .plainlist ul li{margin-bottom:0}</style><div class=\"plainlist\"><ul><li>Fully crewed: 7</li><li>Currently aboard: 7<br>(<a href=\"/wiki/Soyuz_MS-23\" title=\"Soyuz MS-23\">Soyuz MS-23</a> <a href=\"/wiki/SpaceX_Crew-6\" title=\"SpaceX Crew-6\">Crew-6</a>)</li><li><a href=\"/wiki/List_of_International_Space_Station_expeditions\" title=\"List of International Space Station expeditions\">Expedition</a>: <a href=\"/wiki/Expedition_69\" title=\"Expedition 69\">69</a></li><li><a href=\"/wiki/List_of_commanders_of_the_International_Space_Station\" title=\"List of commanders of the International Space Station\">Commander</a>: <a href=\"/wiki/Sergey_Prokopyev_(cosmonaut)\" title=\"Sergey Prokopyev (cosmonaut)\">Sergey Prokopyev</a> (<a href=\"/wiki/Roscosmos\" title=\"Roscosmos\">Roscosmos</a>)</li></ul></div></td></tr><tr><th scope=\"row\" class=\"infobox-label\"><a href=\"/wiki/Rocket_launch\" class=\"mw-redirect\" title=\"Rocket launch\">Launch</a></th><td class=\"infobox-data\">20&nbsp;November 1998<span class=\"noprint\"> (24 years ago)</span><span style=\"display:none\">&nbsp;(<span class=\"bday dtstart published updated\">1998-11-20</span>)</span></td></tr><tr><th scope=\"row\" class=\"infobox-label\"><a href=\"/wiki/Launch_pad\" title=\"Launch pad\">Launch pad</a></th><td class=\"infobox-data\"><link rel=\"mw-deduplicated-inline-style\" href=\"mw-data:TemplateStyles:r1126788409\"><div class=\"plainlist\">\n",
      "<ul><li><span class=\"nowrap\"><a href=\"/wiki/Baikonur_Cosmodrome\" title=\"Baikonur Cosmodrome\">Baikonur</a>, <a href=\"/wiki/Gagarin%27s_Start\" title=\"Gagarin's Start\">Site 1/5</a>, <a href=\"/wiki/Baikonur_Cosmodrome_Site_200\" title=\"Baikonur Cosmodrome Site 200\">Site 200/39</a>, <br> <a href=\"/wiki/Baikonur_Cosmodrome_Site_31\" title=\"Baikonur Cosmodrome Site 31\">Site 31/6</a> and <a href=\"/wiki/Baikonur_Cosmodrome_Site_81\" title=\"Baikonur Cosmodrome Site 81\">Site 81/23</a></span></li>\n",
      "<li><span class=\"nowrap\"><a href=\"/wiki/Kennedy_Space_Center\" title=\"Kennedy Space Center\">Kennedy</a>, <a href=\"/wiki/Kennedy_Space_Center_Launch_Complex_39\" title=\"Kennedy Space Center Launch Complex 39\">LC-39</a> and <a href=\"/wiki/Cape_Canaveral_Space_Force_Station\" title=\"Cape Canaveral Space Force Station\">CCSFS</a>, <a href=\"/wiki/Cape_Canaveral_Space_Launch_Complex_40\" title=\"Cape Canaveral Space Launch Complex 40\">SLC-40</a></span></li></ul>\n",
      "</div></td></tr><tr><th scope=\"row\" class=\"infobox-label\"><a href=\"/wiki/Mass\" title=\"Mass\">Mass</a></th><td class=\"infobox-data\">450,000&nbsp;kg (990,000&nbsp;lb)<sup id=\"cite_ref-1\" class=\"reference\"><a href=\"#cite_note-1\">[1]</a></sup></td></tr><tr><th scope=\"row\" class=\"infobox-label\">Length</th><td class=\"infobox-data\">109&nbsp;m (358&nbsp;ft) (Overall length), 94&nbsp;m (310&nbsp;ft) (truss length)<sup id=\"cite_ref-ISS_stats_2-0\" class=\"reference\"><a href=\"#cite_note-ISS_stats-2\">[2]</a></sup></td></tr><tr><th scope=\"row\" class=\"infobox-label\">Width</th><td class=\"infobox-data\">73&nbsp;m (239&nbsp;ft) (solar array length)<sup id=\"cite_ref-ISS_stats_2-1\" class=\"reference\"><a href=\"#cite_note-ISS_stats-2\">[2]</a></sup></td></tr><tr><th scope=\"row\" class=\"infobox-label\">Pressurised <a href=\"/wiki/Volume\" title=\"Volume\">volume</a></th><td class=\"infobox-data\">1,005.0&nbsp;m<sup>3</sup> (35,491&nbsp;cu&nbsp;ft)<sup id=\"cite_ref-ISS_stats_2-2\" class=\"reference\"><a href=\"#cite_note-ISS_stats-2\">[2]</a></sup></td></tr><tr><th scope=\"row\" class=\"infobox-label\"><a href=\"/wiki/Atmospheric_pressure\" title=\"Atmospheric pressure\">Atmospheric pressure</a></th><td class=\"infobox-data\">101.3&nbsp;<a href=\"/wiki/Pascal_(unit)\" title=\"Pascal (unit)\">kPa</a> (14.7&nbsp;<a href=\"/wiki/Pound_per_square_inch\" title=\"Pound per square inch\">psi</a>; 1.0&nbsp;<a href=\"/wiki/Atmosphere_(unit)\" class=\"mw-redirect\" title=\"Atmosphere (unit)\">atm</a>)<br>79% nitrogen, 21% oxygen</td></tr><tr><th scope=\"row\" class=\"infobox-label\"><a href=\"/wiki/Apsis\" title=\"Apsis\">Perigee altitude</a></th><td class=\"infobox-data\">413&nbsp;km (256.6&nbsp;mi) <a href=\"/wiki/Above_mean_sea_level\" class=\"mw-redirect\" title=\"Above mean sea level\">AMSL</a><sup id=\"cite_ref-heavens-above_3-0\" class=\"reference\"><a href=\"#cite_note-heavens-above-3\">[3]</a></sup></td></tr><tr><th scope=\"row\" class=\"infobox-label\"><a href=\"/wiki/Apsis\" title=\"Apsis\">Apogee altitude</a></th><td class=\"infobox-data\">422&nbsp;km (262.2&nbsp;mi) AMSL<sup id=\"cite_ref-heavens-above_3-1\" class=\"reference\"><a href=\"#cite_note-heavens-above-3\">[3]</a></sup></td></tr><tr><th scope=\"row\" class=\"infobox-label\"><a href=\"/wiki/Orbital_inclination\" title=\"Orbital inclination\">Orbital inclination</a></th><td class=\"infobox-data\">51.64°<sup id=\"cite_ref-heavens-above_3-2\" class=\"reference\"><a href=\"#cite_note-heavens-above-3\">[3]</a></sup></td></tr><tr><th scope=\"row\" class=\"infobox-label\">Orbital speed</th><td class=\"infobox-data\">7.66&nbsp;km/s<sup id=\"cite_ref-heavens-above_3-3\" class=\"reference\"><a href=\"#cite_note-heavens-above-3\">[3]</a></sup><sup class=\"noprint Inline-Template\" style=\"white-space:nowrap;\">[<i><a href=\"/wiki/Wikipedia:Verifiability\" title=\"Wikipedia:Verifiability\"><span title=\"Page does not mention orbital speed, just some of the other orbital parameters. This reference should be removed for this value? (May 2021)\">failed verification</span></a></i>]</sup>27,600&nbsp;km/h; 17,100&nbsp;mph</td></tr><tr><th scope=\"row\" class=\"infobox-label\"><a href=\"/wiki/Orbital_period\" title=\"Orbital period\">Orbital period</a></th><td class=\"infobox-data\">92.9 minutes<sup id=\"cite_ref-satellite-tracking_4-0\" class=\"reference\"><a href=\"#cite_note-satellite-tracking-4\">[4]</a></sup></td></tr><tr><th scope=\"row\" class=\"infobox-label\">Orbits per day</th><td class=\"infobox-data\">15.49<sup id=\"cite_ref-heavens-above_3-4\" class=\"reference\"><a href=\"#cite_note-heavens-above-3\">[3]</a></sup></td></tr><tr><th scope=\"row\" class=\"infobox-label\">Orbit <a href=\"/wiki/Epoch_(astronomy)\" title=\"Epoch (astronomy)\">epoch</a></th><td class=\"infobox-data\">12 October 2022 14:25:10\n",
      "<sup id=\"cite_ref-satellite-tracking_4-1\" class=\"reference\"><a href=\"#cite_note-satellite-tracking-4\">[4]</a></sup></td></tr><tr><th scope=\"row\" class=\"infobox-label\">Days in orbit</th><td class=\"infobox-data\">24&nbsp;years, 7&nbsp;months, 13&nbsp;days<br>(3 July 2023)</td></tr><tr><th scope=\"row\" class=\"infobox-label\">Days occupied</th><td class=\"infobox-data\">22&nbsp;years, 8&nbsp;months, 1&nbsp;day<br>(3 July 2023)</td></tr><tr><th scope=\"row\" class=\"infobox-label\"><abbr title=\"Number\">No.</abbr> of orbits</th><td class=\"infobox-data\">133,312\n",
      " as of June&nbsp;2022<sup class=\"plainlinks noexcerpt noprint asof-tag update\" style=\"display:none;\"><a class=\"external text\" href=\"https://en.wikipedia.org/w/index.php?title=International_Space_Station&amp;action=edit\">[update]</a></sup><sup id=\"cite_ref-5\" class=\"reference\"><a href=\"#cite_note-5\">[5]</a></sup></td></tr><tr><th scope=\"row\" class=\"infobox-label\"><a href=\"/wiki/Orbital_decay\" title=\"Orbital decay\">Orbital decay</a></th><td class=\"infobox-data\">2 km/month</td></tr><tr><td colspan=\"2\" class=\"infobox-below\" style=\"font-size:90%; line-height:15px; text-align:center;\">Statistics as of 22 December 2022<br>(unless noted otherwise)<br>References: <sup id=\"cite_ref-ISS_stats_2-3\" class=\"reference\"><a href=\"#cite_note-ISS_stats-2\">[2]</a></sup><sup id=\"cite_ref-heavens-above_3-5\" class=\"reference\"><a href=\"#cite_note-heavens-above-3\">[3]</a></sup><sup id=\"cite_ref-OnOrbit_6-0\" class=\"reference\"><a href=\"#cite_note-OnOrbit-6\">[6]</a></sup><sup id=\"cite_ref-7\" class=\"reference\"><a href=\"#cite_note-7\">[7]</a></sup><sup id=\"cite_ref-8\" class=\"reference\"><a href=\"#cite_note-8\">[8]</a></sup><link rel=\"mw-deduplicated-inline-style\" href=\"mw-data:TemplateStyles:r1066479718\"></td></tr><tr><td colspan=\"2\" class=\"infobox-subheader\" style=\"font-weight:bold;\">Configuration</td></tr><tr><td colspan=\"2\" class=\"infobox-image\"><a href=\"/wiki/File:ISS_configuration_2022-12_en.svg\" class=\"image\"><img alt=\"The components of the ISS in an exploded diagram, with modules on-orbit highlighted in orange.\" src=\"//upload.wikimedia.org/wikipedia/commons/thumb/8/80/ISS_configuration_2022-12_en.svg/240px-ISS_configuration_2022-12_en.svg.png\" decoding=\"async\" width=\"240\" height=\"157\" srcset=\"//upload.wikimedia.org/wikipedia/commons/thumb/8/80/ISS_configuration_2022-12_en.svg/360px-ISS_configuration_2022-12_en.svg.png 1.5x, //upload.wikimedia.org/wikipedia/commons/thumb/8/80/ISS_configuration_2022-12_en.svg/480px-ISS_configuration_2022-12_en.svg.png 2x\" data-file-width=\"1257\" data-file-height=\"820\"></a><div class=\"infobox-caption\" style=\"line-height:15px;\">Station elements as of December&nbsp;2022<sup class=\"plainlinks noexcerpt noprint asof-tag update\" style=\"display:none;\"><a class=\"external text\" href=\"https://en.wikipedia.org/w/index.php?title=International_Space_Station&amp;action=edit\">[update]</a></sup><br>(<a href=\"/wiki/Exploded-view_drawing\" title=\"Exploded-view drawing\">exploded view</a>)</div></td></tr><tr style=\"display:none\"><td colspan=\"2\">\n",
      "</td></tr></tbody></table>\n"
     ]
    }
   ],
   "source": [
    "from selenium import webdriver\n",
    "\n",
    "# driver = webdriver.Firefox() # to try with firefox webdriver\n",
    "\n",
    "driver = webdriver.Chrome('C:\\\\Users\\Asus\\Documents\\ChromeDriver\\chromedriver\\chromedriver')\n",
    "\n",
    "driver.get('https://en.wikipedia.org/wiki/International_Space_Station')\n",
    "\n",
    "time.sleep(1)\n",
    "\n",
    "# xPath option 1\n",
    "#iss_table = driver.find_element_by_xpath(r'/html/body/div[3]/div[3]/div[4]/div/table[1]')\n",
    "\n",
    "# xPath option 2\n",
    "iss_table = driver.find_element_by_xpath(r'//*[@id=\"mw-content-text\"]/div/table[1]')\n",
    "\n",
    "# xPath option 3\n",
    "# iss_table = driver.find_element_by_xpath('//table')\n",
    "\n",
    "iss_table_html = iss_table.get_attribute('outerHTML')\n",
    "\n",
    "# Print partially\n",
    "# print(iss_table_html[:200])\n",
    "# print('\\n. . .\\n')\n",
    "# print(iss_table_html[-200:])\n",
    "\n",
    "print(iss_table_html)\n",
    "\n",
    "driver.close()\n"
   ]
  },
  {
   "cell_type": "code",
   "execution_count": 11,
   "metadata": {},
   "outputs": [
    {
     "name": "stderr",
     "output_type": "stream",
     "text": [
      "C:\\Users\\Asus\\AppData\\Local\\Temp\\ipykernel_3004\\1664005910.py:4: DeprecationWarning: Importing display from IPython.core.display is deprecated since IPython 7.14, please import from IPython display\n",
      "  from IPython.core.display import display, HTML\n"
     ]
    },
    {
     "data": {
      "text/html": [
       "<table class=\"infobox\"><caption class=\"infobox-title\">International Space Station</caption><tbody><tr><td colspan=\"2\" class=\"infobox-image\"><a href=\"/wiki/File:The_station_pictured_from_the_SpaceX_Crew_Dragon_5_(cropped).jpg\" class=\"image\"><img alt=\"A forward view of the International Space Station with limb of the Earth in the background. In view are the station's sixteen paired maroon-coloured main solar array wings, eight on either side of the station, mounted to a central integrated truss structure. Spaced along the truss are ten white radiators. Mounted to the base of the two rightmost main solar arrays pairs, there are two smaller paired light brown- coloured ISS Roll-out Solar Arrays. Attached to the centre of the truss is a cluster of pressurised modules arranged in an elongated T shape. A set of solar arrays are mounted to the module at the aft end of the cluster.\" src=\"//upload.wikimedia.org/wikipedia/commons/thumb/e/e1/The_station_pictured_from_the_SpaceX_Crew_Dragon_5_%28cropped%29.jpg/240px-The_station_pictured_from_the_SpaceX_Crew_Dragon_5_%28cropped%29.jpg\" decoding=\"async\" width=\"240\" height=\"138\" srcset=\"//upload.wikimedia.org/wikipedia/commons/thumb/e/e1/The_station_pictured_from_the_SpaceX_Crew_Dragon_5_%28cropped%29.jpg/360px-The_station_pictured_from_the_SpaceX_Crew_Dragon_5_%28cropped%29.jpg 1.5x, //upload.wikimedia.org/wikipedia/commons/thumb/e/e1/The_station_pictured_from_the_SpaceX_Crew_Dragon_5_%28cropped%29.jpg/480px-The_station_pictured_from_the_SpaceX_Crew_Dragon_5_%28cropped%29.jpg 2x\" data-file-width=\"6633\" data-file-height=\"3820\"></a><div class=\"infobox-caption\" style=\"line-height:15px;\">Oblique forward view in November 2021</div></td></tr><tr><td colspan=\"2\" class=\"infobox-image\"><a href=\"/wiki/File:ISS_insignia.svg\" class=\"image\"><img alt=\"ISS insignia.svg\" src=\"//upload.wikimedia.org/wikipedia/commons/thumb/b/bb/ISS_insignia.svg/110px-ISS_insignia.svg.png\" decoding=\"async\" width=\"110\" height=\"136\" srcset=\"//upload.wikimedia.org/wikipedia/commons/thumb/b/bb/ISS_insignia.svg/165px-ISS_insignia.svg.png 1.5x, //upload.wikimedia.org/wikipedia/commons/thumb/b/bb/ISS_insignia.svg/220px-ISS_insignia.svg.png 2x\" data-file-width=\"800\" data-file-height=\"990\"></a> <a href=\"/wiki/File:ISS_emblem.png\" class=\"image\"><img alt=\"ISS emblem.png\" src=\"//upload.wikimedia.org/wikipedia/commons/thumb/1/15/ISS_emblem.png/130px-ISS_emblem.png\" decoding=\"async\" width=\"130\" height=\"130\" srcset=\"//upload.wikimedia.org/wikipedia/commons/thumb/1/15/ISS_emblem.png/195px-ISS_emblem.png 1.5x, //upload.wikimedia.org/wikipedia/commons/thumb/1/15/ISS_emblem.png/260px-ISS_emblem.png 2x\" data-file-width=\"1891\" data-file-height=\"1891\"></a><div class=\"infobox-caption\" style=\"line-height:15px;\"><a href=\"/wiki/International_Space_Station_programme\" title=\"International Space Station programme\">International Space Station program</a> insignia</div></td></tr><tr><th colspan=\"2\" class=\"infobox-header\">Station statistics</th></tr><tr><th scope=\"row\" class=\"infobox-label\"><a href=\"/wiki/International_Designator\" title=\"International Designator\">COSPAR ID</a></th><td class=\"infobox-data\">1998-067A</td></tr><tr><th scope=\"row\" class=\"infobox-label\"><a href=\"/wiki/Satellite_Catalog_Number\" title=\"Satellite Catalog Number\">SATCAT <abbr title=\"number\">no.</abbr></a></th><td class=\"infobox-data\">25544</td></tr><tr><th scope=\"row\" class=\"infobox-label\"><a href=\"/wiki/Call_sign\" title=\"Call sign\">Call sign</a></th><td class=\"infobox-data\"><i>Alpha</i>, <i>Station</i></td></tr><tr><th scope=\"row\" class=\"infobox-label\">Crew</th><td class=\"infobox-data\"><style data-mw-deduplicate=\"TemplateStyles:r1126788409\">.mw-parser-output .plainlist ol,.mw-parser-output .plainlist ul{line-height:inherit;list-style:none;margin:0;padding:0}.mw-parser-output .plainlist ol li,.mw-parser-output .plainlist ul li{margin-bottom:0}</style><div class=\"plainlist\"><ul><li>Fully crewed: 7</li><li>Currently aboard: 7<br>(<a href=\"/wiki/Soyuz_MS-23\" title=\"Soyuz MS-23\">Soyuz MS-23</a> <a href=\"/wiki/SpaceX_Crew-6\" title=\"SpaceX Crew-6\">Crew-6</a>)</li><li><a href=\"/wiki/List_of_International_Space_Station_expeditions\" title=\"List of International Space Station expeditions\">Expedition</a>: <a href=\"/wiki/Expedition_69\" title=\"Expedition 69\">69</a></li><li><a href=\"/wiki/List_of_commanders_of_the_International_Space_Station\" title=\"List of commanders of the International Space Station\">Commander</a>: <a href=\"/wiki/Sergey_Prokopyev_(cosmonaut)\" title=\"Sergey Prokopyev (cosmonaut)\">Sergey Prokopyev</a> (<a href=\"/wiki/Roscosmos\" title=\"Roscosmos\">Roscosmos</a>)</li></ul></div></td></tr><tr><th scope=\"row\" class=\"infobox-label\"><a href=\"/wiki/Rocket_launch\" class=\"mw-redirect\" title=\"Rocket launch\">Launch</a></th><td class=\"infobox-data\">20&nbsp;November 1998<span class=\"noprint\"> (24 years ago)</span><span style=\"display:none\">&nbsp;(<span class=\"bday dtstart published updated\">1998-11-20</span>)</span></td></tr><tr><th scope=\"row\" class=\"infobox-label\"><a href=\"/wiki/Launch_pad\" title=\"Launch pad\">Launch pad</a></th><td class=\"infobox-data\"><link rel=\"mw-deduplicated-inline-style\" href=\"mw-data:TemplateStyles:r1126788409\"><div class=\"plainlist\">\n",
       "<ul><li><span class=\"nowrap\"><a href=\"/wiki/Baikonur_Cosmodrome\" title=\"Baikonur Cosmodrome\">Baikonur</a>, <a href=\"/wiki/Gagarin%27s_Start\" title=\"Gagarin's Start\">Site 1/5</a>, <a href=\"/wiki/Baikonur_Cosmodrome_Site_200\" title=\"Baikonur Cosmodrome Site 200\">Site 200/39</a>, <br> <a href=\"/wiki/Baikonur_Cosmodrome_Site_31\" title=\"Baikonur Cosmodrome Site 31\">Site 31/6</a> and <a href=\"/wiki/Baikonur_Cosmodrome_Site_81\" title=\"Baikonur Cosmodrome Site 81\">Site 81/23</a></span></li>\n",
       "<li><span class=\"nowrap\"><a href=\"/wiki/Kennedy_Space_Center\" title=\"Kennedy Space Center\">Kennedy</a>, <a href=\"/wiki/Kennedy_Space_Center_Launch_Complex_39\" title=\"Kennedy Space Center Launch Complex 39\">LC-39</a> and <a href=\"/wiki/Cape_Canaveral_Space_Force_Station\" title=\"Cape Canaveral Space Force Station\">CCSFS</a>, <a href=\"/wiki/Cape_Canaveral_Space_Launch_Complex_40\" title=\"Cape Canaveral Space Launch Complex 40\">SLC-40</a></span></li></ul>\n",
       "</div></td></tr><tr><th scope=\"row\" class=\"infobox-label\"><a href=\"/wiki/Mass\" title=\"Mass\">Mass</a></th><td class=\"infobox-data\">450,000&nbsp;kg (990,000&nbsp;lb)<sup id=\"cite_ref-1\" class=\"reference\"><a href=\"#cite_note-1\">[1]</a></sup></td></tr><tr><th scope=\"row\" class=\"infobox-label\">Length</th><td class=\"infobox-data\">109&nbsp;m (358&nbsp;ft) (Overall length), 94&nbsp;m (310&nbsp;ft) (truss length)<sup id=\"cite_ref-ISS_stats_2-0\" class=\"reference\"><a href=\"#cite_note-ISS_stats-2\">[2]</a></sup></td></tr><tr><th scope=\"row\" class=\"infobox-label\">Width</th><td class=\"infobox-data\">73&nbsp;m (239&nbsp;ft) (solar array length)<sup id=\"cite_ref-ISS_stats_2-1\" class=\"reference\"><a href=\"#cite_note-ISS_stats-2\">[2]</a></sup></td></tr><tr><th scope=\"row\" class=\"infobox-label\">Pressurised <a href=\"/wiki/Volume\" title=\"Volume\">volume</a></th><td class=\"infobox-data\">1,005.0&nbsp;m<sup>3</sup> (35,491&nbsp;cu&nbsp;ft)<sup id=\"cite_ref-ISS_stats_2-2\" class=\"reference\"><a href=\"#cite_note-ISS_stats-2\">[2]</a></sup></td></tr><tr><th scope=\"row\" class=\"infobox-label\"><a href=\"/wiki/Atmospheric_pressure\" title=\"Atmospheric pressure\">Atmospheric pressure</a></th><td class=\"infobox-data\">101.3&nbsp;<a href=\"/wiki/Pascal_(unit)\" title=\"Pascal (unit)\">kPa</a> (14.7&nbsp;<a href=\"/wiki/Pound_per_square_inch\" title=\"Pound per square inch\">psi</a>; 1.0&nbsp;<a href=\"/wiki/Atmosphere_(unit)\" class=\"mw-redirect\" title=\"Atmosphere (unit)\">atm</a>)<br>79% nitrogen, 21% oxygen</td></tr><tr><th scope=\"row\" class=\"infobox-label\"><a href=\"/wiki/Apsis\" title=\"Apsis\">Perigee altitude</a></th><td class=\"infobox-data\">413&nbsp;km (256.6&nbsp;mi) <a href=\"/wiki/Above_mean_sea_level\" class=\"mw-redirect\" title=\"Above mean sea level\">AMSL</a><sup id=\"cite_ref-heavens-above_3-0\" class=\"reference\"><a href=\"#cite_note-heavens-above-3\">[3]</a></sup></td></tr><tr><th scope=\"row\" class=\"infobox-label\"><a href=\"/wiki/Apsis\" title=\"Apsis\">Apogee altitude</a></th><td class=\"infobox-data\">422&nbsp;km (262.2&nbsp;mi) AMSL<sup id=\"cite_ref-heavens-above_3-1\" class=\"reference\"><a href=\"#cite_note-heavens-above-3\">[3]</a></sup></td></tr><tr><th scope=\"row\" class=\"infobox-label\"><a href=\"/wiki/Orbital_inclination\" title=\"Orbital inclination\">Orbital inclination</a></th><td class=\"infobox-data\">51.64°<sup id=\"cite_ref-heavens-above_3-2\" class=\"reference\"><a href=\"#cite_note-heavens-above-3\">[3]</a></sup></td></tr><tr><th scope=\"row\" class=\"infobox-label\">Orbital speed</th><td class=\"infobox-data\">7.66&nbsp;km/s<sup id=\"cite_ref-heavens-above_3-3\" class=\"reference\"><a href=\"#cite_note-heavens-above-3\">[3]</a></sup><sup class=\"noprint Inline-Template\" style=\"white-space:nowrap;\">[<i><a href=\"/wiki/Wikipedia:Verifiability\" title=\"Wikipedia:Verifiability\"><span title=\"Page does not mention orbital speed, just some of the other orbital parameters. This reference should be removed for this value? (May 2021)\">failed verification</span></a></i>]</sup>27,600&nbsp;km/h; 17,100&nbsp;mph</td></tr><tr><th scope=\"row\" class=\"infobox-label\"><a href=\"/wiki/Orbital_period\" title=\"Orbital period\">Orbital period</a></th><td class=\"infobox-data\">92.9 minutes<sup id=\"cite_ref-satellite-tracking_4-0\" class=\"reference\"><a href=\"#cite_note-satellite-tracking-4\">[4]</a></sup></td></tr><tr><th scope=\"row\" class=\"infobox-label\">Orbits per day</th><td class=\"infobox-data\">15.49<sup id=\"cite_ref-heavens-above_3-4\" class=\"reference\"><a href=\"#cite_note-heavens-above-3\">[3]</a></sup></td></tr><tr><th scope=\"row\" class=\"infobox-label\">Orbit <a href=\"/wiki/Epoch_(astronomy)\" title=\"Epoch (astronomy)\">epoch</a></th><td class=\"infobox-data\">12 October 2022 14:25:10\n",
       "<sup id=\"cite_ref-satellite-tracking_4-1\" class=\"reference\"><a href=\"#cite_note-satellite-tracking-4\">[4]</a></sup></td></tr><tr><th scope=\"row\" class=\"infobox-label\">Days in orbit</th><td class=\"infobox-data\">24&nbsp;years, 7&nbsp;months, 13&nbsp;days<br>(3 July 2023)</td></tr><tr><th scope=\"row\" class=\"infobox-label\">Days occupied</th><td class=\"infobox-data\">22&nbsp;years, 8&nbsp;months, 1&nbsp;day<br>(3 July 2023)</td></tr><tr><th scope=\"row\" class=\"infobox-label\"><abbr title=\"Number\">No.</abbr> of orbits</th><td class=\"infobox-data\">133,312\n",
       " as of June&nbsp;2022<sup class=\"plainlinks noexcerpt noprint asof-tag update\" style=\"display:none;\"><a class=\"external text\" href=\"https://en.wikipedia.org/w/index.php?title=International_Space_Station&amp;action=edit\">[update]</a></sup><sup id=\"cite_ref-5\" class=\"reference\"><a href=\"#cite_note-5\">[5]</a></sup></td></tr><tr><th scope=\"row\" class=\"infobox-label\"><a href=\"/wiki/Orbital_decay\" title=\"Orbital decay\">Orbital decay</a></th><td class=\"infobox-data\">2 km/month</td></tr><tr><td colspan=\"2\" class=\"infobox-below\" style=\"font-size:90%; line-height:15px; text-align:center;\">Statistics as of 22 December 2022<br>(unless noted otherwise)<br>References: <sup id=\"cite_ref-ISS_stats_2-3\" class=\"reference\"><a href=\"#cite_note-ISS_stats-2\">[2]</a></sup><sup id=\"cite_ref-heavens-above_3-5\" class=\"reference\"><a href=\"#cite_note-heavens-above-3\">[3]</a></sup><sup id=\"cite_ref-OnOrbit_6-0\" class=\"reference\"><a href=\"#cite_note-OnOrbit-6\">[6]</a></sup><sup id=\"cite_ref-7\" class=\"reference\"><a href=\"#cite_note-7\">[7]</a></sup><sup id=\"cite_ref-8\" class=\"reference\"><a href=\"#cite_note-8\">[8]</a></sup><link rel=\"mw-deduplicated-inline-style\" href=\"mw-data:TemplateStyles:r1066479718\"></td></tr><tr><td colspan=\"2\" class=\"infobox-subheader\" style=\"font-weight:bold;\">Configuration</td></tr><tr><td colspan=\"2\" class=\"infobox-image\"><a href=\"/wiki/File:ISS_configuration_2022-12_en.svg\" class=\"image\"><img alt=\"The components of the ISS in an exploded diagram, with modules on-orbit highlighted in orange.\" src=\"//upload.wikimedia.org/wikipedia/commons/thumb/8/80/ISS_configuration_2022-12_en.svg/240px-ISS_configuration_2022-12_en.svg.png\" decoding=\"async\" width=\"240\" height=\"157\" srcset=\"//upload.wikimedia.org/wikipedia/commons/thumb/8/80/ISS_configuration_2022-12_en.svg/360px-ISS_configuration_2022-12_en.svg.png 1.5x, //upload.wikimedia.org/wikipedia/commons/thumb/8/80/ISS_configuration_2022-12_en.svg/480px-ISS_configuration_2022-12_en.svg.png 2x\" data-file-width=\"1257\" data-file-height=\"820\"></a><div class=\"infobox-caption\" style=\"line-height:15px;\">Station elements as of December&nbsp;2022<sup class=\"plainlinks noexcerpt noprint asof-tag update\" style=\"display:none;\"><a class=\"external text\" href=\"https://en.wikipedia.org/w/index.php?title=International_Space_Station&amp;action=edit\">[update]</a></sup><br>(<a href=\"/wiki/Exploded-view_drawing\" title=\"Exploded-view drawing\">exploded view</a>)</div></td></tr><tr style=\"display:none\"><td colspan=\"2\">\n",
       "</td></tr></tbody></table>"
      ],
      "text/plain": [
       "<IPython.core.display.HTML object>"
      ]
     },
     "metadata": {},
     "output_type": "display_data"
    }
   ],
   "source": [
    "# for ipython notebook display\n",
    "# import IPython\n",
    "\n",
    "from IPython.core.display import display, HTML\n",
    "\n",
    "display(HTML(iss_table_html))\n",
    "\n"
   ]
  },
  {
   "cell_type": "markdown",
   "metadata": {},
   "source": [
    "#### Ref: https://medium.com/ymedialabs-innovation/web-scraping-using-beautiful-soup-and-selenium-for-dynamic-page-2f8ad15efe25\n",
    "#### Ref: https://towardsdatascience.com/in-10-minutes-web-scraping-with-beautiful-soup-and-selenium-for-data-professionals-8de169d36319\n",
    "#### Ref: https://towardsdatascience.com/real-world-example-on-web-scraping-with-selenium-and-beautiful-soup-3e615dbc1fa1\n"
   ]
  }
 ],
 "metadata": {
  "kernelspec": {
   "display_name": "Python 3 (ipykernel)",
   "language": "python",
   "name": "python3"
  },
  "language_info": {
   "codemirror_mode": {
    "name": "ipython",
    "version": 3
   },
   "file_extension": ".py",
   "mimetype": "text/x-python",
   "name": "python",
   "nbconvert_exporter": "python",
   "pygments_lexer": "ipython3",
   "version": "3.9.16"
  }
 },
 "nbformat": 4,
 "nbformat_minor": 4
}
