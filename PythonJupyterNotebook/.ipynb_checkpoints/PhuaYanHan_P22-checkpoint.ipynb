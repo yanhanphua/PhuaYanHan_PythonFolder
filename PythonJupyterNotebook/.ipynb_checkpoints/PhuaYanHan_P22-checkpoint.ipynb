{
 "cells": [
  {
   "cell_type": "markdown",
   "metadata": {},
   "source": [
    "<img src=\"https://i.imgur.com/FoKB5Z5.png\" align=\"left\" width=\"300\" height=\"250\" title=\"source: imgur.com\" /></a>"
   ]
  },
  {
   "cell_type": "markdown",
   "metadata": {},
   "source": [
    "## Program Code: J620-002-4:2020 \n",
    "\n",
    "## Program Name: FRONT-END SOFTWARE DEVELOPMENT\n",
    "\n",
    "## Title :  Understand The Data Preparation and Discovery Pipeline\n",
    "\n",
    "#### Name: \n",
    "\n",
    "#### IC Number:\n",
    "\n",
    "#### Date :\n",
    "\n",
    "#### Introduction : \n",
    "\n",
    "\n",
    "\n",
    "#### Conclusion :\n",
    "\n",
    "\n",
    "\n",
    "\n"
   ]
  },
  {
   "cell_type": "markdown",
   "metadata": {},
   "source": [
    "# P22 - Understand The Data Preparation and Discovery Pipeline\n",
    "\n"
   ]
  },
  {
   "cell_type": "markdown",
   "metadata": {},
   "source": [
    "## Story about data"
   ]
  },
  {
   "cell_type": "markdown",
   "metadata": {},
   "source": [
    "**Story 1 - Trump twitter and the stock market**\n",
    "\n",
    "https://www.bloomberg.com/features/trump-tweets-market/\n",
    "\n",
    "https://www.barrons.com/articles/donald-trump-twitter-stock-market-51567803655\n",
    "\n"
   ]
  },
  {
   "cell_type": "markdown",
   "metadata": {},
   "source": [
    "**Story 2 - Baby diapers and Beer**\n",
    "\n",
    "https://tdwi.org/articles/2016/11/15/beer-and-diapers-impossible-correlation.aspx\n"
   ]
  },
  {
   "cell_type": "markdown",
   "metadata": {},
   "source": [
    "**Story 3 - Pregnant Teenage daugther**\n",
    "\n",
    "https://www.forbes.com/sites/kashmirhill/2012/02/16/how-target-figured-out-a-teen-girl-was-pregnant-before-her-father-did/#1c03530d6668\n"
   ]
  },
  {
   "cell_type": "markdown",
   "metadata": {},
   "source": [
    "**“In God we trust; all others bring data.”**\n",
    "\n",
    "**by W. Edward Deming**\n",
    "\n",
    "TQM\n",
    "\n",
    "QMS\n",
    "\n",
    "ISO9000:9001\n",
    "\n",
    "Was he a data scientist?\n",
    "\n",
    "https://en.wikipedia.org/wiki/W._Edwards_Deming\n"
   ]
  },
  {
   "cell_type": "markdown",
   "metadata": {},
   "source": [
    "## Question: \n",
    "\n",
    "## Is more data better?\n",
    "\n",
    "Answer: It depends. Data is the new Oil"
   ]
  },
  {
   "cell_type": "markdown",
   "metadata": {},
   "source": [
    "**Sample Exercise:**\n",
    "\n",
    "High Student students academic performance\n",
    "\n",
    "I'll do the dataset in Excel\n",
    "\n",
    "\n",
    "\n",
    "**Randomizers in Excel (dont shoot me)**\n",
    "\n",
    "I like to \"visualize my simulated data\" \n",
    "\n",
    "=RANDBETWEEN(0,100)\n",
    "\n",
    "=CHOOSE(RANDBETWEEN(1,3),\"B40\",\"M40\",\"T20\")"
   ]
  },
  {
   "cell_type": "markdown",
   "metadata": {},
   "source": [
    "**What data is needed?**\n",
    "\n",
    "Describe the data\n",
    "\n",
    "    Student demography\n",
    "    Subjects taken\n",
    "    Trial exam results\n",
    "    attendance, contact Hours\n",
    "    Final results\n",
    "    Others? Sports activities\n",
    "\n",
    "\n",
    "\"Correlation is not causation\"\n",
    "\n",
    "Means that just because two things correlate does not necessarily mean that one causes the other. ... Correlations between two things can be caused by a third factor that affects both of them. This sneaky, hidden third wheel is called a confounder.\n"
   ]
  },
  {
   "cell_type": "markdown",
   "metadata": {},
   "source": [
    "**Case Study Exercise**\n",
    "\n",
    "Plot the Student Results table\n",
    "\n",
    "Some basic stats\n",
    "\n",
    "Look for Average, Min, Max\n"
   ]
  },
  {
   "cell_type": "markdown",
   "metadata": {},
   "source": [
    "## Exploratory Data Analysis (EDA) Check list\n",
    "\n",
    "- Domain knowledge\n",
    "    - What is this dataset about?\n",
    "- Check if the data is intuitive\n",
    "- Find out how the data was generated\n",
    "- Understand the process\n",
    "\n",
    "----\n",
    "- Select a smaller dataset \n",
    "    - depending on the data size, If what to go big bang, make sure enough resources.\n",
    "- Explore individual features\n",
    "- Explore pairs and groups\n",
    "\n",
    "----\n",
    "\n",
    "- Clean up features\n",
    "\n",
    "- Selecting features of interest\n",
    "\n",
    "- Generating derived feature(s)\n",
    "\n",
    "- Extract , Transform and Load (the whole dataset)\n",
    "\n",
    "- Sampling the data (in ML)"
   ]
  },
  {
   "cell_type": "markdown",
   "metadata": {},
   "source": [
    "# Dataset cleaning and other things to check\n",
    "\n",
    "\n",
    "**Garbage in Garbage out.**\n",
    "\n",
    "Duplicated and constant features\n",
    "\n",
    "    Check if same rows have same label\n",
    "\n",
    "    Find duplicated rows, understand why they are duplicated\n",
    "\n",
    "    Remove constant features\n",
    "    Eg. The whole feature is the same. Just redundant.\n",
    "\n",
    "Missing values\n",
    "    - Really missing?\n",
    "    - Zero value or remove the record\n",
    "\n",
    "Outliers\n",
    "    - Data error or anomoly\n",
    "    - Too Big from the rest\n",
    "    - Too Small from the rest\n",
    "    \n",
    "Smooth running average\n",
    "    - Data could have been massaged\n",
    "\n",
    "Preparing data features for **training**\n",
    "\n",
    "    Is more the better?\n",
    "    Not necessary.\n",
    "\n",
    "Factorize the datasets (depends)"
   ]
  },
  {
   "cell_type": "markdown",
   "metadata": {},
   "source": [
    "## How to detect? \n",
    "\n",
    "Statistical Descriptions.\n",
    "\n",
    "Visualise the features with charts"
   ]
  },
  {
   "cell_type": "markdown",
   "metadata": {},
   "source": [
    "**Discussion:**\n",
    "\n",
    "The IRIS Dataset\n",
    "\n",
    "https://www.kaggle.com/lnbalon/iris-dataset-eda-and-classification-analysis\n"
   ]
  },
  {
   "cell_type": "markdown",
   "metadata": {},
   "source": [
    "# Capstone Project\n",
    "\n",
    "Scrape data from a publicly available website, clean it, document your discovery process, and visualise your observations using Mathplotlib\n",
    "\n",
    "If not possible to scrape from website, use data sources from Kaggle or other data sources.\n",
    "\n",
    "What type of project? Your choice.\n",
    "\n",
    "Example project: Price monitoring of Product A for best purchase at the lowest price and availability of stock.\n",
    "\n",
    "Produce the final work in Jupyter Notebook\n",
    "\n"
   ]
  },
  {
   "cell_type": "markdown",
   "metadata": {},
   "source": [
    "\n",
    "## Data Science Project\n",
    "\n",
    "Title:\n",
    "\n",
    "Author:\n",
    "\n",
    "Date:\n",
    "\n",
    "\n",
    "Purpose:\n",
    "\n",
    "\n",
    "Methodology:\n",
    "\n",
    "\n",
    "Findings:\n",
    "\n",
    "\n",
    "Recommendation/Conclusion:\n",
    "\n"
   ]
  },
  {
   "cell_type": "markdown",
   "metadata": {},
   "source": [
    "Think of what you wish to do for the mini project.\n",
    "\n",
    "Present to me one to one, on Zoom your initial idea.\n",
    "\n",
    "If OK, I will give the green light for you to go ahead and do it.\n",
    "\n",
    "If Not, I will give some guidance and if necessary you should make changes to your idea.\n",
    "\n",
    "You have the wholeday morning/afternoon to do it.\n",
    "\n",
    "I will be standing by to guide, when needed. (Only till 12 pm.) So plan out your work. \n"
   ]
  },
  {
   "cell_type": "markdown",
   "metadata": {},
   "source": [
    "## Own Read\n",
    "\n",
    "**Research methodology**\n",
    "\n",
    "Formulating the Research Hypothesis and Null Hypothesis\n"
   ]
  },
  {
   "cell_type": "markdown",
   "metadata": {},
   "source": [
    "# Assessment\n",
    "\n",
    "The completed results of the Mini Project should be ready before the start of the next lesson on Sunday\n",
    "\n",
    "The mini project's ipynb file will be uploaded to the GitHub repository\n",
    "\n",
    "We will post our own work in our own GitHub repository\n",
    "\n",
    "Good for future reference\n"
   ]
  }
 ],
 "metadata": {
  "kernelspec": {
   "display_name": "Python 3 (ipykernel)",
   "language": "python",
   "name": "python3"
  },
  "language_info": {
   "codemirror_mode": {
    "name": "ipython",
    "version": 3
   },
   "file_extension": ".py",
   "mimetype": "text/x-python",
   "name": "python",
   "nbconvert_exporter": "python",
   "pygments_lexer": "ipython3",
   "version": "3.9.16"
  }
 },
 "nbformat": 4,
 "nbformat_minor": 4
}
