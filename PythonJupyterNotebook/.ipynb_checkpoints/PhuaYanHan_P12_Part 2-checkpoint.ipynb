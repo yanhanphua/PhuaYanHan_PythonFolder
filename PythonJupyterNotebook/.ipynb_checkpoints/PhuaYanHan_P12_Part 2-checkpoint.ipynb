{
 "cells": [
  {
   "cell_type": "markdown",
   "metadata": {},
   "source": [
    "<img src=\"https://i.imgur.com/FoKB5Z5.png\" align=\"left\" width=\"300\" height=\"250\" title=\"source: imgur.com\" /></a>"
   ]
  },
  {
   "cell_type": "markdown",
   "metadata": {},
   "source": [
    "## Program Code: J620-002-4:2020 \n",
    "\n",
    "## Program Name: FRONT-END SOFTWARE DEVELOPMENT\n",
    "\n",
    "## Title :  Regular Expressions - Part 2\n",
    "\n",
    "#### Name: Phua Yan Han\n",
    "\n",
    "#### IC Number: 050824070059\n",
    "\n",
    "#### Date : 3/7/23\n",
    "\n",
    "#### Introduction :  learning more regular expressions\n",
    "\n",
    "\n",
    "\n",
    "#### Conclusion :\n",
    "\n",
    "\n",
    "\n",
    "\n"
   ]
  },
  {
   "cell_type": "markdown",
   "metadata": {},
   "source": [
    "# P12 - Regular Expressions - Part 2"
   ]
  },
  {
   "cell_type": "markdown",
   "metadata": {},
   "source": [
    "### Extract Email using Regex"
   ]
  },
  {
   "cell_type": "markdown",
   "metadata": {},
   "source": [
    "<img src='./Images/Intro2.png'>"
   ]
  },
  {
   "cell_type": "code",
   "execution_count": 1,
   "metadata": {},
   "outputs": [
    {
     "name": "stderr",
     "output_type": "stream",
     "text": [
      "D:\\Anaconda3\\envs\\python-dscourse\\lib\\site-packages\\urllib3\\connectionpool.py:981: InsecureRequestWarning: Unverified HTTPS request is being made to host 'www.selangor.gov.my'. Adding certificate verification is strongly advised. See: https://urllib3.readthedocs.io/en/latest/advanced-usage.html#ssl-warnings\n",
      "  warnings.warn(\n"
     ]
    },
    {
     "name": "stdout",
     "output_type": "stream",
     "text": [
      "['cccsel@rmp.gov.my', 'pertanyaan@icu.gov.my', 'jpn.selangor@moe.gov.my', 'cprc_sel@moh.gov.my', 'hqweb@jupem.gov.my', 'p.selangor@jpj.gov.my', 'pinsel@imi.gov.my', 'pppselangor@jpn.gov.my', 'pensel@inform.gov.my', 'jbsselangor@gmail.com', 'kamarudin@hasil.gov.my', 'sel@sprm.gov.my', 'prn_selangor@moha.gov.my', 'webmaster@jpph.gov.my', 'penduduk@lppkn.gov.my', 'ppn_selangor@dof.gov.my', 'ppnselangor@perpaduan.gov.my', 'kemas_selangor2@kemas.gov.my', 'jbaudit@audit.gov.my', 'pneg_sgr@anm.gov.my', 'pjlwt@marine.gov.my', 'pro@jakoa.gov.my', 'wpkl@prison.gov.my', 'zikril@kpdnhep.gov.my', 'korporat@bomba.gov.my', 'webmaster@spr.gov.my', 'selangor@wildlife.gov.my', 'webmaster@mkn.gov.my', 'jmgselwp@jmg.gov.my', 'jhekssgor@mohr.gov.my', 'pmssubang@met.gov.my', 'ccc@customs.gov.my', 'jtknselangor@mohr.gov.my', 'jppmsel@mohr.gov.my', 'info@jkkn.gov.my', 'jpselangor@dosm.gov.my', 'pengarah_selangor@adk.gov.my', 'jkkpsl@mohr.gov.my', 'ppwnselangor@jpw.gov.my', 'pro@civildefence.gov.my']\n"
     ]
    }
   ],
   "source": [
    "import requests\n",
    "import re\n",
    "\n",
    "url='https://www.selangor.gov.my/index.php/pages/view/339'\n",
    " \n",
    "# get the data    \n",
    "data = requests.get(url, verify=False)\n",
    "\n",
    "\n",
    "emails = re.findall(r'([\\d\\w\\.]+@[\\d\\w\\.\\-]+\\.\\w+)', data.text)\n",
    "\n",
    "print(emails)"
   ]
  },
  {
   "cell_type": "markdown",
   "metadata": {},
   "source": [
    "### Extract Phone Number using Regex"
   ]
  },
  {
   "cell_type": "code",
   "execution_count": 2,
   "metadata": {},
   "outputs": [
    {
     "name": "stdout",
     "output_type": "stream",
     "text": [
      "['03-55145004', '03-55195175', '03-55213600', '03-55213700', '03-55186500', '03-55102133', '03-51237333', '03-51237209', '03-55144000', '03-55132613', '03-55669555', '03-55432202', '03-55190653', '03-55107255', '03-55117355', '03-55136755', '03-55192196', '03-55121411', '03-55192326', '03-55192231', '03-55215200', '03-55103500', '03-55256500', '03-55256514', '03-55256515', '03-55103436', '03-55103436', '03-55184603', '03-55197825', '03-55107397', '03-55110915', '03-55100575', '03-55190169', '03-55190690', '03-55132655', '03-55184617', '03-55184618', '03-55195114', '03-55195319', '03-55102376', '03-55193044', '03-55193175', '03-55199533', '03-55147400', '03-55147404', '03-55147405', '03-55205200', '03-55105049', '03-31695100', '03-31695190', '03-55190375', '03-55111063', '03-87328299', '03-55144300', '03-55195255', '03-78464444', '03-78469892', '03-55194273', '03-55400717', '03-55193915', '03-55101830', '03-55218790', '03-55218794', '03-55218791', '03-55447828', '03-55109705', '03-55101833', '03-55101918', '03-55193233', '03-55193551', '03-55193457', '03-55199059', '03-78463114', '03-78464982', '03-31693888', '03-31693600', '03-56328800', '03-56361605', '03-56361625', '03-56361573', '03-56361534', '03-56501600', '03-56361534', '03-55102664', '03-55102791', '03-55102839', '03-55150200', '03-55180408', '03-79568512', '03-79576396', '03-56236400', '03-56389159', '03-55118891', '03-55118706', '03-33411031', '03-33410506', '03-33410443', '03-33411894', '03-55447000']\n"
     ]
    },
    {
     "name": "stderr",
     "output_type": "stream",
     "text": [
      "D:\\Anaconda3\\envs\\python-dscourse\\lib\\site-packages\\urllib3\\connectionpool.py:981: InsecureRequestWarning: Unverified HTTPS request is being made to host 'www.selangor.gov.my'. Adding certificate verification is strongly advised. See: https://urllib3.readthedocs.io/en/latest/advanced-usage.html#ssl-warnings\n",
      "  warnings.warn(\n"
     ]
    }
   ],
   "source": [
    "import requests\n",
    "import re\n",
    "\n",
    "url='https://www.selangor.gov.my/index.php/pages/view/339'\n",
    "\n",
    "# get the data\n",
    "data = requests.get(url, verify=False)\n",
    "\n",
    "phones = re.findall(r'[0-9]{2}\\-[0-9]{8}', data.text)\n",
    "\n",
    "print(phones)"
   ]
  },
  {
   "cell_type": "markdown",
   "metadata": {},
   "source": [
    "### Quiz\n",
    "\n",
    "**Quiz 1**\n",
    "\n",
    "Extract the Emails and Phone numbers from this page using RegEx\n",
    "\n",
    "https://www.ksn.gov.my/mengenai-pejabat/direktori-pejabat\n"
   ]
  },
  {
   "cell_type": "markdown",
   "metadata": {},
   "source": [
    "**Quiz 2**\n",
    "\n",
    "Extract the Emails and Phone numbers from this page using RegEx\n",
    "\n",
    "https://www.jpn.gov.my/my/hubungi-kami/direktori-kakitangan/bahagian-kewarganegaraan\n"
   ]
  },
  {
   "cell_type": "markdown",
   "metadata": {},
   "source": [
    "**Quiz 3**\n",
    "\n",
    "Extract the Emails and Phone Numbers from this page using RegEx\n",
    "\n",
    "https://www.ptptn.gov.my/hubungi-ptptn\n"
   ]
  },
  {
   "cell_type": "code",
   "execution_count": 38,
   "metadata": {},
   "outputs": [],
   "source": [
    "# Method 1\n",
    "\n",
    "import requests\n",
    "import re\n",
    "\n",
    "url='https://www.ksn.gov.my/mengenai-pejabat/direktori-pejabat'\n",
    " \n",
    "# get the data    \n"
   ]
  },
  {
   "cell_type": "code",
   "execution_count": 40,
   "metadata": {},
   "outputs": [],
   "source": [
    "# Method 2\n",
    "\n",
    "import requests\n",
    "import re\n",
    "\n",
    "url='https://www.ksn.gov.my/mengenai-pejabat/direktori-pejabat'\n",
    " \n",
    "# get the data    \n"
   ]
  },
  {
   "cell_type": "code",
   "execution_count": 41,
   "metadata": {},
   "outputs": [],
   "source": [
    "# Method 3\n",
    "\n",
    "import requests\n",
    "import re\n",
    "\n",
    "url='https://www.ksn.gov.my/mengenai-pejabat/direktori-pejabat'\n",
    " \n",
    "# get the data    \n"
   ]
  },
  {
   "cell_type": "code",
   "execution_count": 39,
   "metadata": {},
   "outputs": [],
   "source": [
    "# Answer to Exercise 2\n",
    "\n",
    "import requests\n",
    "import re\n",
    "\n",
    "user_agent = 'user-agent: Mozilla/5.0 (Windows NT 10.0; Win64; x64) AppleWebKit/537.36 (KHTML, like Gecko) Chrome/81.0.4044.92 Safari/537.36'\n",
    "\n",
    "headers={'User-Agent':user_agent}\n",
    "\n",
    "url='https://www.jpn.gov.my/my/hubungi-kami/direktori-kakitangan/bahagian-kewarganegaraan'\n",
    "\n",
    "# get the data    \n",
    "# disable SSL cert verification\n",
    "\n",
    "\n",
    "    "
   ]
  },
  {
   "cell_type": "code",
   "execution_count": 9,
   "metadata": {},
   "outputs": [
    {
     "data": {
      "text/plain": [
       "'<!DOCTYPE html>\\n<html lang=\"ms-my\" dir=\"ltr\" vocab=\"http://schema.org/\">\\n    <head>\\n        <meta http-equiv=\"X-UA-Compatible\" content=\"IE=edge\">\\n        <meta name=\"viewport\" content=\"width=device-width, initial-scale=1\">\\n        <link rel=\"shortcut icon\" href=\"/images/logojpn40px.png\">\\n        <link rel=\"apple-touch-icon\" href=\"/images/logojpn40px.png\">\\n        <meta charset=\"utf-8\" />\\n\\t<base href=\"https://www.jpn.gov.my/my/hubungi-kami/direktori-kakitangan/bahagian-kewarganegaraan\" />\\n\\t<meta name=\"description\" content=\"Portal Rasmi JPN\" />\\n\\t<meta name=\"generator\" content=\"XXXXXXXXXXXXXXXXXXXXXXXXXXXXXXXXXXXXXXXX\" />\\n\\t<title>Portal JPN - Bahagian Kewarganegaraan</title>\\n\\t<link href=\"/my/hubungi-kami/direktori-kakitangan/bahagian-kewarganegaraan?format=feed&amp;type=rss\" rel=\"alternate\" type=\"application/rss+xml\" title=\"RSS 2.0\" />\\n\\t<link href=\"/my/hubungi-kami/direktori-kakitangan/bahagian-kewarganegaraan?format=feed&amp;type=atom\" rel=\"alternate\" type=\"application/atom+xml\" title=\"Atom 1.0\" />\\n\\t<link href=\"https://www.jpn.gov.my/my/hubungi-kami/direktori-kakitangan/bahagian-kewarganegaraan\" rel=\"alternate\" hreflang=\"ms-MY\" />\\n\\t<link href=\"https://www.jpn.gov.my/en/contact-us/direktori-kakitangan/citizenship-division\" rel=\"alternate\" hreflang=\"en-GB\" />\\n\\t<link href=\"/plugins/content/pdf_embed/assets/css/style.css\" rel=\"stylesheet\" />\\n\\t<link href=\"https://www.jpn.gov.my/modules/mod_eac_splwpk/style.css\" rel=\"stylesheet\" />\\n\\t<link href=\"/media/jui/css/chosen.css?246443ecd0414e2b6f3bcf218a97f4b9\" rel=\"stylesheet\" />\\n\\t<link href=\"/media/com_finder/css/finder.css?246443ecd0414e2b6f3bcf218a97f4b9\" rel=\"stylesheet\" />\\n\\t<link href=\"/media/mod_languages/css/template.css?246443ecd0414e2b6f3bcf218a97f4b9\" rel=\"stylesheet\" />\\n\\t<link href=\"/templates/yootheme/css/theme.9.css?1629166610\" rel=\"stylesheet\" />\\n\\t<link href=\"/media/widgetkit/wk-styles-26be7507.css\" rel=\"stylesheet\" id=\"wk-styles-css\" />\\n\\t<script type=\"application/json\" class=\"joomla-script-options new\">{\"csrf.token\":\"8921ae8906536c1f9c04f1291da6fdcc\",\"system.paths\":{\"root\":\"\",\"base\":\"\"}}</script>\\n\\t<script src=\"/media/system/js/core.js?246443ecd0414e2b6f3bcf218a97f4b9\"></script>\\n\\t<script src=\"/media/jui/js/jquery.min.js?246443ecd0414e2b6f3bcf218a97f4b9\"></script>\\n\\t<script src=\"/media/jui/js/jquery-noconflict.js?246443ecd0414e2b6f3bcf218a97f4b9\"></script>\\n\\t<script src=\"/media/jui/js/jquery-migrate.min.js?246443ecd0414e2b6f3bcf218a97f4b9\"></script>\\n\\t<script src=\"/media/jui/js/chosen.jquery.min.js?246443ecd0414e2b6f3bcf218a97f4b9\"></script>\\n\\t<script src=\"/media/jui/js/bootstrap.min.js?246443ecd0414e2b6f3bcf218a97f4b9\"></script>\\n\\t<script src=\"/media/jui/js/jquery.autocomplete.min.js?246443ecd0414e2b6f3bcf218a97f4b9\"></script>\\n\\t<script src=\"/templates/yootheme/vendor/yootheme/theme-analytics/app/analytics.min.js?2.3.25\" defer></script>\\n\\t<script src=\"/templates/yootheme/vendor/assets/uikit/dist/js/uikit.min.js?2.3.25\"></script>\\n\\t<script src=\"/templates/yootheme/vendor/assets/uikit/dist/js/uikit-icons-flow.min.js?2.3.25\"></script>\\n\\t<script src=\"/templates/yootheme/js/theme.js?2.3.25\"></script>\\n\\t<script src=\"/media/widgetkit/uikit2-b4c8a1c3.js\"></script>\\n\\t<script src=\"/media/widgetkit/wk-scripts-7982a330.js\"></script>\\n\\t<script>\\ndocument.addEventListener(\\'DOMContentLoaded\\', function() {\\n            Array.prototype.slice.call(document.querySelectorAll(\\'a span[id^=\"cloak\"]\\')).forEach(function(span) {\\n                span.innerText = span.textContent;\\n            });\\n        });\\r\\n\\tjQuery(function ($) {\\n\\t\\tinitChosen();\\n\\t\\t$(\"body\").on(\"subform-row-add\", initChosen);\\n\\n\\t\\tfunction initChosen(event, container)\\n\\t\\t{\\n\\t\\t\\tcontainer = container || document;\\n\\t\\t\\t$(container).find(\".advancedSelect\").chosen({\"disable_search_threshold\":10,\"search_contains\":true,\"allow_single_deselect\":true,\"placeholder_text_multiple\":\"Type or select some options\",\"placeholder_text_single\":\"Pilih satu pilihan\",\"no_results_text\":\"Tiada yang padan\"});\\n\\t\\t}\\n\\t});\\n\\t\\rjQuery(function($){ initTooltips(); $(\"body\").on(\"subform-row-add\", initTooltips); function initTooltips (event, container) { container = container || document;$(container).find(\".hasTooltip\").tooltip({\"html\": true,\"container\": \"body\"});} });\\r\\n    jQuery(document).ready(function() {\\n        var suggest = jQuery(\\'#search-tm-1 input[type=\"search\"]\\').autocomplete({\\n            serviceUrl: \\'/my/component/finder/?task=suggestions.suggest&amp;format=json&amp;tmpl=component\\',\\n            paramName: \\'q\\',\\n            minChars: 1,\\n            maxHeight: 400,\\n            width: 300,\\n            zIndex: 9999,\\n            deferRequestBy: 500\\n        });\\n\\t});\\r\\n    jQuery(document).ready(function() {\\n        var suggest = jQuery(\\'#search-tm-2 input[type=\"search\"]\\').autocomplete({\\n            serviceUrl: \\'/my/component/finder/?task=suggestions.suggest&amp;format=json&amp;tmpl=component\\',\\n            paramName: \\'q\\',\\n            minChars: 1,\\n            maxHeight: 400,\\n            width: 300,\\n            zIndex: 9999,\\n            deferRequestBy: 500\\n        });\\n\\t});\\n\\t</script>\\n\\t<script>  function printDiv(divName) {\\n     var printContents = document.getElementsByClassName(\"uk-first-column\")[0].innerHTML;\\n     var originalContents = document.body.innerHTML;\\n     document.body.innerHTML = printContents;\\n     window.print();\\n     document.body.innerHTML = originalContents;\\n}\\n\\njQuery(function($) {\\n  $.fn.jfontsize=function(opcoes){var $this=$(this);var defaults={btnMinusClasseId:\\'#saiz-font-minus\\',btnDefaultClasseId:\\'#saiz-font-default\\',btnPlusClasseId:\\'#saiz-font-plus\\',btnMinusMaxHits:10,btnPlusMaxHits:10,sizeChange:1};if(opcoes){opcoes=$.extend(defaults,opcoes)};var limite=new Array();var fontsize_padrao=new Array();$(this).each(function(i){limite[i]=0;fontsize_padrao[i];});$(opcoes.btnMinusClasseId+\\', \\'+opcoes.btnDefaultClasseId+\\', \\'+opcoes.btnPlusClasseId).removeAttr(\\'href\\');$(opcoes.btnMinusClasseId+\\', \\'+opcoes.btnDefaultClasseId+\\', \\'+opcoes.btnPlusClasseId).css(\\'cursor\\',\\'pointer\\');$(opcoes.btnMinusClasseId).click(function(){$(opcoes.btnPlusClasseId).removeClass(\\'jfontsize-disabled\\');$this.each(function(i){if(limite[i]>(-(opcoes.btnMinusMaxHits))){fontsize_padrao[i]=$(this).css(\\'font-size\\');fontsize_padrao[i]=fontsize_padrao[i].replace(\\'px\\',\\'\\');fontsize=$(this).css(\\'font-size\\');fontsize=parseInt(fontsize.replace(\\'px\\',\\'\\'));fontsize=fontsize-(opcoes.sizeChange);fontsize_padrao[i]=fontsize_padrao[i]-(limite[i]*opcoes.sizeChange);limite[i]--;$(this).css(\\'font-size\\',fontsize+\\'px\\');if(limite[i]==(-(opcoes.btnMinusMaxHits))){$(opcoes.btnMinusClasseId).addClass(\\'jfontsize-disabled\\');}}})});$(opcoes.btnDefaultClasseId).click(function(){$(opcoes.btnMinusClasseId).removeClass(\\'jfontsize-disabled\\');$(opcoes.btnPlusClasseId).removeClass(\\'jfontsize-disabled\\');$this.each(function(i){limite[i]=0;$(this).css(\\'font-size\\',fontsize_padrao[i]+\\'px\\');})});$(opcoes.btnPlusClasseId).click(function(){$(opcoes.btnMinusClasseId).removeClass(\\'jfontsize-disabled\\');$this.each(function(i){if(limite[i]<opcoes.btnPlusMaxHits){fontsize_padrao[i]=$(this).css(\\'font-size\\');fontsize_padrao[i]=fontsize_padrao[i].replace(\\'px\\',\\'\\');fontsize=$(this).css(\\'font-size\\');fontsize=parseInt(fontsize.replace(\\'px\\',\\'\\'));fontsize=fontsize+opcoes.sizeChange;fontsize_padrao[i]=fontsize_padrao[i]-(limite[i]*opcoes.sizeChange);limite[i]++;$(this).css(\\'font-size\\',fontsize+\\'px\\');if(limite[i]==opcoes.btnPlusMaxHits){$(opcoes.btnPlusClasseId).addClass(\\'jfontsize-disabled\\');}}})});};\\n});\\n\\njQuery(function($) {\\n  $().ready(function () {\\n     $(\\'html,body\\').jfontsize({\\n         btnMinusClasseId: \\'#saiz-font-minus\\',\\n         btnDefaultClasseId: \\'#saiz-font-default\\',\\n         btnPlusClasseId: \\'#saiz-font-plus\\',\\n         btnMinusMaxHits: 10,\\n         btnPlusMaxHits: 10,\\n         sizeChange: 1\\n     });\\n  });\\n});\\n\\nfunction type_tulisan() {\\n\\ttulisan = document.getElementById(\"ttulisan\").value;\\n\\tdocument.body.style.fontFamily = tulisan;\\n}\\n\\n</script>\\n\\t<link href=\"https://www.jpn.gov.my/my/hubungi-kami/direktori-kakitangan/bahagian-kewarganegaraan\" rel=\"alternate\" hreflang=\"x-default\" />\\n\\t<script>var $theme = {\"google_analytics\":\"UA-178888557-1\",\"google_analytics_anonymize\":\"\"};</script>\\n\\n    </head>\\n    <body class=\"\">\\n\\n                <div class=\"tm-page-container uk-clearfix\">\\n\\n            \\n            \\n        \\n        \\n        <div class=\"tm-page uk-margin-auto\">\\n\\n                        \\n<div class=\"tm-header-mobile uk-hidden@m\">\\n\\n\\n    <div class=\"uk-navbar-container\">\\n        <nav uk-navbar>\\n\\n                        <div class=\"uk-navbar-left\">\\n\\n                \\n                                <a class=\"uk-navbar-toggle\" href=\"#tm-mobile\" uk-toggle>\\n                    <div uk-navbar-toggle-icon></div>\\n                                    </a>\\n                \\n                \\n            </div>\\n            \\n                        <div class=\"uk-navbar-center\">\\n                \\n<a href=\"https://www.jpn.gov.my/my/\" class=\"uk-navbar-item uk-logo\">\\n    <img alt=\"PORTAL RASMI JABATAN PENDAFTARAN NEGARA\" src=\"/templates/yootheme/cache/logotitle-c0fc5ce1.png\" srcset=\"/templates/yootheme/cache/logotitle-c0fc5ce1.png 250w\" sizes=\"(min-width: 250px) 250px\" data-width=\"250\" data-height=\"53\"></a>\\n                            </div>\\n            \\n            \\n        </nav>\\n    </div>\\n\\n    \\n\\n<div id=\"tm-mobile\" uk-offcanvas mode=\"slide\" overlay>\\n    <div class=\"uk-offcanvas-bar\">\\n\\n        <button class=\"uk-offcanvas-close\" type=\"button\" uk-close></button>\\n\\n        \\n            \\n<div class=\"uk-child-width-1-1\" uk-grid>    <div>\\n<div class=\"uk-panel\" id=\"module-menu-mobile\">\\n\\n    \\n    \\n<ul class=\"uk-nav uk-nav-default uk-nav-parent-icon uk-nav-accordion\" uk-nav=\"{&quot;targets&quot;: &quot;&gt; .js-accordion&quot;}\">\\n    \\n\\t<li><a href=\"/my/\">Laman Utama</a></li>\\n\\t<li class=\"js-accordion uk-parent\"><a href>Maklumat Korporat</a>\\n\\t<ul class=\"uk-nav-sub\">\\n\\n\\t\\t<li><a href=\"/my/maklumat-korporat/perutusan-kppn\">Perutusan KPPN</a></li>\\n\\t\\t<li><a href=\"/my/maklumat-korporat/pengenalan\">Pengenalan</a></li>\\n\\t\\t<li><a href=\"/my/maklumat-korporat/sejarah\">Sejarah</a></li>\\n\\t\\t<li><a href=\"/my/maklumat-korporat/dokumen-pengenalan-diri\">Dokumen Pengenalan Diri</a></li>\\n\\t\\t<li><a href=\"/my/maklumat-korporat/dasar-agensi\">Dasar Agensi</a></li>\\n\\t\\t<li><a href=\"/my/maklumat-korporat/kod-etika\">Kod Etika</a></li>\\n\\t\\t<li><a href=\"/my/maklumat-korporat/polisi-anti-rasuah\">Polisi Anti Rasuah</a></li>\\n\\t\\t<li><a href=\"/my/maklumat-korporat/carta-organisasi-pengurusan-tertinggi-jpn\">Carta Organisasi Pengurusan Tertinggi JPN</a></li>\\n\\t\\t<li><a href=\"/my/maklumat-korporat/ketua-pegawai-maklumat-cio\">Ketua Pegawai Maklumat (CIO)</a></li></ul></li>\\n\\t<li class=\"js-accordion uk-parent\"><a href>Perkhidmatan</a>\\n\\t<ul class=\"uk-nav-sub\">\\n\\n\\t\\t<li><a href=\"/my/perkhidmatan/kelahiran\">Kelahiran</a></li>\\n\\t\\t<li><a href=\"/my/perkhidmatan/kad-pengenalan\">Kad Pengenalan</a></li>\\n\\t\\t<li><a href=\"/my/perkhidmatan/pengangkatan\">Pengangkatan</a></li>\\n\\t\\t<li class=\"uk-parent\"><a href=\"/my/perkhidmatan/perkahwinan\">Perkahwinan</a>\\n\\t\\t<ul>\\n\\n\\t\\t\\t<li><a href=\"/my/perkhidmatan/perkahwinan/perceraian\">Perceraian</a></li></ul></li>\\n\\t\\t<li><a href=\"/my/perkhidmatan/kematian\">Kematian</a></li>\\n\\t\\t<li><a href=\"/my/perkhidmatan/warganegara\">Warganegara</a></li></ul></li>\\n\\t<li class=\"js-accordion uk-parent\"><a href>Soalan Lazim</a>\\n\\t<ul class=\"uk-nav-sub\">\\n\\n\\t\\t<li><a href=\"/my/soalan-lazim/soalan-lazim-kad-pengenalan\">Kad Pengenalan</a></li>\\n\\t\\t<li><a href=\"/my/soalan-lazim/soalan-lazim-kelahiran\">Kelahiran</a></li>\\n\\t\\t<li><a href=\"/my/soalan-lazim/soalan-lazim-perkahwinan-dan-perceraian\">Perkahwinan dan Perceraian</a></li>\\n\\t\\t<li><a href=\"/my/soalan-lazim/soalan-lazim-anak-angkat\">Anak Angkat</a></li>\\n\\t\\t<li><a href=\"/my/soalan-lazim/soalan-lazim-kematian\">Kematian</a></li>\\n\\t\\t<li><a href=\"/my/soalan-lazim/warganegara\">Warganegara</a></li>\\n\\t\\t<li><a href=\"/my/soalan-lazim/pejabat-perkhidmatan-pelanggan-pengurusan-aduan\">Pejabat Perkhidmatan Pelanggan (Pengurusan Aduan)</a></li></ul></li>\\n\\t<li class=\"uk-active js-accordion uk-parent\"><a href>Hubungi Kami</a>\\n\\t<ul class=\"uk-nav-sub\">\\n\\n\\t\\t<li class=\"uk-active\"><a href=\"/my/hubungi-kami/direktori-kakitangan\">Direktori Pegawai</a></li>\\n\\t\\t<li><a href=\"/my/hubungi-kami/direktori-cawangan\">Direktori Cawangan</a></li>\\n\\t\\t<li><a href=\"/my/hubungi-kami/saluran-aduan-integriti\">Saluran Aduan Integriti</a></li>\\n\\t\\t<li><a href=\"/my/hubungi-kami/waktu-operasi-kaunter\">Waktu Operasi Kaunter</a></li></ul></li>\\n\\t<li><a href=\"/my/data-terbuka\" class=\"splwpk-open-data=&quot;splwpk-open-data\">Data Terbuka</a></li></ul>\\n\\n</div>\\n</div>    <div>\\n<div class=\"uk-panel\" id=\"module-tm-2\">\\n\\n    \\n    \\n\\n    <form id=\"search-tm-2\" action=\"/my/component/finder/search\" method=\"get\" role=\"search\" class=\"uk-search uk-search-default\">\\n<span uk-search-icon></span>\\n<input name=\"q\" placeholder=\"Cari...\" type=\"search\" class=\"uk-search-input\">\\n<input type=\"hidden\" name=\"option\" value=\"com_finder\">\\n<input type=\"hidden\" name=\"Itemid\" value=\"275\">\\n</form>\\n\\n\\n\\n\\n\\n\\n</div>\\n</div>    <div>\\n<div class=\"uk-panel\" id=\"module-tm-4\">\\n\\n    \\n    \\n<div class=\"uk-margin-remove-last-child custom\" >\\n    <ul class=\"uk-flex-inline uk-flex-middle uk-flex-nowrap uk-grid-small\" uk-grid>\\n                    <li>\\n                <a href=\"https://www.facebook.com/ModeratorJPN\" class=\"uk-icon-link\" target=\"_blank\"  uk-icon=\"{&quot;icon&quot;:&quot;facebook&quot;}\"></a>\\n            </li>\\n                    <li>\\n                <a href=\"https://www.twitter.com/jpnm_official\" class=\"uk-icon-link\" target=\"_blank\"  uk-icon=\"{&quot;icon&quot;:&quot;twitter&quot;}\"></a>\\n            </li>\\n                    <li>\\n                <a href=\"https://www.youtube.com/user/jpnmofficial\" class=\"uk-icon-link\" target=\"_blank\"  uk-icon=\"{&quot;icon&quot;:&quot;youtube&quot;}\"></a>\\n            </li>\\n                    <li>\\n                <a href=\"https://www.instagram.com/jpn_official/\" class=\"uk-icon-link\" target=\"_blank\"  uk-icon=\"{&quot;icon&quot;:&quot;instagram&quot;}\"></a>\\n            </li>\\n            </ul>\\n</div>\\n\\n</div>\\n</div></div>\\n\\n            \\n    </div>\\n</div>\\n\\n</div>\\n\\n\\n<div class=\"tm-header uk-visible@m\" uk-header>\\n\\n\\n<div class=\"tm-toolbar tm-toolbar-default tm-toolbar-transparent uk-visible@m\">\\n    <div class=\"uk-container uk-flex uk-flex-middle\">\\n\\n                <div>\\n            <div class=\"uk-grid-medium uk-child-width-auto uk-flex-middle\" uk-grid=\"margin: uk-margin-small-top\">\\n\\n                                <div>\\n<div class=\"uk-panel\" id=\"module-116\">\\n\\n    \\n    \\t<table cellpadding=\"0\" cellspacing=\"0\" class=\"moduletable\">\\n\\t\\t\\t<tr>\\n\\t\\t\\t<td>\\n\\t\\t\\t\\t\\n<div class=\"uk-panel mod-languages\">\\n\\n    \\n    \\n        <div class=\"uk-inline\">\\n\\n                                            <a tabindex=\"0\">\\n                                            <img src=\"/media/mod_languages/images/ms_my.gif\" alt=\"\" />                                        Bahasa Melayu                 </a>\\n                                                        \\n            <div uk-dropdown=\"mode: click\">\\n                <ul class=\"uk-nav uk-dropdown-nav\">\\n                                                                    <li class=\"uk-active\">\\n                            <a href=\"https://www.jpn.gov.my/my/hubungi-kami/direktori-kakitangan/bahagian-kewarganegaraan\">\\n                                                                    <img src=\"/media/mod_languages/images/ms_my.gif\" alt=\"\" />                                                                Bahasa Melayu                             </a>\\n                        </li>\\n                                                                                            <li >\\n                            <a href=\"/en/contact-us/direktori-kakitangan/citizenship-division\">\\n                                                                    <img src=\"/media/mod_languages/images/en_gb.gif\" alt=\"\" />                                                                English                            </a>\\n                        </li>\\n                                                            </ul>\\n            </div>\\n\\n        </div>\\n\\n    <a href=\"#\"> &nbsp | &nbsp</a>\\n<a href=\"#\" splwpk-w3c=\"splwpk-w3c\" class=\"saiz-font\" id=\"saiz-font-minus\" alt=\"A-\" title=\"A-\"> &nbsp A- &nbsp</a>\\n<a href=\"#\"> &nbsp|&nbsp </a>\\n<a href=\"#\" splwpk-w3c=\"splwpk-w3c\" class=\"saiz-font\" id=\"saiz-font-default\" alt=\"A\" title=\"A\">&nbsp A &nbsp</a>\\n<a href=\"#\">&nbsp | &nbsp</a>\\n<a href=\"#\" splwpk-w3c=\"splwpk-w3c\" class=\"saiz-font\" id=\"saiz-font-plus\" alt=\"A+\" title=\"A+\">&nbsp A+ &nbsp</a>\\n<a href=\"#\"> &nbsp| &nbsp</a>\\n    \\n</div>\\n\\t\\t\\t</td>\\n\\t\\t</tr>\\n\\t\\t</table>\\n\\t\\n</div>\\n</div>\\n                \\n                \\n            </div>\\n        </div>\\n        \\n                <div class=\"uk-margin-auto-left\">\\n            <div class=\"uk-grid-medium uk-child-width-auto uk-flex-middle\" uk-grid=\"margin: uk-margin-small-top\">\\n                <div>\\n<div class=\"uk-panel\" id=\"module-tm-3\">\\n\\n    \\n    \\n<div class=\"uk-margin-remove-last-child custom\" >\\n    <ul class=\"uk-flex-inline uk-flex-middle uk-flex-nowrap uk-grid-small\" uk-grid>\\n                    <li>\\n                <a href=\"https://www.facebook.com/ModeratorJPN\" class=\"uk-icon-link\" target=\"_blank\"  uk-icon=\"{&quot;icon&quot;:&quot;facebook&quot;}\"></a>\\n            </li>\\n                    <li>\\n                <a href=\"https://www.twitter.com/jpnm_official\" class=\"uk-icon-link\" target=\"_blank\"  uk-icon=\"{&quot;icon&quot;:&quot;twitter&quot;}\"></a>\\n            </li>\\n                    <li>\\n                <a href=\"https://www.youtube.com/user/jpnmofficial\" class=\"uk-icon-link\" target=\"_blank\"  uk-icon=\"{&quot;icon&quot;:&quot;youtube&quot;}\"></a>\\n            </li>\\n                    <li>\\n                <a href=\"https://www.instagram.com/jpn_official/\" class=\"uk-icon-link\" target=\"_blank\"  uk-icon=\"{&quot;icon&quot;:&quot;instagram&quot;}\"></a>\\n            </li>\\n            </ul>\\n</div>\\n\\n</div>\\n</div>\\n            </div>\\n        </div>\\n        \\n    </div>\\n</div>\\n\\n\\n\\n\\n\\n        <div class=\"tm-headerbar-top\">\\n        <div class=\"uk-container uk-flex uk-flex-middle\">\\n\\n            \\n<a href=\"https://www.jpn.gov.my/my/\" class=\"uk-logo\">\\n    <img alt=\"PORTAL RASMI JABATAN PENDAFTARAN NEGARA\" src=\"/templates/yootheme/cache/HEADER_PORTAL_19_NOV-342d9e39.png\" srcset=\"/templates/yootheme/cache/HEADER_PORTAL_19_NOV-342d9e39.png 579w, /templates/yootheme/cache/HEADER_PORTAL_19_NOV-a77bb388.png 768w, /templates/yootheme/cache/HEADER_PORTAL_19_NOV-b098b174.png 1024w, /templates/yootheme/cache/HEADER_PORTAL_19_NOV-76c1e5db.png 1158w\" sizes=\"(min-width: 579px) 579px\" data-width=\"579\" data-height=\"70\"></a>\\n            \\n                        <div class=\"uk-margin-auto-left\">\\n                <div class=\"uk-grid-medium uk-child-width-auto uk-flex-middle\" uk-grid>\\n                    <div>\\n<div class=\"uk-panel\" id=\"module-151\">\\n\\n    \\n    \\n\\n<div id=\"wk-griddb5\" class=\"wk-grid-width-1-4 wk-grid-width-small-1-4 wk-grid-width-medium-1-4 wk-grid-width-large-1-4 wk-grid-width-xlarge-1-4 wk-grid wk-grid-match wk-text-left \" data-wk-grid-match=\"{target:\\'> div > .wk-panel\\', row:true}\" data-wk-grid-margin  data-wk-scrollspy=\"{cls:\\'wk-animation-scale-up wk-invisible\\', target:\\'> div > .wk-panel\\', delay:300}\">\\n\\n\\n    <div>\\n        <div class=\"wk-panel wk-invisible\">\\n\\n            \\n            \\n                        <div class=\"wk-text-center wk-margin wk-margin-top-remove\"><div class=\"wk-overlay wk-overlay-hover \"><img src=\"/media/widgetkit/SOALANLAZIM-7b8c9e9a1699d5360fd8521aeb38e97c.png\" class=\" wk-overlay-scale\" alt=\"Soalanlazim1\" width=\"70\" height=\"70\"><a class=\"wk-position-cover\" href=\"/my/soalan-lazim/soalan-lazim-kad-pengenalan\" target=\"_blank\" title=\"Soalanlazim1\"></a></div></div>\\n            \\n            \\n            \\n            \\n            \\n            \\n            \\n            \\n            \\n        </div>\\n    </div>\\n\\n\\n    <div>\\n        <div class=\"wk-panel wk-invisible\">\\n\\n            \\n            \\n                        <div class=\"wk-text-center wk-margin wk-margin-top-remove\"><div class=\"wk-overlay wk-overlay-hover \"><img src=\"/media/widgetkit/HUBUNGIKAMI-77f6875dbccba38f6f1eec6adcf2ae2b.png\" class=\" wk-overlay-scale\" alt=\"Hubungikami1\" width=\"70\" height=\"70\"><a class=\"wk-position-cover\" href=\"/my/hubungi-kami/direktori-kakitangan\" target=\"_blank\" title=\"Hubungikami1\"></a></div></div>\\n            \\n            \\n            \\n            \\n            \\n            \\n            \\n            \\n            \\n        </div>\\n    </div>\\n\\n\\n    <div>\\n        <div class=\"wk-panel wk-invisible\">\\n\\n            \\n            \\n                        <div class=\"wk-text-center wk-margin wk-margin-top-remove\"><div class=\"wk-overlay wk-overlay-hover \"><img src=\"/media/widgetkit/ADUAN-d297c95c53e1f0046524897e78bf7feb.png\" class=\" wk-overlay-scale\" alt=\"Aduan1\" width=\"70\" height=\"70\"><a class=\"wk-position-cover\" href=\"https://jpn.spab.gov.my/eApps/system/index.do\" target=\"_blank\" title=\"Aduan1\"></a></div></div>\\n            \\n            \\n            \\n            \\n            \\n            \\n            \\n            \\n            \\n        </div>\\n    </div>\\n\\n\\n    <div>\\n        <div class=\"wk-panel wk-invisible\">\\n\\n            \\n            \\n                        <div class=\"wk-text-center wk-margin wk-margin-top-remove\"><div class=\"wk-overlay wk-overlay-hover \"><img src=\"/media/widgetkit/PETA_LAMAN-234eb0eee302c9f82ef7fd2d920ffc3d.png\" class=\" wk-overlay-scale\" alt=\"Petalaman1\" width=\"70\" height=\"70\"><a class=\"wk-position-cover\" href=\"/my/peta-laman\" target=\"_blank\" title=\"Petalaman1\"></a></div></div>\\n            \\n            \\n            \\n            \\n            \\n            \\n            \\n            \\n            \\n        </div>\\n    </div>\\n\\n\\n</div>\\n\\n<script>\\n(function($){\\n\\n    // get the images of the gallery and replace it by a canvas of the same size to fix the problem with overlapping images on load.\\n    $(\\'img[width][height]:not(.wk-overlay-panel)\\', $(\\'#wk-griddb5\\')).each(function() {\\n\\n        var $img = $(this);\\n\\n        if (this.width == \\'auto\\' || this.height == \\'auto\\' || !$img.is(\\':visible\\')) {\\n            return;\\n        }\\n\\n        var $canvas = $(\\'<canvas class=\"wk-responsive-width\"></canvas>\\').attr({width:$img.attr(\\'width\\'), height:$img.attr(\\'height\\')}),\\n            img = new Image,\\n            release = function() {\\n                $canvas.remove();\\n                $img.css(\\'display\\', \\'\\');\\n                release = function(){};\\n            };\\n\\n        $img.css(\\'display\\', \\'none\\').after($canvas);\\n\\n        $(img).on(\\'load\\', function(){ release(); });\\n        setTimeout(function(){ release(); }, 1000);\\n\\n        img.src = this.src;\\n\\n    });\\n\\n})(jQuery);\\n</script>\\n\\n</div>\\n</div><div>\\n<div class=\"uk-panel\" id=\"module-167\">\\n\\n    \\n    \\n\\n  <form class=\"hdn-splw\" splwpk-search-function=\"splwpk-search-function\"></form>\\n\\n\\n\\n</div>\\n</div><div>\\n<div class=\"uk-panel\" id=\"module-tm-1\">\\n\\n    \\n    \\n\\n    <form id=\"search-tm-1\" action=\"/my/component/finder/search\" method=\"get\" role=\"search\" class=\"uk-search uk-search-default\">\\n<span uk-search-icon></span>\\n<input name=\"q\" placeholder=\"Cari...\" type=\"search\" class=\"uk-search-input\">\\n<input type=\"hidden\" name=\"option\" value=\"com_finder\">\\n<input type=\"hidden\" name=\"Itemid\" value=\"275\">\\n</form>\\n\\n\\n\\n\\n\\n\\n</div>\\n</div>\\n                </div>\\n            </div>\\n            \\n        </div>\\n    </div>\\n    \\n    \\n                <div uk-sticky media=\"@m\" cls-active=\"uk-navbar-sticky\" sel-target=\".uk-navbar-container\">\\n        \\n            <div class=\"uk-navbar-container\">\\n\\n                <div class=\"uk-container uk-flex uk-flex-middle\">\\n                    <nav class=\"uk-navbar uk-flex-auto\" uk-navbar=\"{&quot;align&quot;:&quot;center&quot;,&quot;boundary&quot;:&quot;!.uk-navbar-container&quot;}\">\\n\\n                        \\n                                                <div class=\"uk-navbar-left uk-flex-auto\">\\n                            \\n<ul class=\"uk-navbar-nav\">\\n    \\n\\t<li><a href=\"/my/\">Laman Utama</a></li>\\n\\t<li class=\"uk-parent\"><a class=\"\" href>Maklumat Korporat</a>\\n\\t<div class=\"uk-navbar-dropdown\"><div class=\"uk-navbar-dropdown-grid uk-child-width-1-1\" uk-grid><div><ul class=\"uk-nav uk-navbar-dropdown-nav\">\\n\\n\\t\\t<li><a href=\"/my/maklumat-korporat/perutusan-kppn\">Perutusan KPPN</a></li>\\n\\t\\t<li><a href=\"/my/maklumat-korporat/pengenalan\">Pengenalan</a></li>\\n\\t\\t<li><a href=\"/my/maklumat-korporat/sejarah\">Sejarah</a></li>\\n\\t\\t<li><a href=\"/my/maklumat-korporat/dokumen-pengenalan-diri\">Dokumen Pengenalan Diri</a></li>\\n\\t\\t<li><a href=\"/my/maklumat-korporat/dasar-agensi\">Dasar Agensi</a></li>\\n\\t\\t<li><a href=\"/my/maklumat-korporat/kod-etika\">Kod Etika</a></li>\\n\\t\\t<li><a href=\"/my/maklumat-korporat/polisi-anti-rasuah\">Polisi Anti Rasuah</a></li>\\n\\t\\t<li><a href=\"/my/maklumat-korporat/carta-organisasi-pengurusan-tertinggi-jpn\">Carta Organisasi Pengurusan Tertinggi JPN</a></li>\\n\\t\\t<li><a href=\"/my/maklumat-korporat/ketua-pegawai-maklumat-cio\">Ketua Pegawai Maklumat (CIO)</a></li></ul></div></div></div></li>\\n\\t<li class=\"uk-parent\"><a class=\"\" href>Perkhidmatan</a>\\n\\t<div class=\"uk-navbar-dropdown\"><div class=\"uk-navbar-dropdown-grid uk-child-width-1-1\" uk-grid><div><ul class=\"uk-nav uk-navbar-dropdown-nav\">\\n\\n\\t\\t<li><a href=\"/my/perkhidmatan/kelahiran\">Kelahiran</a></li>\\n\\t\\t<li><a href=\"/my/perkhidmatan/kad-pengenalan\">Kad Pengenalan</a></li>\\n\\t\\t<li><a href=\"/my/perkhidmatan/pengangkatan\">Pengangkatan</a></li>\\n\\t\\t<li class=\"uk-parent\"><a href=\"/my/perkhidmatan/perkahwinan\">Perkahwinan</a>\\n\\t\\t<ul class=\"uk-nav-sub\">\\n\\n\\t\\t\\t<li><a href=\"/my/perkhidmatan/perkahwinan/perceraian\">Perceraian</a></li></ul></li>\\n\\t\\t<li><a href=\"/my/perkhidmatan/kematian\">Kematian</a></li>\\n\\t\\t<li><a href=\"/my/perkhidmatan/warganegara\">Warganegara</a></li></ul></div></div></div></li>\\n\\t<li class=\"uk-parent\"><a class=\"\" href>Soalan Lazim</a>\\n\\t<div class=\"uk-navbar-dropdown\"><div class=\"uk-navbar-dropdown-grid uk-child-width-1-1\" uk-grid><div><ul class=\"uk-nav uk-navbar-dropdown-nav\">\\n\\n\\t\\t<li><a href=\"/my/soalan-lazim/soalan-lazim-kad-pengenalan\">Kad Pengenalan</a></li>\\n\\t\\t<li><a href=\"/my/soalan-lazim/soalan-lazim-kelahiran\">Kelahiran</a></li>\\n\\t\\t<li><a href=\"/my/soalan-lazim/soalan-lazim-perkahwinan-dan-perceraian\">Perkahwinan dan Perceraian</a></li>\\n\\t\\t<li><a href=\"/my/soalan-lazim/soalan-lazim-anak-angkat\">Anak Angkat</a></li>\\n\\t\\t<li><a href=\"/my/soalan-lazim/soalan-lazim-kematian\">Kematian</a></li>\\n\\t\\t<li><a href=\"/my/soalan-lazim/warganegara\">Warganegara</a></li>\\n\\t\\t<li><a href=\"/my/soalan-lazim/pejabat-perkhidmatan-pelanggan-pengurusan-aduan\">Pejabat Perkhidmatan Pelanggan (Pengurusan Aduan)</a></li></ul></div></div></div></li>\\n\\t<li class=\"uk-active uk-parent\"><a class=\"\" href>Hubungi Kami</a>\\n\\t<div class=\"uk-navbar-dropdown\"><div class=\"uk-navbar-dropdown-grid uk-child-width-1-1\" uk-grid><div><ul class=\"uk-nav uk-navbar-dropdown-nav\">\\n\\n\\t\\t<li class=\"uk-active\"><a href=\"/my/hubungi-kami/direktori-kakitangan\">Direktori Pegawai</a></li>\\n\\t\\t<li><a href=\"/my/hubungi-kami/direktori-cawangan\">Direktori Cawangan</a></li>\\n\\t\\t<li><a href=\"/my/hubungi-kami/saluran-aduan-integriti\">Saluran Aduan Integriti</a></li>\\n\\t\\t<li><a href=\"/my/hubungi-kami/waktu-operasi-kaunter\">Waktu Operasi Kaunter</a></li></ul></div></div></div></li>\\n\\t<li><a href=\"/my/data-terbuka\" class=\"splwpk-open-data=&quot;splwpk-open-data\">Data Terbuka</a></li></ul>\\n\\n                        </div>\\n                        \\n                    </nav>\\n                </div>\\n\\n            </div>\\n\\n                </div>\\n        \\n    \\n\\n\\n</div>\\n            \\n            \\n\\n            \\n            <div id=\"tm-main\"  class=\"tm-main uk-section uk-section-default\" uk-height-viewport=\"expand: true\">\\n                <div class=\"uk-container\">\\n\\n                    \\n                                                            <div class=\"uk-margin-medium-bottom\">\\n    <ul class=\"uk-breadcrumb\">\\n        \\n                            <li><a href=\"/my/\">Utama</a></li>\\n            \\n        \\n                            <li><span>Hubungi Kami</span></li>\\n            \\n        \\n                            <li><a href=\"/my/hubungi-kami/direktori-kakitangan\">Direktori Pegawai</a></li>\\n            \\n            </ul>\\n</div>\\n                            \\n            \\n            <div id=\"system-message-container\" data-messages=\"[]\">\\n</div>\\n\\n            <div>\\n\\t<div class=\"contact-category\">\\n\\t\\t\\n\\t\\t\\t\\t\\t<h2>\\n\\t\\t\\t\\tBahagian Kewarganegaraan \\t\\t\\t</h2>\\n\\t\\t\\t\\t\\n\\t\\t\\t\\t\\t\\t\\t\\n\\t\\t\\t\\t\\t<div class=\"category-desc\">\\n\\t\\t\\t\\t\\t\\t\\t\\t\\t\\t\\t\\t\\t\\t\\t\\t\\t<p>\\n<div class=\"uk-margin-remove-last-child custom\" ><select id=\"selectbox\" style=\"border-radius: 5px; background-color: #d4d2d2; solid: #444857; width: 40%;\" name=\"\" onchange=\"javascript:location.href = this.value;\">\\r\\n<option selected=\"selected\" value=\"#\">SILA PILIH BAHAGIAN</option>\\r\\n<option value=\"https://www.jpn.gov.my/my/hubungi-kami/direktori-kakitangan/pengurusan-atasan\">PENGURUSAN ATASAN</option>\\r\\n<option value=\"https://www.jpn.gov.my/my/hubungi-kami/direktori-kakitangan/pengarah-negeri\">PENGARAH NEGERI</option>\\r\\n<option value=\"https://www.jpn.gov.my/my/hubungi-kami/direktori-kakitangan/bahagian-kp\">BAHAGIAN KAD PENGENALAN</option>\\r\\n<option value=\"https://www.jpn.gov.my/my/hubungi-kami/direktori-kakitangan/pejabat-koordinasi-perolehan-dan-kontrak\">PEJABAT KOORDINASI PEROLEHAN DAN KONTRAK</option>\\r\\n<option value=\"https://www.jpn.gov.my/my/hubungi-kami/direktori-kakitangan/bahagian-kelahiran-kematian-anak-angkat\">BAHAGIAN KELAHIRAN KEMATIAN &amp; ANAK ANGKAT</option>\\r\\n<option value=\"https://www.jpn.gov.my/my/hubungi-kami/direktori-kakitangan/bahagian-kewangan-pembangunan\">BAHAGIAN KEWANGAN DAN PEMBANGUNAN</option>\\r\\n<option value=\"https://www.jpn.gov.my/my/hubungi-kami/direktori-kakitangan/bahagian-kewarganegaraan\">BAHAGIAN KEWARGANEGARAAN</option>\\r\\n<option value=\"https://www.jpn.gov.my/my/hubungi-kami/direktori-kakitangan/bahagian-teknologi-maklumat\">BAHAGIAN TEKNOLOGI MAKLUMAT</option>\\r\\n<option value=\"https://www.jpn.gov.my/my/hubungi-kami/direktori-kakitangan/bahagian-dasar-dan-pemodenan\">BAHAGIAN DASAR DAN PEMODENAN</option>\\r\\n<option value=\"https://www.jpn.gov.my/my/hubungi-kami/direktori-kakitangan/bahagian-perkahwinan-perceraian\">BAHAGIAN PERKAHWINAN &amp; PERCERAIAN</option>\\r\\n<option value=\"https://www.jpn.gov.my/my/hubungi-kami/direktori-kakitangan/bahagian-siasatan-penguatkuasaan\">BAHAGIAN SIASATAN &amp; PENGUATKUASAAN</option>\\r\\n<option value=\"https://www.jpn.gov.my/my/hubungi-kami/direktori-kakitangan/unit-komunikasi-korporat\">UNIT KOMUNIKASI KORPORAT</option>\\r\\n<option value=\"https://www.jpn.gov.my/my/hubungi-kami/direktori-kakitangan/pusat-pengurusan-rekod\">PUSAT PENGURUSAN REKOD</option>\\r\\n<option value=\"https://www.jpn.gov.my/my/hubungi-kami/direktori-kakitangan/unit-integriti-dan-pematuhan\">UNIT INTEGRITI DAN PEMATUHAN</option>\\r\\n<option value=\"https://www.jpn.gov.my/my/hubungi-kami/direktori-kakitangan/pejabat-penasihat-dan-undang-undang\">PEJABAT PENASIHAT UNDANG-UNDANG</option>\\r\\n<option value=\"https://www.jpn.gov.my/my/hubungi-kami/direktori-kakitangan/bahagian-sumber-manusia\">BAHAGIAN SUMBER MANUSIA</option>\\r\\n<option value=\"https://www.jpn.gov.my/my/hubungi-kami/direktori-kakitangan/bahagian-pentadbiran\">BAHAGIAN PENTADBIRAN</option>\\r\\n</select></div>\\n</p>\\t\\t\\t\\t\\t\\t\\t\\t\\t\\t\\t\\t<div class=\"clr\"></div>\\n\\t\\t\\t</div>\\n\\t\\t\\t\\t<form action=\"https://www.jpn.gov.my/my/hubungi-kami/direktori-kakitangan/bahagian-kewarganegaraan\" method=\"post\" name=\"adminForm\" id=\"adminForm\">\\n\\t\\t\\t<fieldset class=\"filters btn-toolbar\">\\n\\t\\t\\t\\t\\t\\t\\t<div class=\"btn-group\">\\n\\t\\t\\t\\t\\t<label class=\"filter-search-lbl element-invisible\" for=\"filter-search\">\\n\\t\\t\\t\\t\\t\\t<span class=\"label label-warning\">\\n\\t\\t\\t\\t\\t\\t\\tTidak diterbitkan\\t\\t\\t\\t\\t\\t</span>\\n\\t\\t\\t\\t\\t\\t\\tBidang penapis&#160;\\t\\t\\t\\t\\t</label>\\n\\t\\t\\t\\t\\t<input\\n\\t\\t\\t\\t\\t\\ttype=\"text\"\\n\\t\\t\\t\\t\\t\\tname=\"filter-search\"\\n\\t\\t\\t\\t\\t\\tid=\"filter-search\"\\n\\t\\t\\t\\t\\t\\tvalue=\"\"\\n\\t\\t\\t\\t\\t\\tclass=\"inputbox\"\\n\\t\\t\\t\\t\\t\\tonchange=\"document.adminForm.submit();\"\\n\\t\\t\\t\\t\\t\\ttitle=\"Carian Penapis Hubungan\"\\n\\t\\t\\t\\t\\t\\tplaceholder=\"Carian Penapis Hubungan\"\\n\\t\\t\\t\\t\\t/>\\n\\t\\t\\t\\t</div>\\n\\t\\t\\t\\t\\t\\t\\t\\t\\t\\t<div class=\"btn-group pull-right\">\\n\\t\\t\\t\\t\\t<label for=\"limit\" class=\"element-invisible\">\\n\\t\\t\\t\\t\\t\\tPapar #\\t\\t\\t\\t\\t</label>\\n\\t\\t\\t\\t\\t<select id=\"limit\" name=\"limit\" class=\"inputbox input-mini\" size=\"1\" onchange=\"this.form.submit()\">\\n\\t<option value=\"5\">5</option>\\n\\t<option value=\"10\">10</option>\\n\\t<option value=\"15\">15</option>\\n\\t<option value=\"20\" selected=\"selected\">20</option>\\n\\t<option value=\"25\">25</option>\\n\\t<option value=\"30\">30</option>\\n\\t<option value=\"50\">50</option>\\n\\t<option value=\"100\">100</option>\\n\\t<option value=\"0\">Semua</option>\\n</select>\\n\\t\\t\\t\\t</div>\\n\\t\\t\\t\\t\\t</fieldset>\\n\\t\\t\\t\\t<ul class=\"category row-striped\">\\n\\t\\t\\t\\t\\t\\t\\t\\t\\t\\t\\t\\t\\t\\t\\t\\t\\t\\t<li class=\"row-fluid cat-list-row0\" >\\n\\t\\t\\t\\t\\t\\t\\t\\t\\t\\t\\t\\t\\t\\t\\t\\t\\t\\t\\t\\t\\t\\t<div class=\"span2 col-md-2\">\\n\\t\\t\\t\\t\\t\\t\\t\\t\\t\\t\\t\\t\\t\\t\\t<a href=\"/my/contact-us/direktori-kakitangan/bahagian-kewarganegaraan-2/9-siti-maslinda\">\\n\\t\\t\\t\\t\\t\\t\\t\\t\\t<img src=\"/images/GBR-PENGARAH-BHG-NEGERI/Maslinda_BKA.jpg\" alt=\"Hubungan-imej\" class=\"contact-thumbnail img-thumbnail\" />\\t\\t\\t\\t\\t\\t\\t\\t</a>\\n\\t\\t\\t\\t\\t\\t\\t\\t\\t\\t\\t\\t\\t</div>\\n\\t\\t\\t\\t\\t\\t\\t\\t\\t\\t<div class=\"list-title span7 col-md-7\">\\n\\t\\t\\t\\t\\t\\t<a href=\"/my/contact-us/direktori-kakitangan/bahagian-kewarganegaraan-2/9-siti-maslinda\">\\n\\t\\t\\t\\t\\t\\t\\tSiti Maslinda binti Mardi\\t\\t\\t\\t\\t\\t</a>\\n\\t\\t\\t\\t\\t\\t\\t\\t\\t\\t\\t\\t\\t\\t\\t\\t\\t\\t<dl class=\"fields-container contact-fields dl-horizontal\"><dt class=\"contact-field-entry \">\\n\\t\\t\\t<span class=\"field-label \">Jawatan: </span>\\n\\t</dt>\\n<dd class=\"contact-field-entry \">\\n\\t<span class=\"field-value\">Pengarah Warganegara</span>\\n</dd>\\n<dt class=\"contact-field-entry \">\\n\\t\\t\\t<span class=\"field-label \">Telefon: </span>\\n\\t</dt>\\n<dd class=\"contact-field-entry \">\\n\\t<span class=\"field-value\">03-8880 7023</span>\\n</dd>\\n<dt class=\"contact-field-entry \">\\n\\t\\t\\t<span class=\"field-label \">Faks: </span>\\n\\t</dt>\\n<dd class=\"contact-field-entry \">\\n\\t<span class=\"field-value\">03-8880 8185</span>\\n</dd>\\n<dt class=\"contact-field-entry \">\\n\\t\\t\\t<span class=\"field-label \">Bahagian: </span>\\n\\t</dt>\\n<dd class=\"contact-field-entry \">\\n\\t<span class=\"field-value\">Bahagian Kewarganegaraan (BWN)</span>\\n</dd>\\n</dl>\\t\\t\\t\\t\\t\\t\\t\\t\\t\\t\\t\\t\\t<br />\\n\\t\\t\\t\\t\\t\\t\\t\\t\\t\\t\\t\\t\\t\\t\\t\\t\\t\\t\\t<br />\\n\\t\\t\\t\\t\\t\\t\\t\\t\\t\\t\\t\\t\\t\\t\\t\\t\\t\\t\\t\\t\\t\\t\\t\\t\\t\\t\\t\\t\\t\\t\\t\\t\\t\\t\\t\\t\\t\\t\\t\\t\\t</div>\\n\\t\\t\\t\\t\\t<div class=\"span3 col-md-3\">\\n\\t\\t\\t\\t\\t\\t\\t\\t\\t\\t\\t\\t\\t\\t\\t\\t\\t\\t\\t\\t\\t\\t\\t</div>\\n\\t\\t\\t\\t\\t\\t\\t\\t\\t</li>\\n\\t\\t\\t\\t\\t\\t\\t\\t\\t\\t\\t\\t\\t\\t\\t\\t\\t\\t\\t\\t\\t\\t<li class=\"row-fluid cat-list-row1\" >\\n\\t\\t\\t\\t\\t\\t\\t\\t\\t\\t\\t\\t\\t\\t\\t\\t\\t\\t\\t\\t\\t\\t<div class=\"span2 col-md-2\">\\n\\t\\t\\t\\t\\t\\t\\t\\t\\t\\t\\t\\t\\t</div>\\n\\t\\t\\t\\t\\t\\t\\t\\t\\t\\t<div class=\"list-title span7 col-md-7\">\\n\\t\\t\\t\\t\\t\\t<a href=\"/my/contact-us/direktori-kakitangan/bahagian-kewarganegaraan-2/86-azwan-bin-kadir\">\\n\\t\\t\\t\\t\\t\\t\\tAzwan bin Kadir\\t\\t\\t\\t\\t\\t</a>\\n\\t\\t\\t\\t\\t\\t\\t\\t\\t\\t\\t\\t\\t\\t\\t\\t\\t\\t<dl class=\"fields-container contact-fields dl-horizontal\"><dt class=\"contact-field-entry \">\\n\\t\\t\\t<span class=\"field-label \">Jawatan: </span>\\n\\t</dt>\\n<dd class=\"contact-field-entry \">\\n\\t<span class=\"field-value\">Timbalan Pengarah Kewarganegaraan</span>\\n</dd>\\n<dt class=\"contact-field-entry \">\\n\\t\\t\\t<span class=\"field-label \">Telefon: </span>\\n\\t</dt>\\n<dd class=\"contact-field-entry \">\\n\\t<span class=\"field-value\">03-8880 8179</span>\\n</dd>\\n<dt class=\"contact-field-entry \">\\n\\t\\t\\t<span class=\"field-label \">Faks: </span>\\n\\t</dt>\\n<dd class=\"contact-field-entry \">\\n\\t<span class=\"field-value\">03-8880 8185</span>\\n</dd>\\n<dt class=\"contact-field-entry \">\\n\\t\\t\\t<span class=\"field-label \">Email (@jpn.gov.my): </span>\\n\\t</dt>\\n<dd class=\"contact-field-entry \">\\n\\t<span class=\"field-value\">azwankadir</span>\\n</dd>\\n<dt class=\"contact-field-entry \">\\n\\t\\t\\t<span class=\"field-label \">Bahagian: </span>\\n\\t</dt>\\n<dd class=\"contact-field-entry \">\\n\\t<span class=\"field-value\">Bahagian Kewarganegaraan (BWN)</span>\\n</dd>\\n</dl>\\t\\t\\t\\t\\t\\t\\t\\t\\t\\t\\t\\t\\t<br />\\n\\t\\t\\t\\t\\t\\t\\t\\t\\t\\t\\t\\t\\t\\t\\t\\t\\t\\t\\t<br />\\n\\t\\t\\t\\t\\t\\t\\t\\t\\t\\t\\t\\t\\t\\t\\t\\t\\t\\t\\t\\t\\t\\t\\t\\t\\t\\t\\t\\t\\t\\t\\t\\t\\t\\t\\t\\t\\t\\t\\t\\t\\t</div>\\n\\t\\t\\t\\t\\t<div class=\"span3 col-md-3\">\\n\\t\\t\\t\\t\\t\\t\\t\\t\\t\\t\\t\\t\\t\\t\\t\\t\\t\\t\\t\\t\\t\\t\\t</div>\\n\\t\\t\\t\\t\\t\\t\\t\\t\\t</li>\\n\\t\\t\\t\\t\\t\\t\\t\\t\\t\\t\\t\\t\\t\\t\\t\\t\\t\\t\\t\\t\\t\\t<li class=\"row-fluid cat-list-row0\" >\\n\\t\\t\\t\\t\\t\\t\\t\\t\\t\\t\\t\\t\\t\\t\\t\\t\\t\\t\\t\\t\\t\\t<div class=\"span2 col-md-2\">\\n\\t\\t\\t\\t\\t\\t\\t\\t\\t\\t\\t\\t\\t</div>\\n\\t\\t\\t\\t\\t\\t\\t\\t\\t\\t<div class=\"list-title span7 col-md-7\">\\n\\t\\t\\t\\t\\t\\t<a href=\"/my/contact-us/direktori-kakitangan/bahagian-kewarganegaraan-2/23-mohammed-firdaus-bin-ahmad-shahidan\">\\n\\t\\t\\t\\t\\t\\t\\tMohammed Firdaus bin Ahmad Shahidan\\t\\t\\t\\t\\t\\t</a>\\n\\t\\t\\t\\t\\t\\t\\t\\t\\t\\t\\t\\t\\t\\t\\t\\t\\t\\t<dl class=\"fields-container contact-fields dl-horizontal\"><dt class=\"contact-field-entry \">\\n\\t\\t\\t<span class=\"field-label \">Jawatan: </span>\\n\\t</dt>\\n<dd class=\"contact-field-entry \">\\n\\t<span class=\"field-value\">Penolong Pengarah Kewarganegaraan (Unit Kaunter / Rekod)</span>\\n</dd>\\n<dt class=\"contact-field-entry \">\\n\\t\\t\\t<span class=\"field-label \">Telefon: </span>\\n\\t</dt>\\n<dd class=\"contact-field-entry \">\\n\\t<span class=\"field-value\">03-8880 8143</span>\\n</dd>\\n<dt class=\"contact-field-entry \">\\n\\t\\t\\t<span class=\"field-label \">Email (@jpn.gov.my): </span>\\n\\t</dt>\\n<dd class=\"contact-field-entry \">\\n\\t<span class=\"field-value\">mohammedfirdaus</span>\\n</dd>\\n<dt class=\"contact-field-entry \">\\n\\t\\t\\t<span class=\"field-label \">Bahagian: </span>\\n\\t</dt>\\n<dd class=\"contact-field-entry \">\\n\\t<span class=\"field-value\">Bahagian Kewarganegaraan (BWN)</span>\\n</dd>\\n</dl>\\t\\t\\t\\t\\t\\t\\t\\t\\t\\t\\t\\t\\t<br />\\n\\t\\t\\t\\t\\t\\t\\t\\t\\t\\t\\t\\t\\t\\t\\t\\t\\t\\t\\t<br />\\n\\t\\t\\t\\t\\t\\t\\t\\t\\t\\t\\t\\t\\t\\t\\t\\t\\t\\t\\t\\t\\t\\t\\t\\t\\t\\t\\t\\t\\t\\t\\t\\t\\t\\t\\t\\t\\t\\t\\t\\t\\t</div>\\n\\t\\t\\t\\t\\t<div class=\"span3 col-md-3\">\\n\\t\\t\\t\\t\\t\\t\\t\\t\\t\\t\\t\\t\\t\\t\\t\\t\\t\\t\\t\\t\\t\\t\\t</div>\\n\\t\\t\\t\\t\\t\\t\\t\\t\\t</li>\\n\\t\\t\\t\\t\\t\\t\\t\\t\\t\\t\\t\\t\\t\\t\\t\\t\\t\\t\\t\\t\\t\\t<li class=\"row-fluid cat-list-row1\" >\\n\\t\\t\\t\\t\\t\\t\\t\\t\\t\\t\\t\\t\\t\\t\\t\\t\\t\\t\\t\\t\\t\\t<div class=\"span2 col-md-2\">\\n\\t\\t\\t\\t\\t\\t\\t\\t\\t\\t\\t\\t\\t</div>\\n\\t\\t\\t\\t\\t\\t\\t\\t\\t\\t<div class=\"list-title span7 col-md-7\">\\n\\t\\t\\t\\t\\t\\t<a href=\"/my/contact-us/direktori-kakitangan/bahagian-kewarganegaraan-2/25-nur-haryani-binti-abd-latiff\">\\n\\t\\t\\t\\t\\t\\t\\tNur Haryani binti Abd Latiff\\t\\t\\t\\t\\t\\t</a>\\n\\t\\t\\t\\t\\t\\t\\t\\t\\t\\t\\t\\t\\t\\t\\t\\t\\t\\t<dl class=\"fields-container contact-fields dl-horizontal\"><dt class=\"contact-field-entry \">\\n\\t\\t\\t<span class=\"field-label \">Jawatan: </span>\\n\\t</dt>\\n<dd class=\"contact-field-entry \">\\n\\t<span class=\"field-value\">Penolong Pengarah Kewarganegaraan</span>\\n</dd>\\n<dt class=\"contact-field-entry \">\\n\\t\\t\\t<span class=\"field-label \">Telefon: </span>\\n\\t</dt>\\n<dd class=\"contact-field-entry \">\\n\\t<span class=\"field-value\">03-8880 8117</span>\\n</dd>\\n<dt class=\"contact-field-entry \">\\n\\t\\t\\t<span class=\"field-label \">Email (@jpn.gov.my): </span>\\n\\t</dt>\\n<dd class=\"contact-field-entry \">\\n\\t<span class=\"field-value\">nurharyani</span>\\n</dd>\\n<dt class=\"contact-field-entry \">\\n\\t\\t\\t<span class=\"field-label \">Bahagian: </span>\\n\\t</dt>\\n<dd class=\"contact-field-entry \">\\n\\t<span class=\"field-value\">Bahagian Kewarganegaraan (BWN)</span>\\n</dd>\\n</dl>\\t\\t\\t\\t\\t\\t\\t\\t\\t\\t\\t\\t\\t<br />\\n\\t\\t\\t\\t\\t\\t\\t\\t\\t\\t\\t\\t\\t\\t\\t\\t\\t\\t\\t<br />\\n\\t\\t\\t\\t\\t\\t\\t\\t\\t\\t\\t\\t\\t\\t\\t\\t\\t\\t\\t\\t\\t\\t\\t\\t\\t\\t\\t\\t\\t\\t\\t\\t\\t\\t\\t\\t\\t\\t\\t\\t\\t</div>\\n\\t\\t\\t\\t\\t<div class=\"span3 col-md-3\">\\n\\t\\t\\t\\t\\t\\t\\t\\t\\t\\t\\t\\t\\t\\t\\t\\t\\t\\t\\t\\t\\t\\t\\t</div>\\n\\t\\t\\t\\t\\t\\t\\t\\t\\t</li>\\n\\t\\t\\t\\t\\t\\t\\t\\t\\t\\t\\t\\t\\t\\t\\t\\t\\t\\t\\t\\t\\t\\t<li class=\"row-fluid cat-list-row0\" >\\n\\t\\t\\t\\t\\t\\t\\t\\t\\t\\t\\t\\t\\t\\t\\t\\t\\t\\t\\t\\t\\t\\t<div class=\"span2 col-md-2\">\\n\\t\\t\\t\\t\\t\\t\\t\\t\\t\\t\\t\\t\\t</div>\\n\\t\\t\\t\\t\\t\\t\\t\\t\\t\\t<div class=\"list-title span7 col-md-7\">\\n\\t\\t\\t\\t\\t\\t<a href=\"/my/contact-us/direktori-kakitangan/bahagian-kewarganegaraan-2/295-rosmawati-binti-awang\">\\n\\t\\t\\t\\t\\t\\t\\tRosmawati binti Awang\\t\\t\\t\\t\\t\\t</a>\\n\\t\\t\\t\\t\\t\\t\\t\\t\\t\\t\\t\\t\\t\\t\\t\\t\\t\\t<dl class=\"fields-container contact-fields dl-horizontal\"><dt class=\"contact-field-entry \">\\n\\t\\t\\t<span class=\"field-label \">Jawatan: </span>\\n\\t</dt>\\n<dd class=\"contact-field-entry \">\\n\\t<span class=\"field-value\">Pegawai Pendaftaran</span>\\n</dd>\\n<dt class=\"contact-field-entry \">\\n\\t\\t\\t<span class=\"field-label \">Email (@jpn.gov.my): </span>\\n\\t</dt>\\n<dd class=\"contact-field-entry \">\\n\\t<span class=\"field-value\">rosmawatiawang</span>\\n</dd>\\n<dt class=\"contact-field-entry \">\\n\\t\\t\\t<span class=\"field-label \">Bahagian: </span>\\n\\t</dt>\\n<dd class=\"contact-field-entry \">\\n\\t<span class=\"field-value\">Bahagian Kewarganegaraan (BWN)</span>\\n</dd>\\n</dl>\\t\\t\\t\\t\\t\\t\\t\\t\\t\\t\\t\\t\\t<br />\\n\\t\\t\\t\\t\\t\\t\\t\\t\\t\\t\\t\\t\\t\\t\\t\\t\\t\\t\\t<br />\\n\\t\\t\\t\\t\\t\\t\\t\\t\\t\\t\\t\\t\\t\\t\\t\\t\\t\\t\\t\\t\\t\\t\\t\\t\\t\\t\\t\\t\\t\\t\\t\\t\\t\\t\\t\\t\\t\\t\\t\\t\\t</div>\\n\\t\\t\\t\\t\\t<div class=\"span3 col-md-3\">\\n\\t\\t\\t\\t\\t\\t\\t\\t\\t\\t\\t\\t\\t\\t\\t\\t\\t\\t\\t\\t\\t\\t\\t</div>\\n\\t\\t\\t\\t\\t\\t\\t\\t\\t</li>\\n\\t\\t\\t\\t\\t\\t\\t\\t\\t</ul>\\n\\t\\t\\t\\t<div class=\"pagination\">\\n\\t\\t\\t\\t\\t\\t\\t<p class=\"counter\">\\n\\t\\t\\t\\t\\t\\t\\t\\t\\t</p>\\n\\t\\t\\t\\t\\t\\t\\t\\t</div>\\n\\t\\t<div>\\n\\t\\t<input type=\"hidden\" name=\"filter_order\" value=\"ordering\" />\\n\\t\\t<input type=\"hidden\" name=\"filter_order_Dir\" value=\"ASC\" />\\n\\t</div>\\n</form>\\n\\n\\t\\t\\t</div>\\n</div>\\n\\n\\n\\n            \\n                        \\n                </div>\\n            </div>\\n            \\n            \\n\\n            <!-- Builder #footer -->\\n<div class=\"uk-section-secondary uk-section uk-section-xsmall uk-padding-remove-bottom\">\\n    \\n        \\n        \\n        \\n            \\n                                <div class=\"uk-container\">                \\n                    \\n                    <div class=\"tm-grid-expand uk-grid-margin\" uk-grid>\\n<div class=\"uk-width-1-2@s uk-width-1-5@m\">\\n    \\n        \\n            \\n            \\n                \\n<div class=\"uk-card uk-card-body uk-card-secondary\">\\n    \\n    \\n<ul class=\"uk-nav uk-nav-default\">\\n    \\n\\t<li><a href=\"/my/penafian\">Penafian</a></li>\\n\\t<li><a href=\"/my/notis-hakcipta\">Notis Hakcipta</a></li>\\n\\t<li><a href=\"/my/dasar-keselamatan\">Dasar Keselamatan</a></li>\\n\\t<li><a href=\"/my/dasar-privasi\" class=\"splwpk-privacy-policy\">Dasar Privasi</a></li>\\n\\t<li><a href=\"/my/arkib\">Arkib</a></li>\\n\\t<li><a href=\"/my/peta-laman\">Peta Laman</a></li></ul>\\n\\n</div>\\n<div><footer>\\n  <a href=\"/my/dasar-privasi\" splwpk-privacy-policy=\"splwpk-privacy-policy\" splwpk-pdpa=\"splwpk-pdpa\">.</a>\\n</footer>\\n\\n</div>\\n            \\n        \\n    \\n</div>\\n\\n<div class=\"uk-width-1-2@s uk-width-1-5@m uk-visible@l\">\\n    \\n        \\n            \\n            \\n                \\n<h6 class=\"uk-h6 uk-visible@l uk-margin-remove-top uk-margin-remove-bottom\">        PENGIKTIRAFAN DAN PENSIJILAN    </h6>\\n<div class=\"uk-visible@l uk-margin-xlarge uk-margin-remove-top uk-width-medium uk-margin-auto\">\\n    <div class=\"uk-child-width-1-2 uk-child-width-1-2@s uk-child-width-1-2@m uk-child-width-1-2@l uk-child-width-1-2@xl uk-flex-center uk-flex-middle uk-grid-small uk-grid-match\" uk-grid>        <div>\\n<div class=\"el-item uk-margin-auto uk-width-small uk-panel uk-margin-remove-first-child\">\\n    \\n        \\n                    \\n\\n        \\n        \\n        \\n    \\n                <img class=\"el-image uk-margin-large-top\" alt data-src=\"/templates/yootheme/cache/CERT1-10e0f877.jpeg\" data-srcset=\"/templates/yootheme/cache/CERT1-10e0f877.jpeg 89w\" data-sizes=\"(min-width: 89px) 89px\" data-width=\"89\" data-height=\"60\" uk-img>        \\n        \\n        \\n        \\n        \\n        \\n        \\n    \\n</div></div>\\n        <div>\\n<div class=\"el-item uk-margin-auto uk-width-small uk-panel uk-margin-remove-first-child\">\\n    \\n        \\n                    \\n\\n        \\n        \\n        \\n    \\n                <img class=\"el-image uk-margin-large-top\" alt data-src=\"/templates/yootheme/cache/CERT2-ab34f664.jpeg\" data-srcset=\"/templates/yootheme/cache/CERT2-ab34f664.jpeg 89w\" data-sizes=\"(min-width: 89px) 89px\" data-width=\"89\" data-height=\"60\" uk-img>        \\n        \\n        \\n        \\n        \\n        \\n        \\n    \\n</div></div>\\n        <div>\\n<div class=\"el-item uk-margin-auto uk-width-small uk-panel uk-margin-remove-first-child\">\\n    \\n        \\n                    \\n\\n        \\n        \\n        \\n    \\n                <img class=\"el-image uk-margin-large-top\" alt data-src=\"/templates/yootheme/cache/CERT3-c278f395.jpeg\" data-srcset=\"/templates/yootheme/cache/CERT3-c278f395.jpeg 89w\" data-sizes=\"(min-width: 89px) 89px\" data-width=\"89\" data-height=\"60\" uk-img>        \\n        \\n        \\n        \\n        \\n        \\n        \\n    \\n</div></div>\\n        <div>\\n<div class=\"el-item uk-margin-auto uk-width-small uk-panel uk-margin-remove-first-child\">\\n    \\n        \\n                    \\n\\n        \\n        \\n        \\n    \\n                <img class=\"el-image uk-margin-large-top\" alt data-src=\"/templates/yootheme/cache/CERT4-07edec03.jpeg\" data-srcset=\"/templates/yootheme/cache/CERT4-07edec03.jpeg 89w\" data-sizes=\"(min-width: 89px) 89px\" data-width=\"89\" data-height=\"60\" uk-img>        \\n        \\n        \\n        \\n        \\n        \\n        \\n    \\n</div></div>\\n        <div>\\n<div class=\"el-item uk-margin-auto uk-width-small uk-panel uk-margin-remove-first-child\">\\n    \\n        \\n                    \\n\\n        \\n        \\n        \\n    \\n                <img class=\"el-image uk-margin-large-top\" alt data-src=\"/templates/yootheme/cache/CERT_5-2e3e0ce4.jpeg\" data-srcset=\"/templates/yootheme/cache/CERT_5-2e3e0ce4.jpeg 89w, /templates/yootheme/cache/CERT_5-a6268121.jpeg 178w\" data-sizes=\"(min-width: 89px) 89px\" data-width=\"89\" data-height=\"60\" uk-img>        \\n        \\n        \\n        \\n        \\n        \\n        \\n    \\n</div></div>\\n        </div>\\n\\n</div>\\n\\n            \\n        \\n    \\n</div>\\n\\n<div class=\"uk-width-1-1@s uk-width-3-5@m\">\\n    \\n        \\n            \\n            \\n                <div class=\"uk-panel uk-text-small uk-margin\"><p style=\"text-align: center;\"><span style=\"font-size: 10pt;\"><br />Ibu Pejabat Jabatan Pendaftaran Negara Putrajaya,\\xa0<br />No 20, Persiaran Perdana, Presint 2,<br /></span><span style=\"font-size: 10pt;\">Pusat Pentadbiran Kerajaan Persekutuan ,<br />62551 Wilayah Persekutuan Putrajaya.\\xa0</span><br /><span style=\"font-size: 10pt;\">Telefon: 03-8000 8000 | Faks: 03-8880 8288 | <br />Emel(@jpn.gov.my): pro</span></p></div><div class=\"uk-panel uk-margin uk-margin-remove-top uk-margin-remove-bottom\"><p style=\"text-align: center;\">(C) Hakcipta Terpelihara 2021 - Jabatan Pendaftaran Negara Malaysia</p></div>\\n<div class=\"uk-panel uk-margin-remove-top uk-margin-remove-bottom uk-text-center\">\\n    \\n    <dl class=\"stats-module\">\\n\\t<dt>Jumlah Capaian</dt>\\n\\t<dd>672076</dd>\\n</dl>\\n\\n</div>\\n\\n            \\n        \\n    \\n</div>\\n</div>\\n                                </div>\\n                \\n            \\n        \\n    \\n</div>\\n<style>#footer\\\\#0-0-0-0 .uk-subnav { display:inline-flex; } </style>\\n        </div>\\n\\n                </div>\\n        \\n        \\n\\n    </body>\\n</html>\\n'"
      ]
     },
     "execution_count": 9,
     "metadata": {},
     "output_type": "execute_result"
    }
   ],
   "source": [
    "data.text\n",
    "\n"
   ]
  },
  {
   "cell_type": "code",
   "execution_count": 37,
   "metadata": {},
   "outputs": [
    {
     "name": "stderr",
     "output_type": "stream",
     "text": [
      "D:\\Anaconda3\\envs\\python-dscourse\\lib\\site-packages\\urllib3\\connectionpool.py:981: InsecureRequestWarning: Unverified HTTPS request is being made to host 'www.ptptn.gov.my'. Adding certificate verification is strongly advised. See: https://urllib3.readthedocs.io/en/latest/advanced-usage.html#ssl-warnings\n",
      "  warnings.warn(\n"
     ]
    },
    {
     "name": "stdout",
     "output_type": "stream",
     "text": [
      "['ahmadshahril@ptptn.gov.my', 'sarah@ptptn.gov.my', 'umminadira@ptptn.gov.my', 'nabillah@ptptn.gov.my', 'noorshaheera@ptptn.gov.my', 'fadzlina@ptptn.gov.my', 'nurulhusna@ptptn.gov.my', 'nurul_atiqah@ptptn.gov.my', 'nur_atikah@ptptn.gov.my', 'nadhirah@ptptn.gov.my', 'noorehan@ptptn.gov.my', 'ismail.m@ptptn.gov.my', 'norzaidah@ptptn.gov.my', 'farahanim_a@ptptn.gov.my', 'masliana@ptptn.gov.my', 'arif_h@ptptn.gov.my', 'kamarul_a@ptptn.gov.my', 'fazaitum@ptptn.gov.my', 'wan_norasyikin@ptptn.gov.my', 'karthinee@ptptn.gov.my', 'izzasuria@ptptn.gov.my', 's.nurul@ptptn.gov.my', 'nursyafira@ptptn.gov.my', 'hafsoh@ptptn.gov.my', 'nuraishah@ptptn.gov.my', 'norhidayati@ptptn.gov.my', 's.nurhaishah@ptptn.gov.my', 'roslan@ptptn.gov.my', 'haslida@ptptn.gov.my', 'md_ismail@ptptn.gov.my', 'amani@ptptn.gov.my', 'malissa@ptptn.gov.my', 'm_shafik@ptptn.gov.my', 'fadzilah_m@ptptn.gov.my', 'norhasimah@ptptn.gov.my', 'fazyanti@ptptn.gov.my', 'yushanaliza@ptptn.gov.my', 'n.hanis@ptptn.gov.my', 'nasruddin_j@ptptn.gov.my', 'zahidah_mat@ptptn.gov.my', 'hazwani@ptptn.gov.my', 'n.hanis@ptptn.gov.my', 'mohd_hanif@ptptn.gov.my', 'nor_farid@ptptn.gov.my', 'a_zulfadli@ptptn.gov.my', 'mahaziah@ptptn.gov.my', 'khairi@ptptn.gov.my', 'nurulfarahin@ptptn.gov.my', 'khairul_effandy@ptptn.gov.my', 'aainaa@ptptn.gov.my', 'syafiq.s@ptptn.gov.my', 'khairul.hazmi@ptptn.gov.my', 'norfadhlina@ptptn.gov.my', 'nr_asmah@ptptn.gov.my', 'saridaasikin@ptptn.gov.my', 'ratnawong@ptptn.gov.my', 'arusti@ptptn.gov.my', 'mariana@ptptn.gov.my', 'n_ameera@ptptn.gov.my', 'zainon@ptptn.gov.my', 'harnita@ptptn.gov.my', 'siti_rafidah@ptptn.gov.my', 'm_rashid@ptptn.gov.my', 'khafizi@ptptn.gov.my', 'norhayate@ptptn.gov.my', 'rubiatul@ptptn.gov.my', 'nazren@ptptn.gov.my', 'hamidi@ptptn.gov.my', 'nazifahd@ptptn.gov.my', 'zufaiyri@ptptn.gov.my', 'aziera@ptptn.gov.my', 'noramin@ptptn.gov.my', 'maszura@ptptn.gov.my', 'norina@ptptn.gov.my', 'fitzrie@ptptn.gov.my', 'azwan@ptptn.gov.my', 'rosnita_nb@ptptn.gov.my', 'khasidah@ptptn.gov.my', 'sn_aishah@ptptn.gov.my', 'nurul_afiqah@ptptn.gov.my', 'n_azizi@ptptn.gov.my', 'ismawanie@ptptn.gov.my', 'amiru@ptptn.gov.my', 'izwan@ptptn.gov.my', 'ahmadsyamil@ptptn.gov.my', 'mohdhalif@ptptn.gov.my', 'mohdfazli@ptptn.gov.my', 'norhisyam@ptptn.gov.my', 'nurazlin@ptptn.gov.my', 'amer@ptptn.gov.my', 'n.sarina@ptptn.gov.my', 'rohaizan@ptptn.gov.my', 'sitinadia@ptptn.gov.my', 'nur_syairah@ptptn.gov.my', 'a.hakim@ptptn.gov.my', 'hafiz_shahbuddin@ptptn.gov.my', 'rabiatul@ptptn.gov.my', 'nuratiqah@ptptn.gov.my', 'syakina_afira@ptptn.gov.my', 'aishah_muhammad@ptptn.gov.my', 'f_raihana@ptptn.gov.my', 'ruslita@ptptn.gov.my', 'baizura@ptptn.gov.my', 'hariah@ptptn.gov.my', 'mahyarid@ptptn.gov.my', 'adnanmohamed@ptptn.gov.my', 'mohdfairuz@ptptn.gov.my', 'm.hafiz@ptptn.gov.my', 'afifa.hanina@ptptn.gov.my', 'm.azwan@ptptn.gov.my', 'm.shazmeer@ptptn.gov.my', 'aima@ptptn.gov.my', 'amir_hamza@ptptn.gov.my', 'n_haslinda@ptptn.gov.my', 'fatmawati@ptptn.gov.my', 'rahayu@ptptn.gov.my', 'mridzuan@ptptn.gov.my', 'hanif@ptptn.gov.my', 'harith_harun@ptptn.gov.my', 'ainnadirah@ptptn.gov.my', 'irisha@ptptn.gov.my', 'norain.abubakar@ptptn.gov.my', 'ayu@ptptn.gov.my', 'noorhidayah@ptptn.gov.my', 'azzam@ptptn.gov.my', 'intan_safura@ptptn.gov.my', 'a_farid@ptptn.gov.my', 'nurajiah@ptptn.gov.my', 'izazuddin@ptptn.gov.my', 'ihsan@ptptn.gov.my', 'adham@ptptn.gov.my', 'muhdsalahuddin@ptptn.gov.my', 'wahyuedayu@ptptn.gov.my', 'haris@ptptn.gov.my', 'n.atikah@ptptn.gov.my', 'nur_farhana@ptptn.gov.my', 'rohaida@ptptn.gov.my', 'mastura@ptptn.gov.my', 'n_hidayah@ptptn.gov.my', 'md_azwan@ptptn.gov.my', 'wajiyah@ptptn.gov.my', 'firdaus.m@ptptn.gov.my', 'fatanah@ptptn.gov.my', 'adawiah@ptptn.gov.my', 'hajirah@ptptn.gov.my', 'mdshafiq@ptptn.gov.my', 'f.natasha@ptptn.gov.my', 'norli@ptptn.gov.my', 'hadi@ptptn.gov.my', 'ahmad_halimi@ptptn.gov.my', 'f_nurul@ptptn.gov.my', 'noorzila@ptptn.gov.my', 'alzlezan@ptptn.gov.my', 'syafiq_h@ptptn.gov.my', 'c.hafizudin@ptptn.gov.my', 'sharezam@ptptn.gov.my', 'niraha@ptptn.gov.my', 'n_syafika@ptptn.gov.my', 'nadzirah@ptptn.gov.my', 'rohana@ptptn.gov.my', 'wan.izzati@ptptn.gov.my', 'khasmadi@ptptn.gov.my', 'nuruddin@ptptn.gov.my', 'nurrashid@ptptn.gov.my', 'afiq.iskandar@ptptn.gov.my', 'faezah@ptptn.gov.my', 'm_naqib@ptptn.gov.my', 'hayati@ptptn.gov.my', 'n_azliza@ptptn.gov.my', 'rabiatul.shamsul@ptptn.gov.my', 'shahril@ptptn.gov.my', 'azhan@ptptn.gov.my', 'nur_adibah@ptptn.gov.my', 'atikah_hasan@ptptn.gov.my', 'm_syafiq@ptptn.gov.my', 'azizi_solehin@ptptn.gov.my', 'marina_i@ptptn.gov.my', 'nuraina@ptptn.gov.my', 'suhaida_shafie@ptptn.gov.my', 'afandi@ptptn.gov.my', 'fatia@ptptn.gov.my', 'farrah@ptptn.gov.my', 'mdkamarul@ptptn.gov.my', 'solehan@ptptn.gov.my', 'azurin@ptptn.gov.my', 'aishah.yazid@ptptn.gov.my', 'faizah@ptptn.gov.my', 'syukri_n@ptptn.gov.my', 'engku_ahmad@ptptn.gov.my', 'arrisya@ptptn.gov.my', 'm.hafiz@ptptn.gov.my', 'aidah@ptptn.gov.my', 'mira@ptptn.gov.my', 'aida_farhana@ptptn.gov.my', 'khairul_faiq@ptptn.gov.my', 'alhadi@ptptn.gov.my', 'intanrohani@ptptn.gov.my', 'yusof@ptptn.gov.my', 'bijasari@ptptn.gov.my', 'amiera@ptptn.gov.my', 'azima@ptptn.gov.my', 'masfirah@ptptn.gov.my', 'nurain_hamir@ptptn.gov.my', 'salina@ptptn.gov.my', 'nafizah@ptptn.gov.my', 'norzuraihah@ptptn.gov.my', 's_naazim@ptptn.gov.my', 'syafeezah@ptptn.gov.my', 'mohdshahril@ptptn.gov.my', 'afizah@ptptn.gov.my', 'putri@ptptn.gov.my', 'sitiaesyah@ptptn.gov.my', 'ratnawati@ptptn.gov.my', 'shafirul@ptptn.gov.my', 'n_idayu@ptptn.gov.my', 'farul@ptptn.gov.my', 'mohd_nazri@ptptn.gov.my', 'faiz@ptptn.gov.my', 'nikfaizal@ptptn.gov.my', 'fitriramli@ptptn.gov.my', 'noorkhalish@ptptn.gov.my', 'syaipul@ptptn.gov.my', 'ainsyuhara@ptptn.gov.my', 'maznira@ptptn.gov.my', 'nur_afiqah@ptptn.gov.my', 'nazreenizwan@ptptn.gov.my', 'nurshahirah@ptptn.gov.my', 'khairil@ptptn.gov.my', 'nur_farahin@ptptn.gov.my', 'fawwaz@ptptn.gov.my', 'hafizul_aika@ptptn.gov.my', 'a_hanisah@ptptn.gov.my', 'nor_hajar@ptptn.gov.my', 'm_fahmi@ptptn.gov.my', 'hazwani_m@ptptn.gov.my', 'razak@ptptn.gov.my', 'nurulsyazwani@ptptn.gov.my', 'm_hashim@ptptn.gov.my', 'nazuhain@ptptn.gov.my', 'kamarulazhar@ptptn.gov.my', 'ardeena@ptptn.gov.my', 'raof@ptptn.gov.my', 'nurhidayatul@ptptn.gov.my', 'zulaikha@ptptn.gov.my', 'roslina@ptptn.gov.my', 'zairolnizam@ptptn.gov.my', 'marwan@ptptn.gov.my', 'nurulakmal@ptptn.gov.my', 'nurazimmahiean@ptptn.gov.my', 'm_fauzi@ptptn.gov.my', 'n.afiqah@ptptn.gov.my', 'maharazatul@ptptn.gov.my', 'aisyhah@ptptn.gov.my', 'rasul@ptptn.gov.my', 'radzuan@ptptn.gov.my', 'hasniwati@ptptn.gov.my', 'tehhanisah@ptptn.gov.my', 'nurul_asmaq@ptptn.gov.my', 'exry@ptptn.gov.my', 'mas_anisah@ptptn.gov.my', 'hanan@ptptn.gov.my', 'filza@ptptn.gov.my', 'n_syahida@ptptn.gov.my', 'fazwan@ptptn.gov.my', 'nor_hidayu@ptptn.gov.my', 'norazizah_m@ptptn.gov.my', 'nurriza@ptptn.gov.my', 'zulkifli_muhamad@ptptn.gov.my', 'nursyakila@ptptn.gov.my', 'nur_hafizah@ptptn.gov.my', 'jamilah@ptptn.gov.my', 'atiqah_norhisham@ptptn.gov.my', 'naeem@ptptn.gov.my', 'shimah@ptptn.gov.my', 'norhana@ptptn.gov.my', 'fazrul@ptptn.gov.my', 'a_zura@ptptn.gov.my', 'alimi@ptptn.gov.my', 'nuramira@ptptn.gov.myy', 'nurhaizan@ptptn.gov.my', 'mhasrol@ptptn.gov.my', 'ain@ptptn.gov.my', 'surazlan@ptptn.gov.my', 'sabriza@ptptn.gov.my', 'riduhwan@ptptn.gov.my', 'nurarzuin@ptptn.gov.my', 'suhanafiah@ptptn.gov.my', 'farah@ptptn.gov.my', 'norshuhada@ptptn.gov.my', 'malisa@ptptn.gov.my', 'shafiq@ptptn.gov.my', 'syahirah@ptptn.gov.my', 'amirah_jalal@ptptn.gov.my', 'mazni@ptptn.gov.my', 'aishah_rambeli@ptptn.gov.my', 'haziqizzat@ptptn.gov.my', 'nurshafikawati@ptptn.gov.my', 'm_hafizuddin@ptptn.gov.my', 'sakinah@ptptn.gov.my', 'soleha@ptptn.gov.my', 'nurhayati@ptptn.gov.my', 'asneha@ptptn.gov.my', 'farhan_h@ptptn.gov.my', 'nursyafiqah@ptptn.gov.my', 'rafidah@ptptn.gov.my', 'arif_abas@ptptn.gov.my', 'sarah_m@ptptn.gov.my', 'hasnika@ptptn.gov.my', 'maslina@ptptn.gov.my', 'nurshafika@ptptn.gov.my', 'mmustaqim@ptptn.gov.my', 'luzclayrita@ptptn.gov.my', 'rahmat@ptptn.gov.my', 'zaharatul@ptptn.gov.my', 'ilmyfadzly@ptptn.gov.my', 'n.fitri@ptptn.gov.my', 'hasanah@ptptn.gov.my', 'azimi@ptptn.gov.my', 'atiq@ptptn.gov.my', 'azli@ptptn.gov.my', 'norhajar@ptptn.gov.my', 'jamaliah@ptptn.gov.my', 'nurhazraz@ptptn.gov.my', 'saadiah@ptptn.gov.my', 'syafiqah_arsam@ptptn.gov.my', 'm_adib@ptptn.gov.my', 'ainuddin@ptptn.gov.my', 'firdauz@ptptn.gov.my', 'nor_muslihah@ptptn.gov.my', 'nsyafiqah@ptptn.gov.my', 'najihah@ptptn.gov.my', 'h_arif@ptptn.gov.my', 'm.zulfadzli@ptptn.gov.my', 'syatibi@ptptn.gov.my', 'normah@ptptn.gov.my', 'nurfaezah@ptptn.gov.my', 'norazlina@ptptn.gov.my', 'aidil@ptptn.gov.my', 'zuyana@ptptn.gov.my', 'mohnitha@ptptn.gov.my', 'noraini@ptptn.gov.my', 'nadila@ptptn.gov.my', 'harisah@ptptn.gov.my', 'azezey@ptptn.gov.my', 'noraisah@ptptn.gov.my', 'aini_absamad@ptptn.gov.my', 'nur_amalina@ptptn.gov.my', 'm_sahafie@ptptn.gov.my', 'andi@ptptn.gov.my', 'rohimi@ptptn.gov.my', 'noor_nazirah@ptptn.gov.my', 'mafiq@ptptn.gov.my', 'mdazman@ptptn.gov.my', 'sarinar@ptptn.gov.my', 'norasmah@ptptn.gov.my', 'anna@ptptn.gov.my', 'nazirul@ptptn.gov.my', 'murniah@ptptn.gov.my', 'fathin@ptptn.gov.my', 'ainatul@ptptn.gov.my', 'siti_liana@ptptn.gov.my', 'norhaliza@ptptn.gov.my', 'nur_amira@ptptn.gov.my', 'mohd_shahrul@ptptn.gov.my', 'adibah@ptptn.gov.my', 'amiruliradah@ptptn.gov.my', 'amirulafiq@ptptn.gov.my', 'nadira@ptptn.gov.my', 'rosnadia@ptptn.gov.my', 'nur_solehah@ptptn.gov.my', 'nordinzuhri@ptptn.gov.my', 'badrul@ptptn.gov.my', 'm.izwan@ptptn.gov.my', 'afiza@ptptn.gov.my', 'ramsuria@ptptn.gov.my', 'wafiuddin@ptptn.gov.my', 'nona@ptptn.gov.my', 'aina_zahidah@ptptn.gov.my', 'intannoor@ptptn.gov.my', 'izzati@ptptn.gov.my', 'zaifridah@ptptn.gov.my', 'khairul_anuar@ptptn.gov.my', 'afifa_bazla@ptptn.gov.my', 'suhaini@ptptn.gov.my', 'hafizah_hassan@ptptn.gov.my', 'aikal@ptptn.gov.my', 'hazarul@ptptn.gov.my', 'rodiah@ptptn.gov.my', 'farizal@ptptn.gov.my', 'hisyaril@ptptn.gov.my', 'azimawati@ptptn.gov.my', 'nursakinah@ptptn.gov.my', 'amirahayuni@ptptn.gov.my', 'azilawati@ptptn.gov.my', 'shaza@ptptn.gov.my', 'norazam@ptptn.gov.my', 'nor_hidayah@ptptn.gov.my', 'muhammad_muhsin@ptptn.gov.my', 'syahriman@ptptn.gov.my', 'zawiyah_othman@ptptn.gov.my', 'a_sobri@ptptn.gov.my', 'kartinie@ptptn.gov.my', 'shafiza@ptptn.gov.my', 'noorhaslinda@ptptn.gov.my', 'norsuzanna@ptptn.gov.my', 'hidayah_radza@ptptn.gov.my', 'yusaidi@ptptn.gov.my', 'aimiyah@ptptn.gov.my', 'natashasyakina@ptptn.gov.my', 'rusnani@ptptn.gov.my', 'abdsyafiq@ptptn.gov.my', 'nuridayu@ptptn.gov.my', 'zakiah@ptptn.gov.my', 'norhashimah@ptptn.gov.my', 'ehsan@ptptn.gov.my', 'rohaiza_rah@ptptn.gov.my', 'ahmad_fadhli@ptptn.gov.my', 'anuar_ghazali@ptptn.gov.my', 'ariff@ptptn.gov.my', 'nur_natasha@ptptn.gov.my', 'nora_abubakar@ptptn.gov.my', 'n_zafira@ptptn.gov.my', 'amira@ptptn.gov.my', 'mh_hafiz@ptptn.gov.my', 'norazilla@ptptn.gov.my', 'mohd_syafiq@ptptn.gov.my', 'rosmina@ptptn.gov.my', 'hafizi_z@ptptn.gov.my', 'irwan@ptptn.gov.my', 'nurlaila@ptptn.gov.my', 'norshima@ptptn.gov.my', 'amirah_azni@ptptn.gov.my', 'fatinfarhana@ptptn.gov.my', 'fairuznabilah@ptptn.gov.my', 'm_afiq@ptptn.gov.my', 'hafizah_mahizan@ptptn.gov.my', 'syahrin@ptptn.gov.my', 'saliza@ptptn.gov.my', 'm_amirul@ptptn.gov.my', 'azian@ptptn.gov.my', 'fauzi@ptptn.gov.my', 'fadzliana@ptptn.gov.my', 'aminudin_baki@ptptn.gov.my', 'mohdaminuddin@ptptn.gov.my', 'amirah@ptptn.gov.my', 'siti_aishah@ptptn.gov.my', 'syeefak@ptptn.gov.my', 'msyafiq@ptptn.gov.my', 'amin.noer@ptptn.gov.my', 'shuhada@ptptn.gov.my', 'radze@ptptn.gov.my', 'anis@ptptn.gov.my', 'alif@ptptn.gov.my', 'rusumira@ptptn.gov.my', 'farahliyana@ptptn.gov.my', 'azim@ptptn.gov.my', 'nurrabiatul@ptptn.gov.my', 'anisamira@ptptn.gov.my', 'asmah@ptptn.gov.my', 'noor_farhana@ptptn.gov.my', 'akmal@ptptn.gov.my', 'm_yunus@ptptn.gov.my', 'mnordin@ptptn.gov.my', 'nuursuriyana@ptptn.gov.my', 'nuridah@ptptn.gov.my', 'fatimah@ptptn.gov.my', 'rosni_ak@ptptn.gov.my', 'n_azwana@ptptn.gov.my', 'fazil@ptptn.gov.my', 'mustaqiem@ptptn.gov.my', 'nor_amirah@ptptn.gov.my', 'noorain@ptptn.gov.my', 'mkhairul@ptptn.gov.my', 'zaifi@ptptn.gov.my', 'mukhlis@ptptn.gov.my', 'syamimi@ptptn.gov.my', 'jamil@ptptn.gov.my', 'ahmad_mahfodz@ptptn.gov.my', 'm_fuad@ptptn.gov.my', 'jahara@ptptn.gov.my', 'saiful_hilmi@ptptn.gov.my', 'wahyuni@ptptn.gov.my', 'muhamadhanif@ptptn.gov.my', 'hairi@ptptn.gov.my', 'a.redzaudin@ptptn.gov.my', 'n_izzati@ptptn.gov.my', 'khatijah@ptptn.gov.my', 'hamizah_b@ptptn.gov.my', 'jayda@ptptn.gov.my', 'fuziani@ptptn.gov.my', 'sapiza@ptptn.gov.my', 'rosaizam@ptptn.gov.my', 'sitikhadijah@ptptn.gov.my', 'athirah_zainuddin@ptptn.gov.my', 'zurina_zahari@ptptn.gov.my', 'hajar_abdulkadir@ptptn.gov.my', 'maisarah@ptptn.gov.my', 'imanina@ptptn.gov.my', 'azelah@ptptn.gov.my', 'akmarizal@ptptn.gov.my', 'saifulanwar@ptptn.gov.my', 'norzila@ptptn.gov.my', 'azhari@ptptn.gov.my', 'sayanie@ptptn.gov.my', 'sitinorhafizah@ptptn.gov.my', 'aminatul@ptptn.gov.my', 'ahmad_syazwan@ptptn.gov.my', 'abdul_rashid@ptptn.gov.my', 'noorashkeen@ptptn.gov.my', 'solahuddin@ptptn.gov.my', 'm_faizul@ptptn.gov.my', 'hafizuddin@ptptn.gov.my', 'zulzamri@ptptn.gov.my', 'fariduddin@ptptn.gov.my', 'faeezil@ptptn.gov.my', 'rosliana@ptptn.gov.my', 'mohd_zamri@ptptn.gov.my', 'nurulazira@ptptn.gov.my', 'ahmad_aliff@ptptn.gov.my', 'zalmizi@ptptn.gov.my', 'mahfuzuddin@ptptn.gov.my', 'lailatul@ptptn.gov.my', 'saifulruddin@ptptn.gov.my', 'nor_ahkemaliza@ptptn.gov.my', 'norkamaliah@ptptn.gov.my', 'azirah.a@ptptn.gov.my', 'mdazrul@ptptn.gov.my', 'muhainizan@ptptn.gov.my', 'roslida@ptptn.gov.my', 'haslinda@ptptn.gov.my', 'azrain@ptptn.gov.my', 'norhasnidah@ptptn.gov.my', 'anwar@ptptn.gov.my', 'nornismenira@ptptn.gov.my', 'ismail_fadli@ptptn.gov.my', 'wanarina@ptptn.gov.my', 'nazri@ptptn.gov.my', 'rosni@ptptn.gov.my', 'hafizi_daud@ptptn.gov.my', 'asmira@ptptn.gov.my', 'rahima@ptptn.gov.my', 'ziadi@ptptn.gov.my', 'syaherzubir@ptptn.gov.my', 'mohd_syazwan@ptptn.gov.my', 'siti_radhiatul@ptptn.gov.my', 'wan_aishah@ptptn.gov.my', 'nurul_syakirin@ptptn.gov.my', 'mamy@ptptn.gov.my', 'zuhaili@ptptn.gov.my', 'sumilia@ptptn.gov.my', 'norazilah.mohamed@ptptn.gov.my', 'ridhwan@ptptn.gov.my', 'azma@ptptn.gov.my', 'nur_syakila@ptptn.gov.my', 'zulkifli_m@ptptn.gov.my', 'm_shah@ptptn.gov.my', 'm_nurezuan@ptptn.gov.my', 'raja_fakaruddin@ptptn.gov.my', 'farisha@ptptn.gov.my', 'zah@ptptn.gov.my', 'aizol@ptptn.gov.my', 'norhayati_h@ptptn.gov.my', 'fazli@ptptn.gov.my', 'suzihaima@ptptn.gov.my', 'zaini@ptptn.gov.my', 'ashikin_alias@ptptn.gov.my', 'nazwane@ptptn.gov.my', 'norma@ptptn.gov.my', 'fazrina@ptptn.gov.my', 'afiqah@ptptn.gov.my', 'aizuddin_y@ptptn.gov.my', 'm_syahir@ptptn.gov.my', 'asyraf@ptptn.gov.my', 'shahrulazmi@ptptn.gov.my', 'jusuraimi@ptptn.gov.my', 'shaiful@ptptn.gov.my', 'ahmadikhwan@ptptn.gov.my', 'alwani@ptptn.gov.my', 'azlinawati@ptptn.gov.my', 'aishah_ismail@ptptn.gov.my', 'norsarafina@ptptn.gov.my', 'qayyuum@ptptn.gov.my', 'yusniwati@ptptn.gov.my', 'fasihah@ptptn.gov.my', 'siti_khatijah@ptptn.gov.my', 'iklima_hashim@ptptn.gov.my', 'w_aishatulakma@ptptn.gov.my', 'shariefah@ptptn.gov.my', 'nur_syahida@ptptn.gov.my', 'yussuf@ptptn.gov.my', 'nadia_farhana@ptptn.gov.my', 'wan_aliff@ptptn.gov.my', 'noriswa@ptptn.gov.my', 'm_yusri@ptptn.gov.my', 'patricia@ptptn.gov.my', 's_muhammad@ptptn.gov.my', 'nurfatini@ptptn.gov.my', 'marc@ptptn.gov.my', 'n_yasmin@ptptn.gov.my', 'tiffany@ptptn.gov.my', 'norhikma@ptptn.gov.my', 'hafiz@ptptn.gov.my', 'bettros_suda@ptptn.gov.my', 'hazzli@ptptn.gov.my', 'adzianee@ptptn.gov.my', 'angela@ptptn.gov.my', 'khairuddin@ptptn.gov.my', 'fitrianna@ptptn.gov.my', 'mattrix@ptptn.gov.my', 'nurulhuda_wahid@ptptn.gov.my', 'albert@ptptn.gov.my', 's_normala@ptptn.gov.my', 'izzatur@ptptn.gov.my', 'diana_j@ptptn.gov.my', 'mira_mariana@ptptn.gov.my', 'merdiana@ptptn.gov.my', 'a_tajuddin@ptptn.gov.my', 'shwal@ptptn.gov.my', 'hakimah@ptptn.gov.my', 'pauline@ptptn.gov.my', 'shahrel@ptptn.gov.my', 'karen@ptptn.gov.my', 'roney@ptptn.gov.my', 'nisah@ptptn.gov.my', 'gharance@ptptn.gov.my', 'muliati@ptptn.gov.my', 'hamdan_razali@ptptn.gov.my', 'm_azim@ptptn.gov.my', 'faizun@ptptn.gov.my', 'fatimah_m@ptptn.gov.my', 'hazrieda@ptptn.gov.my', 'nasiran@ptptn.gov.my', 'nur_janna@ptptn.gov.my', 'shazrul@ptptn.gov.my', 'nasruddin@ptptn.gov.my', 'sofia@ptptn.gov.my', 'fadilah@ptptn.gov.my', 'putriani@ptptn.gov.my', 's_normalah@ptptn.gov.my', 'norziah@ptptn.gov.my', 'razlan@ptptn.gov.my', 'sharin@ptptn.gov.my', 'zukarweil@ptptn.gov.my', 'a_karim@ptptn.gov.my', 'elwehairol@ptptn.gov.my', 'arwin@ptptn.gov.my', 'saridah@ptptn.gov.my', 'arji@ptptn.gov.my', 'asref@ptptn.gov.my', 'hidayahhussin@ptptn.gov.my', 'a_majid@ptptn.gov.my', 'syafiqanwar@ptptn.gov.my', 'neliuas@ptptn.gov.my', 'saharul@ptptn.gov.my', 'shaidatul_a@ptptn.gov.my', 'rifnasari@ptptn.gov.my', 'norhidayah@ptptn.gov.my', 'fikriyah@ptptn.gov.my', 'nazrey_hindin@ptptn.gov.my', 'shanaz@ptptn.gov.my']\n"
     ]
    }
   ],
   "source": [
    "# Answer to Exercise 3\n",
    "\n",
    "import requests\n",
    "import re\n",
    "\n",
    "url='https://www.ptptn.gov.my/hubungi-ptptn'\n",
    " \n",
    "# get the data    \n"
   ]
  },
  {
   "cell_type": "code",
   "execution_count": null,
   "metadata": {},
   "outputs": [],
   "source": [
    "data.text"
   ]
  },
  {
   "cell_type": "markdown",
   "metadata": {},
   "source": [
    "Need to use Selenium because of the Javascript on the page."
   ]
  },
  {
   "cell_type": "markdown",
   "metadata": {},
   "source": [
    "### Discussion\n",
    "\n",
    "Is regex good for scraping non regular texts from Web pages?\n",
    "\n",
    "Eg. Look for all text between <li> and </li> \n",
    "\n",
    "can work? yes but how usable?\n",
    "\n",
    "Eg. Look for all names starting with Mr. and then extract the name. How?\n",
    "\n",
    "We need a better way to extract the meta data and elements about the web page. "
   ]
  },
  {
   "cell_type": "markdown",
   "metadata": {},
   "source": [
    "### r'\n",
    "\n",
    "https://docs.python.org/3/library/re.html\n",
    "\n",
    "<pre>\n",
    "Regular expressions use the backslash character ('\\') to indicate special forms or to allow special characters to be used without invoking their special meaning. This collides with Python’s usage of the same character for the same purpose in string literals; for example, to match a literal backslash, one might have to write '\\\\\\\\' as the pattern string, because the regular expression must be \\\\, and each backslash must be expressed as \\\\ inside a regular Python string literal. Also, please note that any invalid escape sequences in Python’s usage of the backslash in string literals now generate a DeprecationWarning and in the future this will become a SyntaxError. This behaviour will happen even if it is a valid escape sequence for a regular expression.\n",
    "\n",
    "The solution is to use Python’s raw string notation for regular expression patterns; backslashes are not handled in any special way in a string literal prefixed with 'r'. So r\"\\n\" is a two-character string containing '\\' and 'n', while \"\\n\" is a one-character string containing a newline. Usually patterns will be expressed in Python code using this raw string notation.\n",
    "</pre>\n",
    "\n",
    "\n",
    "**Note:**\n",
    "\n",
    "Alternative 3rd party regex implementation\n",
    "\n",
    "https://pypi.org/project/regex/\n",
    "\n",
    "Try it out own your own\n"
   ]
  },
  {
   "cell_type": "code",
   "execution_count": 15,
   "metadata": {},
   "outputs": [
    {
     "name": "stdout",
     "output_type": "stream",
     "text": [
      "this is \n",
      " a test\n"
     ]
    }
   ],
   "source": [
    "# Example\n",
    "\n",
    "teststring = 'this is \\n a test'\n",
    "\n",
    "print(teststring)\n"
   ]
  },
  {
   "cell_type": "code",
   "execution_count": 16,
   "metadata": {},
   "outputs": [
    {
     "name": "stdout",
     "output_type": "stream",
     "text": [
      "this is \\n a test\n"
     ]
    }
   ],
   "source": [
    "# Example escape character \\ is now a raw string not an escape char\n",
    "\n",
    "teststring = r'this is \\n a test'\n",
    "\n",
    "print(teststring)\n"
   ]
  },
  {
   "cell_type": "code",
   "execution_count": 18,
   "metadata": {},
   "outputs": [
    {
     "data": {
      "text/plain": [
       "[]"
      ]
     },
     "execution_count": 18,
     "metadata": {},
     "output_type": "execute_result"
    }
   ],
   "source": [
    "# \\b Word boundary, allow to perform \"whole words only\" search\n",
    "\n",
    "import re\n",
    "\n",
    "re.findall('\\btest\\b', 'test this is a test') # the backslash gets consumed by the python string interpreter\n"
   ]
  },
  {
   "cell_type": "code",
   "execution_count": 19,
   "metadata": {},
   "outputs": [
    {
     "data": {
      "text/plain": [
       "['test', 'test']"
      ]
     },
     "execution_count": 19,
     "metadata": {},
     "output_type": "execute_result"
    }
   ],
   "source": [
    "re.findall('\\\\btest\\\\b', 'test this is a test') # backslash is explicitly escaped and is passed through to re module\n"
   ]
  },
  {
   "cell_type": "code",
   "execution_count": 14,
   "metadata": {},
   "outputs": [
    {
     "data": {
      "text/plain": [
       "['test', 'test']"
      ]
     },
     "execution_count": 14,
     "metadata": {},
     "output_type": "execute_result"
    }
   ],
   "source": [
    "re.findall(r'\\btest\\b', 'test this is a test') # often this syntax is easier\n"
   ]
  },
  {
   "cell_type": "code",
   "execution_count": 21,
   "metadata": {},
   "outputs": [
    {
     "name": "stdout",
     "output_type": "stream",
     "text": [
      "['schema.org/QAPage']\n"
     ]
    }
   ],
   "source": [
    "# some example using regex to extract the URL\n",
    "\n",
    "import re\n",
    "\n",
    "x=\"\"\"<!DOCTYPE html>\n",
    "\n",
    "<html itemscope itemtype=\"http://schema.org/QAPage\">\n",
    "\n",
    "<head>\n",
    "\"\"\"\n",
    "\n",
    "matching = re.findall(r\"[a-zA-Z0-9\\-\\.]+\\.(?:com|org|net|mil|edu|COM|ORG|NET|MIL|EDU)+(?:[\\w\\-\\.,@?^=%&amp;:\\/~\\+#]*[\\w\\-\\@?^=%&amp;\\/~\\+#])?\",x)\n",
    "\n",
    "print(matching)"
   ]
  }
 ],
 "metadata": {
  "kernelspec": {
   "display_name": "Python 3 (ipykernel)",
   "language": "python",
   "name": "python3"
  },
  "language_info": {
   "codemirror_mode": {
    "name": "ipython",
    "version": 3
   },
   "file_extension": ".py",
   "mimetype": "text/x-python",
   "name": "python",
   "nbconvert_exporter": "python",
   "pygments_lexer": "ipython3",
   "version": "3.9.16"
  }
 },
 "nbformat": 4,
 "nbformat_minor": 4
}
