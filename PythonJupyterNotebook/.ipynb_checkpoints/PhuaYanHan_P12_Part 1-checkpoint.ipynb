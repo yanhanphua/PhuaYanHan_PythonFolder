{
 "cells": [
  {
   "cell_type": "markdown",
   "metadata": {},
   "source": [
    "<img src=\"https://i.imgur.com/FoKB5Z5.png\" align=\"left\" width=\"300\" height=\"250\" title=\"source: imgur.com\" /></a>"
   ]
  },
  {
   "cell_type": "markdown",
   "metadata": {},
   "source": [
    "## Program Code: J620-002-4:2020 \n",
    "\n",
    "## Program Name: FRONT-END SOFTWARE DEVELOPMENT\n",
    "\n",
    "## Title :  Regular Expressions - Part 1\n",
    "\n",
    "#### Name: \n",
    "\n",
    "#### IC Number:\n",
    "\n",
    "#### Date :\n",
    "\n",
    "#### Introduction : \n",
    "\n",
    "\n",
    "\n",
    "#### Conclusion :\n",
    "\n",
    "\n",
    "\n",
    "\n"
   ]
  },
  {
   "cell_type": "markdown",
   "metadata": {},
   "source": [
    "# P12 - Regular Expressions"
   ]
  },
  {
   "cell_type": "markdown",
   "metadata": {},
   "source": [
    "**References:** \n",
    "\n",
    "\n",
    "https://docs.python.org/3/library/re.html\n",
    "\n",
    "RegEx\n",
    "https://pypi.org/project/regex/\n"
   ]
  },
  {
   "cell_type": "markdown",
   "metadata": {},
   "source": [
    "Before the start this lesson. Try to write a code to extract only the digits from this String. (Spend not more than 10 minutes on this)\n",
    "\n",
    "str = \"abc**00123**xyz**456**_**0**\"\n",
    "\n",
    "answer = ['00123', '456', '0']\n"
   ]
  },
  {
   "cell_type": "code",
   "execution_count": 2,
   "metadata": {},
   "outputs": [],
   "source": [
    "# Answer\n"
   ]
  },
  {
   "cell_type": "markdown",
   "metadata": {},
   "source": [
    "## What is a Regular Expression?\n",
    "\n",
    "\n",
    "A regular expression in a programming language is a special text string used for describing a search pattern. \n",
    "\n",
    "It is extremely useful for extracting information from text such as code, files, log, spreadsheets or even documents."
   ]
  },
  {
   "cell_type": "markdown",
   "metadata": {},
   "source": [
    "<pre>\n",
    "\\    Used to drop the special meaning of character following it\n",
    "\n",
    "\\\\   Represent a character class\n",
    "\n",
    "^    Matches the beginning\n",
    "\n",
    "$    Matches the end\n",
    "\n",
    ".    Matches any character except newline\n",
    "\n",
    "?    Matches zero or one occurrence.\n",
    "\n",
    "|    Means OR (Matches with any of the characters separated by it.\n",
    "\n",
    "*    Any number of occurrences (including 0 occurrences)\n",
    "\n",
    "+    One ore more occurrences\n",
    "\n",
    "{}   Indicate number of occurrences of a preceding RE to match.\n",
    "\n",
    "()   Enclose a group of REs\n",
    "\n",
    "</pre>"
   ]
  },
  {
   "cell_type": "markdown",
   "metadata": {},
   "source": [
    "## Methods\n",
    "\n",
    "re.match(), re.search() and re.findall() are methods of the Python module re.\n",
    "\n",
    "### The re.match() method\n",
    "\n",
    "The re.match() method finds match if it occurs at start of the string. For example, calling match() on the string ‘FS Forward School FS’ and looking for a pattern ‘FS’ will match.  \n",
    "\n"
   ]
  },
  {
   "cell_type": "code",
   "execution_count": 5,
   "metadata": {},
   "outputs": [
    {
     "name": "stdout",
     "output_type": "stream",
     "text": [
      "FS\n"
     ]
    }
   ],
   "source": [
    "import re\n",
    "\n",
    "result = re.match(r'FS', 'FS Forward School FS')\n",
    "\n",
    "print(result.group(0))\n"
   ]
  },
  {
   "cell_type": "markdown",
   "metadata": {},
   "source": [
    "### The re.search() method\n",
    "\n",
    "The re.search() method is similar to re.match() but it doesn’t limit us to find matches at the beginning of the string only. "
   ]
  },
  {
   "cell_type": "code",
   "execution_count": 6,
   "metadata": {},
   "outputs": [
    {
     "name": "stdout",
     "output_type": "stream",
     "text": [
      "<re.Match object; span=(3, 10), match='Forward'>\n",
      "Forward\n"
     ]
    }
   ],
   "source": [
    "import re\n",
    "\n",
    "result = re.search(r'Forward', 'FS Forward School FS')\n",
    "\n",
    "print(result)\n",
    "print(result.group(0))"
   ]
  },
  {
   "cell_type": "markdown",
   "metadata": {},
   "source": [
    "### The re.findall() method\n",
    "\n",
    "The re.findall() helps to get a list of all matching patterns. It searches from start or end of the given string. If we use method findall to search for a pattern in a given string it will return all occurrences of the pattern. While searching a pattern, it is recommended to use re.findall() always, it works like re.search() and re.match() both.\n"
   ]
  },
  {
   "cell_type": "code",
   "execution_count": 7,
   "metadata": {},
   "outputs": [
    {
     "name": "stdout",
     "output_type": "stream",
     "text": [
      "['FS', 'FS']\n"
     ]
    }
   ],
   "source": [
    "import re\n",
    "\n",
    "result = re.findall(r'FS', 'FS Forward School FS')\n",
    "\n",
    "print(result)\n"
   ]
  },
  {
   "cell_type": "code",
   "execution_count": 8,
   "metadata": {},
   "outputs": [
    {
     "data": {
      "text/plain": [
       "['123']"
      ]
     },
     "execution_count": 8,
     "metadata": {},
     "output_type": "execute_result"
    }
   ],
   "source": [
    "import re   # Need module 're' for regular expression\n",
    "\n",
    "# Try find: re.findall(regexStr, inStr) -> matchedSubstringsList\n",
    "\n",
    "# r'...' denotes raw strings which ignore escape code, i.e., r'\\n' is '\\'+'n'\n",
    "\n",
    "re.findall(r'[0-9]+', 'abc123xyz')\n",
    "\n",
    "# Return a list of matched substrings"
   ]
  },
  {
   "cell_type": "code",
   "execution_count": 9,
   "metadata": {},
   "outputs": [
    {
     "data": {
      "text/plain": [
       "[]"
      ]
     },
     "execution_count": 9,
     "metadata": {},
     "output_type": "execute_result"
    }
   ],
   "source": [
    "re.findall(r'[0-9]+', 'abcxyz')\n",
    "[]\n",
    "\n",
    "# where are the numbers?"
   ]
  },
  {
   "cell_type": "code",
   "execution_count": 10,
   "metadata": {},
   "outputs": [
    {
     "data": {
      "text/plain": [
       "['00123', '456', '0']"
      ]
     },
     "execution_count": 10,
     "metadata": {},
     "output_type": "execute_result"
    }
   ],
   "source": [
    "import re\n",
    "\n",
    "re.findall(r'[0-9]+', 'abc00123xyz456_0')\n",
    "\n"
   ]
  },
  {
   "cell_type": "code",
   "execution_count": 11,
   "metadata": {},
   "outputs": [
    {
     "data": {
      "text/plain": [
       "['00123', '456', '0']"
      ]
     },
     "execution_count": 11,
     "metadata": {},
     "output_type": "execute_result"
    }
   ],
   "source": [
    "import re\n",
    "\n",
    "re.findall(r'\\d+', 'abc00123xyz456_0')\n",
    "\n"
   ]
  },
  {
   "cell_type": "code",
   "execution_count": 12,
   "metadata": {},
   "outputs": [
    {
     "data": {
      "text/plain": [
       "'abc*xyz*_*'"
      ]
     },
     "execution_count": 12,
     "metadata": {},
     "output_type": "execute_result"
    }
   ],
   "source": [
    "# Try substitute: re.sub(regexStr, replacementStr, inStr) -> outStr\n",
    "import re\n",
    "\n",
    "re.sub(r'[0-9]+', r'*', 'abc00123xyz456_0')\n"
   ]
  },
  {
   "cell_type": "code",
   "execution_count": 13,
   "metadata": {},
   "outputs": [
    {
     "data": {
      "text/plain": [
       "('abc*xyz*_*', 3)"
      ]
     },
     "execution_count": 13,
     "metadata": {},
     "output_type": "execute_result"
    }
   ],
   "source": [
    "# Try substitute with count: re.subn(regexStr, replacementStr, inStr) -> (outStr, count)\n",
    "import re\n",
    "\n",
    "re.subn(r'[0-9]+', r'*', 'abc00123xyz456_0')\n",
    "\n",
    "# Return a tuple of output string and count"
   ]
  },
  {
   "cell_type": "markdown",
   "metadata": {},
   "source": [
    "### Texts"
   ]
  },
  {
   "cell_type": "code",
   "execution_count": 14,
   "metadata": {},
   "outputs": [
    {
     "name": "stdout",
     "output_type": "stream",
     "text": [
      "['I love Namewee']\n"
     ]
    }
   ],
   "source": [
    "#  matching text that contain two keywords between characters.\n",
    "import re\n",
    "\n",
    "s1 = \"I love Namewee\"\n",
    "\n",
    "regex=r\"(I[a-zA-Z_0-9 ]*Namewee)\"\n",
    "\n",
    "match = re.findall(regex, s1)\n",
    "print(match)\n"
   ]
  },
  {
   "cell_type": "code",
   "execution_count": 15,
   "metadata": {},
   "outputs": [
    {
     "name": "stdout",
     "output_type": "stream",
     "text": [
      "['I hate Namewee']\n"
     ]
    }
   ],
   "source": [
    "#  matching text that contain two keywords between characters.\n",
    "import re\n",
    "\n",
    "s2 = \"I hate Namewee\" \n",
    "\n",
    "regex=r\"(I[a-zA-Z_0-9 ]*Namewee)\"\n",
    "\n",
    "match = re.findall(regex, s2)\n",
    "print(match)\n"
   ]
  },
  {
   "cell_type": "code",
   "execution_count": 16,
   "metadata": {},
   "outputs": [
    {
     "name": "stdout",
     "output_type": "stream",
     "text": [
      "['I love Namewee', 'I Hate Namewee']\n"
     ]
    }
   ],
   "source": [
    "#  matching text that contain two keywords between characters.\n",
    "import re\n",
    "\n",
    "s3 = \"I love Namewee, Namewee, I Dunno him, I Hate Namewee\" \n",
    "\n",
    "regex=r\"(I[a-zA-Z_0-9 ]*Namewee)\"\n",
    "\n",
    "match = re.findall(regex, s3)\n",
    "print(match)\n"
   ]
  },
  {
   "cell_type": "code",
   "execution_count": 30,
   "metadata": {},
   "outputs": [
    {
     "name": "stdout",
     "output_type": "stream",
     "text": [
      "['I heard that somebody said Namewee that he heard that A was informed that B thought that C misunderstood Namewee']\n"
     ]
    }
   ],
   "source": [
    "#  matching text that contain two keywords between characters.\n",
    "import re\n",
    "\n",
    "s4 = \"I heard that somebody said Namewee that he heard that A was informed that B thought that C misunderstood Namewee\"\n",
    "\n",
    "regex=r\"(I[a-zA-Z_0-9 ]*Namewee)\"\n",
    "\n",
    "match = re.findall(regex, s4)\n",
    "print(match)\n"
   ]
  },
  {
   "cell_type": "code",
   "execution_count": 31,
   "metadata": {},
   "outputs": [
    {
     "name": "stdout",
     "output_type": "stream",
     "text": [
      "['I heard that somebody said Namewee']\n"
     ]
    }
   ],
   "source": [
    "#  matching text that contain two keywords between characters.\n",
    "import re\n",
    "\n",
    "s5 = \"I heard that somebody said Namewee, that he heard that A was informed that B thought that C misunderstood Namewee\"\n",
    "\n",
    "regex=r\"(I[a-zA-Z_0-9 ]*Namewee)\"\n",
    "\n",
    "match = re.findall(regex, s5)\n",
    "print(match)\n",
    "\n",
    "#observe the comma"
   ]
  },
  {
   "cell_type": "code",
   "execution_count": 32,
   "metadata": {},
   "outputs": [
    {
     "name": "stdout",
     "output_type": "stream",
     "text": [
      "[]\n"
     ]
    }
   ],
   "source": [
    "import re\n",
    "\n",
    "s = \"Loo Keen Ngin\"\n",
    "\n",
    "regex=r\"(Forward School)\"\n",
    "\n",
    "match = re.findall(regex, s)\n",
    "\n",
    "print(match)"
   ]
  },
  {
   "cell_type": "code",
   "execution_count": 33,
   "metadata": {},
   "outputs": [
    {
     "name": "stdout",
     "output_type": "stream",
     "text": [
      "['Forward School']\n"
     ]
    }
   ],
   "source": [
    "import re\n",
    "\n",
    "s = \"Loo Keen Ngin Forward School\"\n",
    "\n",
    "regex=r\"(Forward School)\"\n",
    "\n",
    "match = re.findall(regex, s)\n",
    "\n",
    "print(match)"
   ]
  },
  {
   "cell_type": "code",
   "execution_count": 29,
   "metadata": {},
   "outputs": [
    {
     "name": "stdout",
     "output_type": "stream",
     "text": [
      "None\n"
     ]
    }
   ],
   "source": [
    "# re.match - If zero or more characters at the beginning of string match the regular expression pattern, \n",
    "# return a corresponding match object. Return None if the string does not match the pattern; \n",
    "# note that this is different from a zero-length match.\n",
    "\n",
    "import re\n",
    "\n",
    "s = \"Loo Keen Ngin Forward School\"\n",
    "\n",
    "regex=r\"(Forward School)\"\n",
    "\n",
    "match = re.match(regex, s)\n",
    "\n",
    "print(match)"
   ]
  },
  {
   "cell_type": "code",
   "execution_count": 35,
   "metadata": {},
   "outputs": [
    {
     "name": "stdout",
     "output_type": "stream",
     "text": [
      "<re.Match object; span=(0, 13), match='Loo Keen Ngin'>\n",
      "Loo Keen Ngin\n"
     ]
    }
   ],
   "source": [
    "import re\n",
    "\n",
    "s = \"Loo Keen Ngin Forward School\"\n",
    "\n",
    "regex=r\"(Loo Keen Ngin)\"\n",
    "\n",
    "match = re.match(regex, s)\n",
    "\n",
    "print(match)\n",
    "print(match.group(0))"
   ]
  },
  {
   "cell_type": "markdown",
   "metadata": {},
   "source": [
    "Here are a few more common ranges that you may want to match:\n",
    "\n",
    "\n",
    "<pre>\n",
    "\n",
    "000..255: ([01][0-9][0-9]|2[0-4][0-9]|25[0-5])\n",
    "0 or 000..255: ([01]?[0-9]?[0-9]|2[0-4][0-9]|25[0-5])\n",
    "0 or 000..127: (0?[0-9]?[0-9]|1[01][0-9]|12[0-7])\n",
    "0..999: ([0-9]|[1-9][0-9]|[1-9][0-9][0-9])\n",
    "000..999: [0-9]{3}\n",
    "0 or 000..999: [0-9]{1,3}\n",
    "1..999: ([1-9]|[1-9][0-9]|[1-9][0-9][0-9])\n",
    "001..999: (00[1-9]|0[1-9][0-9]|[1-9][0-9][0-9])\n",
    "1 or 001..999: (0{0,2}[1-9]|0?[1-9][0-9]|[1-9][0-9][0-9])\n",
    "0 or 00..59: [0-5]?[0-9]\n",
    "0 or 000..366: ([012]?[0-9]?[0-9]|3[0-5][0-9]|36[0-6])\n",
    "\n",
    "</pre>\n",
    "\n",
    "** Try them out **"
   ]
  },
  {
   "cell_type": "code",
   "execution_count": 36,
   "metadata": {},
   "outputs": [
    {
     "name": "stdout",
     "output_type": "stream",
     "text": [
      "['000', '255']\n"
     ]
    }
   ],
   "source": [
    "#example\n",
    "\n",
    "import re\n",
    "\n",
    "s = \"000..255\"\n",
    "\n",
    "regex=r\"([01][0-9][0-9]|2[0-4][0-9]|25[0-5])\"\n",
    "\n",
    "match = re.findall(regex, s)\n",
    "\n",
    "print(match)"
   ]
  },
  {
   "cell_type": "code",
   "execution_count": 37,
   "metadata": {},
   "outputs": [
    {
     "name": "stdout",
     "output_type": "stream",
     "text": [
      "<re.Match object; span=(14, 21), match='June 24'>\n",
      "Match at index 14, 21\n",
      "Full match: June 24\n",
      "Month: June\n",
      "Day: 24\n"
     ]
    }
   ],
   "source": [
    "# A Python program to demonstrate working of re.match().  \n",
    "import re  \n",
    "    \n",
    "# Lets use a regular expression to match a date string  \n",
    "# in the form of Month name followed by day number  \n",
    "regex = r\"([a-zA-Z]+) (\\d+)\"\n",
    "    \n",
    "match = re.search(regex, \"I was born on June 24\")  \n",
    "\n",
    "print(match)\n",
    "    \n",
    "if match != None:  \n",
    "    \n",
    "    # We reach here when the expression \"([a-zA-Z]+) (\\d+)\"  \n",
    "    # matches the date string.  \n",
    "    \n",
    "    # This will print [14, 21), since it matches at index 14  \n",
    "    # and ends at 21.   \n",
    "    print(\"Match at index % s, % s\" % (match.start(), match.end())) \n",
    "    \n",
    "    # We us group() method to get all the matches and  \n",
    "    # captured groups. The groups contain the matched values.  \n",
    "    # In particular:  \n",
    "    # match.group(0) always returns the fully matched string  \n",
    "    # match.group(1) match.group(2), ... return the capture  \n",
    "    # groups in order from left to right in the input string  \n",
    "    # match.group() is equivalent to match.group(0)  \n",
    "    \n",
    "    # So this will print \"June 24\"  \n",
    "    print(\"Full match: % s\" % (match.group(0))) \n",
    "    \n",
    "    # So this will print \"June\"  \n",
    "    print(\"Month: % s\" % (match.group(1))) \n",
    "    \n",
    "    # So this will print \"24\"  \n",
    "    print(\"Day: % s\" % (match.group(2))) \n",
    "    \n",
    "else:  \n",
    "    print(\"The regex pattern does not match.\") \n"
   ]
  },
  {
   "cell_type": "markdown",
   "metadata": {},
   "source": [
    "### Resources\n",
    "\n",
    "https://regex101.com/\n",
    "https://www.debuggex.com/\n"
   ]
  }
 ],
 "metadata": {
  "kernelspec": {
   "display_name": "Python 3 (ipykernel)",
   "language": "python",
   "name": "python3"
  },
  "language_info": {
   "codemirror_mode": {
    "name": "ipython",
    "version": 3
   },
   "file_extension": ".py",
   "mimetype": "text/x-python",
   "name": "python",
   "nbconvert_exporter": "python",
   "pygments_lexer": "ipython3",
   "version": "3.9.16"
  }
 },
 "nbformat": 4,
 "nbformat_minor": 4
}
