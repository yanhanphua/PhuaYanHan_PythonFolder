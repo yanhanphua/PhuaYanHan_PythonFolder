{
 "cells": [
  {
   "cell_type": "markdown",
   "metadata": {},
   "source": [
    "# Virtual Environments and Packages"
   ]
  },
  {
   "cell_type": "markdown",
   "metadata": {},
   "source": [
    "## Introduction"
   ]
  },
  {
   "cell_type": "markdown",
   "metadata": {},
   "source": [
    "Python applications will often use packages and modules that don’t come as part of the standard library. \n",
    "\n",
    "As a popular open source development project, Python has an active supporting community of contributors and users that also make their software available for other Python developers to use under open source license terms.\n",
    "\n",
    "\n",
    "This section will cover:\n",
    "1. How to search/install/uninstall third part librairies using **pip**\n",
    "1. How to use **virtual environments**\n",
    "\n",
    "Read more https://docs.python.org/3.7/tutorial/venv.html\n"
   ]
  },
  {
   "cell_type": "markdown",
   "metadata": {},
   "source": [
    "## Managing Packages with pip"
   ]
  },
  {
   "cell_type": "markdown",
   "metadata": {},
   "source": [
    "You can install, upgrade, and remove packages using a program called pip. By default pip will install packages from the Python Package Index, <https://pypi.python.org/pypi>. You can browse the Python Package Index by going to it in your web browser, or you can use pip‘s limited search feature:"
   ]
  },
  {
   "cell_type": "markdown",
   "metadata": {},
   "source": [
    "You can try any search\n",
    "\n",
    "```\n",
    "$ pip search wrangling\n",
    "```"
   ]
  },
  {
   "cell_type": "code",
   "execution_count": 1,
   "metadata": {},
   "outputs": [
    {
     "name": "stderr",
     "output_type": "stream",
     "text": [
      "ERROR: XMLRPC request failed [code: -32500]\n",
      "RuntimeError: PyPI no longer supports 'pip search' (or XML-RPC search). Please use https://pypi.org/search (via a browser) instead. See https://warehouse.pypa.io/api-reference/xml-rpc.html#deprecated-methods for more information.\n"
     ]
    }
   ],
   "source": [
    "!pip search wrangling"
   ]
  },
  {
   "cell_type": "markdown",
   "metadata": {},
   "source": [
    "pip has a number of subcommands: “search”, “install”, “uninstall”, “freeze”, etc."
   ]
  },
  {
   "cell_type": "raw",
   "metadata": {},
   "source": [
    "$ pip install requests"
   ]
  },
  {
   "cell_type": "code",
   "execution_count": 2,
   "metadata": {},
   "outputs": [],
   "source": [
    "import requests"
   ]
  },
  {
   "cell_type": "markdown",
   "metadata": {},
   "source": [
    "To install a third part library, you need root priviledges. "
   ]
  },
  {
   "cell_type": "markdown",
   "metadata": {},
   "source": [
    "Indeed, third part libraries are installed in site-packages folder. On my macbook it is here:\n",
    "```\n",
    "/opt/local/Library/Frameworks/Python.framework/Versions/3.5/lib/python3.5/site-packages/\n",
    "```"
   ]
  },
  {
   "cell_type": "markdown",
   "metadata": {},
   "source": [
    "On your Ubuntu, it will be in\n",
    "```\n",
    "/usr/local/lib/pythonX.Y/site-packages/\n",
    "```"
   ]
  },
  {
   "cell_type": "markdown",
   "metadata": {},
   "source": [
    "Check running\n",
    "```\n",
    "$ python -m site\n",
    "```"
   ]
  },
  {
   "cell_type": "markdown",
   "metadata": {},
   "source": [
    "It is possible to install packages (modules, third part librairies) without any priviledges thanks to virtual environments. Let's dive into **virtual environments**, we will come back to pip after"
   ]
  },
  {
   "cell_type": "markdown",
   "metadata": {},
   "source": [
    "pip is the preferred installer program. Starting with Python 3.4, it is included by default with the Python binary installers."
   ]
  },
  {
   "cell_type": "markdown",
   "metadata": {},
   "source": [
    "## Virtual Environments"
   ]
  },
  {
   "cell_type": "markdown",
   "metadata": {},
   "source": [
    "### Motivations"
   ]
  },
  {
   "cell_type": "markdown",
   "metadata": {},
   "source": [
    "The main motivation for virtual environments:\n",
    "- **To allow multiple Python projects that have different requirements, to coexist on the same computer.**\n",
    "\n",
    "Example: application A runs with version 1. of the *request* package.\n",
    "Project for a new application B also needs *request* but with a feature introduced in version 2.2. Then upgrading request will upgrade for all applications on the machine. This will eventually cause a bug in application A if the new feature has no backward compatibility. So, it is important to test a project with different Python versions and packages' versions, hence the need for different \"virtual\" environments that are independent and do not overlap. "
   ]
  },
  {
   "cell_type": "markdown",
   "metadata": {},
   "source": [
    "## Creating Virtual Environments"
   ]
  },
  {
   "cell_type": "markdown",
   "metadata": {},
   "source": [
    "### 1. venv\n",
    "\n",
    "The module used to create and manage virtual environments is called [venv](https://docs.python.org/3.6/library/venv.html#module-venv)."
   ]
  },
  {
   "cell_type": "markdown",
   "metadata": {},
   "source": [
    "A virtual environment is a self-contained directory tree that contains a Python installation for a particular version of Python, plus a number of additional packages."
   ]
  },
  {
   "cell_type": "markdown",
   "metadata": {},
   "source": [
    "NOTE: *venv* is part of Python since Python 3.3. It is the standard tool for creating virtual environments. *[virtualenv](https://virtualenv.pypa.io)* is a third party alternative (and predecessor) to venv. It allows virtual environments to be used on versions of Python prior to 3.4."
   ]
  },
  {
   "cell_type": "markdown",
   "metadata": {},
   "source": [
    "To create a virtual environment, open your command-line window and run:"
   ]
  },
  {
   "cell_type": "raw",
   "metadata": {},
   "source": [
    "$ python3 -m venv path/to/your/virtual/environment"
   ]
  },
  {
   "cell_type": "markdown",
   "metadata": {},
   "source": [
    "If you are a Windows user, just open your command prompt, and type:"
   ]
  },
  {
   "cell_type": "raw",
   "metadata": {},
   "source": [
    "> python -m venv your_virtual_env_name"
   ]
  },
  {
   "cell_type": "markdown",
   "metadata": {},
   "source": [
    "You can specify absolute or relative paths for your virtual environment. Notice that we use `python` instead of `python3` in Windows."
   ]
  },
  {
   "cell_type": "markdown",
   "metadata": {},
   "source": [
    "### The python -m module trick"
   ]
  },
  {
   "cell_type": "markdown",
   "metadata": {},
   "source": [
    "```\n",
    "python -m <module-name>\n",
    "```\n",
    "Search sys.path for the named module and execute its contents as the __main__ module"
   ]
  },
  {
   "cell_type": "markdown",
   "metadata": {},
   "source": [
    "Useful examples:\n",
    "- ```python -m http.server```\n",
    "\n",
    "launches a web service that serves the content of the current directory\n",
    "- ```python -m json.tool file.json```\n",
    "\n",
    "pretty prints (indent) the content of a json file\n",
    "- ```python -m venv```\n",
    "\n",
    "creates a virtual environment\n",
    "- ```python -m pip```\n",
    "\n",
    "same as pip, we will come back to this one\n"
   ]
  },
  {
   "cell_type": "markdown",
   "metadata": {},
   "source": [
    "### Create a virtual environment"
   ]
  },
  {
   "cell_type": "raw",
   "metadata": {},
   "source": [
    "$ python3 -m venv dw"
   ]
  },
  {
   "cell_type": "markdown",
   "metadata": {},
   "source": [
    "(This is valid in Windows as well, but use `python` instead of `python3`"
   ]
  },
  {
   "cell_type": "raw",
   "metadata": {},
   "source": [
    "> python -m venv dw"
   ]
  },
  {
   "cell_type": "markdown",
   "metadata": {},
   "source": [
    "#### What happened?"
   ]
  },
  {
   "cell_type": "markdown",
   "metadata": {},
   "source": [
    "Browse ```dw``` directory and figure out what happened"
   ]
  },
  {
   "cell_type": "markdown",
   "metadata": {},
   "source": [
    "A directory tree has been created. \n",
    "\n",
    "bin/ contains a copy of binaries python and pip\n",
    "\n",
    "lib/ contains a directory pythonX.Y/site-packages where packages will be installed"
   ]
  },
  {
   "cell_type": "markdown",
   "metadata": {},
   "source": [
    "#### Use the new environment"
   ]
  },
  {
   "cell_type": "raw",
   "metadata": {},
   "source": [
    "$ source dw/bin/activate\n",
    "(dw) $"
   ]
  },
  {
   "cell_type": "markdown",
   "metadata": {},
   "source": [
    "In Windows, navigate to the newly created virtual environment and type: "
   ]
  },
  {
   "cell_type": "raw",
   "metadata": {},
   "source": [
    "> activate\n",
    "(dw) > "
   ]
  },
  {
   "cell_type": "markdown",
   "metadata": {},
   "source": [
    "**Note**: If you are using Anaconda Prompt, you might want to deactivate the default loaded base environment, which was loaded by conda. Then, proceed to activate your new environment."
   ]
  },
  {
   "cell_type": "raw",
   "metadata": {},
   "source": [
    "(base) > conda deactivate\n",
    "> activate\n",
    "(dw) >"
   ]
  },
  {
   "cell_type": "markdown",
   "metadata": {},
   "source": [
    "A prefix with the name of the virtual environment appears before the prompt. In this case, you will see a `(dw)` in front of the prompt."
   ]
  },
  {
   "cell_type": "raw",
   "metadata": {},
   "source": [
    "# to leave the virtual env\n",
    "$ deactivate"
   ]
  },
  {
   "cell_type": "raw",
   "metadata": {},
   "source": [
    "# to delete virtual env, simply remove directory. In Windows, you can just remove the entire directory without any issue.\n",
    "$ rm -rf path/to/your/virtual/environment"
   ]
  },
  {
   "cell_type": "markdown",
   "metadata": {},
   "source": [
    "### 2. conda\n",
    "\n",
    "Conda is an interface for managing installations of various packages, a.k.a. a package manager. Conda also allows creation of new virtual environments with a pre-installed set of packages.\n",
    "\n",
    "To list down all existing environments in Anaconda:"
   ]
  },
  {
   "cell_type": "raw",
   "metadata": {},
   "source": [
    "> conda info --envs"
   ]
  },
  {
   "cell_type": "code",
   "execution_count": 6,
   "metadata": {},
   "outputs": [
    {
     "name": "stdout",
     "output_type": "stream",
     "text": [
      "# conda environments:\n",
      "#\n",
      "base                     D:\\Anaconda3\n",
      "python-cvcourse          D:\\Anaconda3\\envs\\python-cvcourse\n",
      "python-dscourse       *  D:\\Anaconda3\\envs\\python-dscourse\n",
      "web_crawler              D:\\Anaconda3\\envs\\web_crawler\n",
      "\n"
     ]
    }
   ],
   "source": [
    "!conda info --envs"
   ]
  },
  {
   "cell_type": "markdown",
   "metadata": {},
   "source": [
    "The environment marked with an asterisk (\\*) indicates the current loaded environment.\n",
    "\n",
    "To create a new environment named `saturn`:"
   ]
  },
  {
   "cell_type": "raw",
   "metadata": {},
   "source": [
    "> conda create --name saturn"
   ]
  },
  {
   "cell_type": "markdown",
   "metadata": {},
   "source": [
    "This creates a new environment with some basic packages (and the same Python version as the base). \n",
    "\n",
    "Sometimes we want more control over which version of Python or which packages we want to be in the environment when created. So, we can use other options, such as creating an environment with a specific package:"
   ]
  },
  {
   "cell_type": "raw",
   "metadata": {},
   "source": [
    "> conda create --name neptune scipy matplotlib"
   ]
  },
  {
   "cell_type": "markdown",
   "metadata": {},
   "source": [
    "Sometimes we want an environment with Python 2 along with other specific versions of other packages. This can be done:"
   ]
  },
  {
   "cell_type": "raw",
   "metadata": {},
   "source": [
    "> conda create --name neptune_py2 python=2.7 scipy=0.15"
   ]
  },
  {
   "cell_type": "markdown",
   "metadata": {},
   "source": [
    "After you have created these environments, to use them, you need to activate an environment of your choice:"
   ]
  },
  {
   "cell_type": "raw",
   "metadata": {},
   "source": [
    "> conda activate neptune"
   ]
  },
  {
   "cell_type": "markdown",
   "metadata": {},
   "source": [
    "Now, to verify if the packages in this environment are correct as to what you have specified, examine the packages installed by:"
   ]
  },
  {
   "cell_type": "raw",
   "metadata": {},
   "source": [
    "> conda list"
   ]
  },
  {
   "cell_type": "code",
   "execution_count": 7,
   "metadata": {},
   "outputs": [
    {
     "name": "stdout",
     "output_type": "stream",
     "text": [
      "# packages in environment at D:\\Anaconda3\\envs\\python-dscourse:\n",
      "#\n",
      "# Name                    Version                   Build  Channel\n",
      "argon2-cffi               20.1.0           py38he774522_1  \n",
      "async_generator           1.10                       py_0  \n",
      "attrs                     20.2.0                     py_0  \n",
      "backcall                  0.2.0                      py_0  \n",
      "beautifulsoup4            4.9.3              pyhb0f4dca_0  \n",
      "blas                      1.0                         mkl  \n",
      "bleach                    3.2.1                      py_0  \n",
      "brotlipy                  0.7.0           py38he774522_1000  \n",
      "bs4                       4.9.3                         0  \n",
      "ca-certificates           2020.7.22                     0  \n",
      "certifi                   2020.6.20                py38_0  \n",
      "cffi                      1.14.3           py38h7a1dbc1_0  \n",
      "chardet                   3.0.4                 py38_1003  \n",
      "click                     7.1.2                      py_0  \n",
      "colorama                  0.4.3                      py_0  \n",
      "cryptography              3.1.1            py38h7a1dbc1_0  \n",
      "cycler                    0.10.0                   pypi_0    pypi\n",
      "decorator                 4.4.2                      py_0  \n",
      "defusedxml                0.6.0                      py_0  \n",
      "entrypoints               0.3                      py38_0  \n",
      "freetype                  2.10.3               hd328e21_0  \n",
      "icc_rt                    2019.0.0             h0cc432a_1  \n",
      "icu                       58.2                 ha925a31_3  \n",
      "idna                      2.10                       py_0  \n",
      "importlib-metadata        1.7.0                    py38_0  \n",
      "importlib_metadata        1.7.0                         0  \n",
      "intel-openmp              2020.2                      254  \n",
      "ipykernel                 5.3.4            py38h5ca1d4c_0  \n",
      "ipython                   7.18.1           py38h5ca1d4c_0  \n",
      "ipython_genutils          0.2.0                    py38_0  \n",
      "ipywidgets                7.5.1                      py_1  \n",
      "jedi                      0.17.2                   py38_0  \n",
      "jinja2                    2.11.2                     py_0  \n",
      "joblib                    0.17.0                     py_0  \n",
      "jpeg                      9b                   hb83a4c4_2  \n",
      "jsonschema                3.2.0                    py38_1  \n",
      "jupyter                   1.0.0                    py38_7  \n",
      "jupyter_client            6.1.7                      py_0  \n",
      "jupyter_console           6.2.0                      py_0  \n",
      "jupyter_core              4.6.3                    py38_0  \n",
      "jupyterlab_pygments       0.1.2                      py_0  \n",
      "kiwisolver                1.2.0            py38h74a9793_0  \n",
      "libpng                    1.6.37               h2a8f88b_0  \n",
      "libsodium                 1.0.18               h62dcd97_0  \n",
      "libtiff                   4.1.0                h56a325e_1  \n",
      "lz4-c                     1.9.2                hf4a77e7_3  \n",
      "m2w64-gcc-libgfortran     5.3.0                         6  \n",
      "m2w64-gcc-libs            5.3.0                         7  \n",
      "m2w64-gcc-libs-core       5.3.0                         7  \n",
      "m2w64-gmp                 6.1.0                         2  \n",
      "m2w64-libwinpthread-git   5.0.0.4634.697f757               2  \n",
      "markupsafe                1.1.1            py38he774522_0  \n",
      "matplotlib                3.3.2                    pypi_0    pypi\n",
      "matplotlib-base           3.3.1            py38hba9282a_0  \n",
      "mistune                   0.8.4           py38he774522_1000  \n",
      "mkl                       2020.2                      256  \n",
      "mkl-service               2.3.0            py38hb782905_0  \n",
      "mkl_fft                   1.2.0            py38h45dec08_0  \n",
      "mkl_random                1.1.1            py38h47e9c7a_0  \n",
      "msys2-conda-epoch         20160418                      1  \n",
      "nbclient                  0.5.0                      py_0  \n",
      "nbconvert                 6.0.6                    py38_0  \n",
      "nbformat                  5.0.7                      py_0  \n",
      "nest-asyncio              1.4.1                      py_0  \n",
      "nltk                      3.5                        py_0    anaconda\n",
      "notebook                  6.1.4                    py38_0  \n",
      "numpy                     1.19.2                   pypi_0    pypi\n",
      "numpy-base                1.19.1           py38ha3acd2a_0  \n",
      "olefile                   0.46                       py_0  \n",
      "opencv-python             4.4.0.44                 pypi_0    pypi\n",
      "openssl                   1.1.1h               he774522_0  \n",
      "packaging                 20.4                       py_0  \n",
      "pandas                    1.1.3            py38ha925a31_0  \n",
      "pandoc                    2.10.1                        0  \n",
      "pandocfilters             1.4.2                    py38_1  \n",
      "parso                     0.7.0                      py_0  \n",
      "patsy                     0.5.1                    py38_0  \n",
      "pickleshare               0.7.5                 py38_1000  \n",
      "pillow                    7.2.0            py38hcc1f983_0  \n",
      "pip                       20.2.2                   py38_0  \n",
      "prometheus_client         0.8.0                      py_0  \n",
      "prompt-toolkit            3.0.7                      py_0  \n",
      "prompt_toolkit            3.0.7                         0  \n",
      "pycparser                 2.20                       py_2  \n",
      "pygments                  2.7.1                      py_0  \n",
      "pyopenssl                 19.1.0                     py_1  \n",
      "pyparsing                 2.4.7                      py_0  \n",
      "pypdf2                    1.26.0                   pypi_0    pypi\n",
      "pyqt                      5.9.2            py38ha925a31_4  \n",
      "pyrsistent                0.17.3           py38he774522_0  \n",
      "pysocks                   1.7.1                    py38_0  \n",
      "python                    3.8.5                h5fd99cc_1  \n",
      "python-dateutil           2.8.1                      py_0  \n",
      "python_abi                3.8                      1_cp38    conda-forge\n",
      "pytz                      2020.1                     py_0  \n",
      "pywin32                   227              py38he774522_1  \n",
      "pywinpty                  0.5.7                    py38_0  \n",
      "pyzmq                     19.0.2           py38ha925a31_1  \n",
      "qt                        5.9.7            vc14h73c81de_0  \n",
      "qtconsole                 4.7.7                      py_0  \n",
      "qtpy                      1.9.0                      py_0  \n",
      "regex                     2020.7.14        py38he774522_0  \n",
      "requests                  2.24.0                     py_0  \n",
      "scikit-learn              0.23.2                   pypi_0    pypi\n",
      "scipy                     1.5.2                    pypi_0    pypi\n",
      "seaborn                   0.11.0                     py_0  \n",
      "selenium                  3.141.0         py38h1e8a9f7_1001    conda-forge\n",
      "send2trash                1.5.0                    py38_0  \n",
      "setuptools                49.6.0                   py38_1  \n",
      "sip                       4.19.13          py38ha925a31_0  \n",
      "six                       1.15.0                     py_0  \n",
      "soupsieve                 2.0.1                      py_0  \n",
      "sqlite                    3.33.0               h2a8f88b_0  \n",
      "statsmodels               0.12.0           py38he774522_0  \n",
      "terminado                 0.8.3                    py38_0  \n",
      "testpath                  0.4.4                      py_0  \n",
      "textblob                  0.15.3                     py_0    conda-forge\n",
      "threadpoolctl             2.1.0                    pypi_0    pypi\n",
      "tk                        8.6.10               he774522_0  \n",
      "tornado                   6.0.4            py38he774522_1  \n",
      "tqdm                      4.50.0                     py_0  \n",
      "traitlets                 5.0.4                      py_0  \n",
      "urllib3                   1.25.10                    py_0  \n",
      "vc                        14.1                 h0510ff6_4  \n",
      "vs2015_runtime            14.16.27012          hf0eaf9b_3  \n",
      "wcwidth                   0.2.5                      py_0  \n",
      "webencodings              0.5.1                    py38_1  \n",
      "wheel                     0.35.1                     py_0  \n",
      "widgetsnbextension        3.5.1                    py38_0  \n",
      "wikipedia                 1.4.0                      py_2    conda-forge\n",
      "win_inet_pton             1.1.0                    py38_0  \n",
      "wincertstore              0.2                      py38_0  \n",
      "winpty                    0.4.3                         4  \n",
      "wordcloud                 1.8.0                    pypi_0    pypi\n",
      "xz                        5.2.5                h62dcd97_0  \n",
      "zeromq                    4.3.2                ha925a31_3  \n",
      "zipp                      3.1.0                      py_0  \n",
      "zlib                      1.2.11               h62dcd97_4  \n",
      "zstd                      1.4.5                h04227a9_0  \n"
     ]
    }
   ],
   "source": [
    "!conda list"
   ]
  },
  {
   "cell_type": "markdown",
   "metadata": {},
   "source": [
    "To deactivate the environment,"
   ]
  },
  {
   "cell_type": "raw",
   "metadata": {},
   "source": [
    "> conda deactivate"
   ]
  },
  {
   "cell_type": "markdown",
   "metadata": {},
   "source": [
    "Conda will fall back on the base environment when you do this.\n",
    "\n",
    "If you wish to clone an existing environment to a new one (for practical reasons sometimes), you can do this:"
   ]
  },
  {
   "cell_type": "raw",
   "metadata": {},
   "source": [
    "> conda create --name neptune_clone --clone neptune"
   ]
  },
  {
   "cell_type": "markdown",
   "metadata": {},
   "source": [
    "You can go to [https://conda.io/docs/user-guide/tasks/manage-environments.html](https://conda.io/docs/user-guide/tasks/manage-environments.html) for the full guide on how to use `conda` to manage your virtual environments within Anaconda."
   ]
  },
  {
   "cell_type": "markdown",
   "metadata": {},
   "source": [
    "### 3. virtualenv\n",
    "\n",
    "There's another way of creating virtual environments for Python, that is to use the virtualenv package:"
   ]
  },
  {
   "cell_type": "raw",
   "metadata": {},
   "source": [
    "> pip install virtualenv"
   ]
  },
  {
   "cell_type": "markdown",
   "metadata": {},
   "source": [
    "To test your installation:"
   ]
  },
  {
   "cell_type": "markdown",
   "metadata": {},
   "source": [
    "virtualenv --version"
   ]
  },
  {
   "cell_type": "markdown",
   "metadata": {},
   "source": [
    "and you should see the version number for the virtualenv package.\n",
    "\n",
    "Let's create a project folder:"
   ]
  },
  {
   "cell_type": "raw",
   "metadata": {},
   "source": [
    "> virtualenv my_project_folder"
   ]
  },
  {
   "cell_type": "markdown",
   "metadata": {},
   "source": [
    "This will create a folder in the current directory which will contain the Python executable files, and a copy of the pip library which you can use to install other packages. The name of the virtual environment (in this case, it was `my_project_folder`) can be anything; without providing any specific directory path will place the files in the current directory instead.\n",
    "\n",
    "*For more info, look at http://docs.python-guide.org/en/latest/dev/virtualenvs/*\n",
    "\n",
    "You can also use the Python interpreter of your choice (like python2.7). For example,"
   ]
  },
  {
   "cell_type": "raw",
   "metadata": {},
   "source": [
    "virtualenv -p C:\\Python\\bin\\python_27 my_project"
   ]
  },
  {
   "cell_type": "markdown",
   "metadata": {},
   "source": [
    "But this is not possible if you had installed Anaconda based on a specific Python version, say 3.6. Then you do not have a copy of Python 2.7 in your machine. \n",
    "\n",
    "Hence, this brings us to the third way of creating virtual environments (particularly suitable if you are using the full Anaconda suite), that is using `conda`."
   ]
  },
  {
   "cell_type": "markdown",
   "metadata": {},
   "source": [
    "## Installing packages with conda and pip"
   ]
  },
  {
   "cell_type": "markdown",
   "metadata": {},
   "source": [
    "As a popular open source development project, Python has an active supporting community of contributors and users that also make their software available for other Python developers to use under open source license terms.\n",
    "\n",
    "This allows Python users to share and collaborate effectively, benefiting from the solutions others have already created to common (and sometimes even rare!) problems, as well as potentially contributing their own solutions to the common pool.\n",
    "\n"
   ]
  },
  {
   "cell_type": "markdown",
   "metadata": {},
   "source": [
    "**pip** and **conda** are the preferred package installer programs. **pip** started with Python 3.4 and Python 2.7.9, and it is included by default with most Python binary installers. As for **conda**, it is definitely available when Anaconda is installed, but not necessarily in other distributions."
   ]
  },
  {
   "cell_type": "markdown",
   "metadata": {},
   "source": [
    "> NOTE: For older **python versions only**, a script is available at https://bootstrap.pypa.io/get-pip.py\n",
    "```\n",
    "$ wget https://bootstrap.pypa.io/get-pip.py\n",
    "$ python get-pip.py```"
   ]
  },
  {
   "cell_type": "markdown",
   "metadata": {},
   "source": [
    "** PyPI - the Python Package Index ** The Python Package Index is a repository of software for the Python programming language.\n",
    "https://pypi.python.org/pypi PyPI is the default Package Index for the Python community. It is open to all Python developers to consume and distribute their distributions.\n",
    "\n",
    "**```pip```** searches and installs packages from this repository by default."
   ]
  },
  {
   "cell_type": "markdown",
   "metadata": {},
   "source": [
    "To run pip, you can simply call **```pip```** command or **```python -m pip```**. "
   ]
  },
  {
   "cell_type": "raw",
   "metadata": {},
   "source": [
    "> pip install beautifulsoup4"
   ]
  },
  {
   "cell_type": "markdown",
   "metadata": {},
   "source": [
    "In conda, you can also even search for packages (whether they exist or not, or if you forgot part of the name):"
   ]
  },
  {
   "cell_type": "raw",
   "metadata": {},
   "source": [
    "> conda search scipy"
   ]
  },
  {
   "cell_type": "markdown",
   "metadata": {},
   "source": [
    "...and proceed to install them:"
   ]
  },
  {
   "cell_type": "raw",
   "metadata": {},
   "source": [
    "> conda install scipy"
   ]
  },
  {
   "cell_type": "markdown",
   "metadata": {},
   "source": [
    "You will notice that conda tells you explicitly and transparently, which packages will be installed, and if they are overwriting a previous version, what versions are those. It also traces back all the necessary dependencies (other packages) and gets them installed and upgraded if needed. Very convenient!\n",
    "\n",
    "Note: **`pip`** also does this actually. But it outputs very verbosely you usually miss it. \n",
    "\n",
    "To update packages,"
   ]
  },
  {
   "cell_type": "raw",
   "metadata": {},
   "source": [
    "> conda update scipy\n",
    "> conda update conda      "
   ]
  },
  {
   "cell_type": "markdown",
   "metadata": {},
   "source": [
    "or to update all..."
   ]
  },
  {
   "cell_type": "raw",
   "metadata": {},
   "source": [
    "> conda update all"
   ]
  },
  {
   "cell_type": "markdown",
   "metadata": {},
   "source": [
    "Use the above with utmost caution, especially if you are already in the middle of a project. This is best done at the beginning or after you have created a new environment. The chances of your existing code failing or running into errors is quite high."
   ]
  },
  {
   "cell_type": "markdown",
   "metadata": {},
   "source": [
    "Likewise, to upgrade packages with pip:"
   ]
  },
  {
   "cell_type": "raw",
   "metadata": {},
   "source": [
    "> pip install numpy --upgrade"
   ]
  }
 ],
 "metadata": {
  "kernelspec": {
   "display_name": "Python 3 (ipykernel)",
   "language": "python",
   "name": "python3"
  },
  "language_info": {
   "codemirror_mode": {
    "name": "ipython",
    "version": 3
   },
   "file_extension": ".py",
   "mimetype": "text/x-python",
   "name": "python",
   "nbconvert_exporter": "python",
   "pygments_lexer": "ipython3",
   "version": "3.9.16"
  }
 },
 "nbformat": 4,
 "nbformat_minor": 2
}
