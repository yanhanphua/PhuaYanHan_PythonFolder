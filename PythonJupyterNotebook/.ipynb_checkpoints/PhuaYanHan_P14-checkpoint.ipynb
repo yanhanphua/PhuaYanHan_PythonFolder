{
 "cells": [
  {
   "cell_type": "markdown",
   "metadata": {},
   "source": [
    "<img src=\"https://i.imgur.com/FoKB5Z5.png\" align=\"left\" width=\"300\" height=\"250\" title=\"source: imgur.com\" /></a>"
   ]
  },
  {
   "cell_type": "markdown",
   "metadata": {},
   "source": [
    "## Program Code: J620-002-4:2020 \n",
    "\n",
    "## Program Name: FRONT-END SOFTWARE DEVELOPMENT\n",
    "\n",
    "## Title :  Introduction to Selenium\n",
    "\n",
    "#### Name: \n",
    "\n",
    "#### IC Number:\n",
    "\n",
    "#### Date :\n",
    "\n",
    "#### Introduction : \n",
    "\n",
    "\n",
    "\n",
    "#### Conclusion :\n",
    "\n",
    "\n",
    "\n",
    "\n"
   ]
  },
  {
   "cell_type": "markdown",
   "metadata": {},
   "source": [
    "# P14 - Introduction of Selenium"
   ]
  },
  {
   "cell_type": "markdown",
   "metadata": {},
   "source": [
    "## Introduction to Selenium"
   ]
  },
  {
   "cell_type": "markdown",
   "metadata": {},
   "source": [
    "**Selenium** is a tool that automates the web-browsers, also known as a web-driver. \n",
    "\n",
    "With this, you can open a Google Chrome/Mozilla Firefox automated window, which visits a URL and navigates on the links.\n",
    "\n",
    "However, it is not as efficient as the tools which we have learned so far.\n",
    "\n",
    "This tool is something to use when all doors of web scraping are being closed, and you still want the data which matters to you.\n"
   ]
  },
  {
   "cell_type": "markdown",
   "metadata": {},
   "source": [
    "## Install Selenium\n",
    "\n",
    "https://selenium-python.readthedocs.io/installation.html\n",
    "\n",
    "pip3 install selenium\n",
    "\n",
    "conda install -c conda-forge selenium\n"
   ]
  },
  {
   "cell_type": "code",
   "execution_count": 1,
   "metadata": {},
   "outputs": [
    {
     "name": "stdout",
     "output_type": "stream",
     "text": [
      "Requirement already satisfied: selenium in d:\\anaconda3\\envs\\python-dscourse\\lib\\site-packages (3.141.0)\n",
      "Requirement already satisfied: urllib3 in d:\\anaconda3\\envs\\python-dscourse\\lib\\site-packages (from selenium) (1.25.10)\n"
     ]
    }
   ],
   "source": [
    "!pip3 install selenium"
   ]
  },
  {
   "cell_type": "markdown",
   "metadata": {},
   "source": [
    "<img src=\"./Images/InstallSelenium.png\">"
   ]
  },
  {
   "cell_type": "markdown",
   "metadata": {},
   "source": [
    "## Chromedriver\n",
    "\n",
    "Download from \n",
    "\n",
    "https://chromedriver.chromium.org/\n",
    "\n",
    "**ChromeDriver**\n",
    "\n",
    "WebDriver is an open source tool for automated testing of webapps across many browsers. \n",
    "\n",
    "It provides capabilities for navigating to web pages, user input, JavaScript execution, and more.  \n",
    "\n",
    "ChromeDriver is a standalone server that implements the W3C WebDriver standard. \n",
    "\n",
    "ChromeDriver is available for Chrome on Android and Chrome on Desktop (Mac, Linux, Windows and ChromeOS).  \n",
    "\n",
    "You can view the current implementation status of the WebDriver standard here.\n",
    "\n",
    "**All versions available in Downloads**\n",
    "\n",
    "Latest stable release: ChromeDriver 81.0.4044.69\n",
    "Previous stable release: ChromeDriver 80.0.3987.106\n",
    "Beta release of ChromeDriver 83 coming soon (we are skipping 82)"
   ]
  },
  {
   "cell_type": "markdown",
   "metadata": {},
   "source": [
    "### ChromeDriver Documentation\n",
    "\n",
    "https://chromedriver.chromium.org/getting-started\n",
    "\n",
    "<img src=\"./Images/ChromeDriver1.png\">\n",
    "\n",
    "<img src=\"./Images/ChromeDriver2.png\">\n",
    "\n"
   ]
  },
  {
   "cell_type": "markdown",
   "metadata": {},
   "source": [
    "## Methods\n",
    "\n",
    "**Locaters in Selenium**\n",
    "\n",
    "* By.ID: find_element_by_id\n",
    "\n",
    "* By.NAME: find_element_by_name\n",
    "\n",
    "* By.LINK_TEXT: find_element_by_link_text\n",
    "\n",
    "* By.CSS_SELECTOR: find_element_by_css_selector\n",
    "\n",
    "* By.PARTIAL_LINK_TEXT: find_element_by_partial_link_text\n",
    "\n",
    "* By.XPATH: find_element_by_xpath\n",
    "\n",
    "\n",
    "**Commands**\n",
    "\n",
    "* sendKeys()\n",
    "\n",
    "* click()\n",
    "\n",
    "\n",
    "**More on**\n",
    "\n",
    "https://selenium-python.readthedocs.io/locating-elements.html\n"
   ]
  },
  {
   "cell_type": "code",
   "execution_count": 6,
   "metadata": {},
   "outputs": [],
   "source": [
    "# Main\n",
    "\n",
    "from selenium import webdriver\n",
    "\n",
    "driver = webdriver.Chrome('chromedriver')"
   ]
  },
  {
   "cell_type": "markdown",
   "metadata": {},
   "source": [
    "<img src=\"./Images/ChromeDriver3.png\">"
   ]
  },
  {
   "cell_type": "markdown",
   "metadata": {},
   "source": [
    "Take note of possible version incompability between the Chrome Browser and the Driver. Upgrade id necessary\n",
    "\n",
    "<img src=\"./Images/ChromeDriver0.png\">"
   ]
  },
  {
   "cell_type": "markdown",
   "metadata": {},
   "source": [
    "## Locaters in Selenium\n",
    "\n",
    "### By.ID: find_element_by_id\n",
    "\n"
   ]
  },
  {
   "cell_type": "markdown",
   "metadata": {},
   "source": [
    "Need basic understanding of Web Page, HTML, CSS\n"
   ]
  },
  {
   "cell_type": "markdown",
   "metadata": {},
   "source": [
    "Let's get moving.\n",
    "\n",
    "https://www.ebay.com.my\n"
   ]
  },
  {
   "cell_type": "code",
   "execution_count": 27,
   "metadata": {},
   "outputs": [],
   "source": [
    "from selenium import webdriver\n",
    "\n",
    "driver = webdriver.Chrome('chromedriver')\n",
    "\n",
    "driver.get('https://www.ebay.com.my')\n"
   ]
  },
  {
   "cell_type": "markdown",
   "metadata": {},
   "source": [
    "<img src=\"./Images/Selenium1.png\">"
   ]
  },
  {
   "cell_type": "markdown",
   "metadata": {},
   "source": [
    "Let's look at Ebay website\n",
    "\n",
    "Automate the input \"Search for anything\"\n",
    "\n",
    "Search for the \"Item\"\n",
    "\n",
    "Right click inspect the Search Input Box\n",
    "\n",
    "Look for the ID of the Search Input Box\n",
    "\n",
    "id=\"gh=ac\"\n",
    "\n",
    "Make sure that this is the unique ID\n"
   ]
  },
  {
   "cell_type": "markdown",
   "metadata": {},
   "source": [
    "<img src=\"./Images/Selenium2.png\">"
   ]
  },
  {
   "cell_type": "code",
   "execution_count": 28,
   "metadata": {},
   "outputs": [],
   "source": [
    "driver.find_element_by_id(\"gh-ac\").send_keys(\"da vinci code\")"
   ]
  },
  {
   "cell_type": "markdown",
   "metadata": {},
   "source": [
    "Observe the Chrome Browser\n",
    "\n",
    "The text is automatically \"typed\" into the search box"
   ]
  },
  {
   "cell_type": "markdown",
   "metadata": {},
   "source": [
    "### find.element_by_name\n",
    "------------------------------"
   ]
  },
  {
   "cell_type": "code",
   "execution_count": 29,
   "metadata": {},
   "outputs": [],
   "source": [
    "driver.find_element_by_name(\"_nkw\").send_keys(\"da vinci code\")"
   ]
  },
  {
   "cell_type": "markdown",
   "metadata": {},
   "source": [
    "Observe the Chrome Browser\n",
    "\n",
    "Same again\n",
    "\n",
    "The text is automatically \"typed\" into the search box\n",
    "\n",
    "However this time it is by find_element_by_name\n"
   ]
  },
  {
   "cell_type": "markdown",
   "metadata": {},
   "source": [
    "<img src=\"./Images/Selenium3.png\">"
   ]
  },
  {
   "cell_type": "markdown",
   "metadata": {},
   "source": [
    "### find_element_by_link_text"
   ]
  },
  {
   "cell_type": "markdown",
   "metadata": {},
   "source": [
    "<img src=\"./Images/Selenium4.png\">"
   ]
  },
  {
   "cell_type": "code",
   "execution_count": 30,
   "metadata": {},
   "outputs": [],
   "source": [
    "driver.find_element_by_link_text(\"Deals\").click()"
   ]
  },
  {
   "cell_type": "code",
   "execution_count": 31,
   "metadata": {},
   "outputs": [],
   "source": [
    "driver.find_element_by_link_text(\"Electronics\").click()"
   ]
  },
  {
   "cell_type": "markdown",
   "metadata": {},
   "source": [
    "<img src=\"./Images/Selenium5.png\">"
   ]
  },
  {
   "cell_type": "markdown",
   "metadata": {},
   "source": [
    "### find_element_by_css_selector"
   ]
  },
  {
   "cell_type": "code",
   "execution_count": 35,
   "metadata": {},
   "outputs": [],
   "source": [
    "driver.find_element_by_css_selector(\".gh-tb\").send_keys(\"da vinci code\")"
   ]
  },
  {
   "cell_type": "markdown",
   "metadata": {},
   "source": [
    "Dont have to key in the full class name, it will detect part of the string"
   ]
  },
  {
   "cell_type": "markdown",
   "metadata": {},
   "source": [
    "### find_element_by_partial_link_text"
   ]
  },
  {
   "cell_type": "code",
   "execution_count": 36,
   "metadata": {},
   "outputs": [],
   "source": [
    "driver.find_element_by_partial_link_text(\"Computers\").click()"
   ]
  },
  {
   "cell_type": "markdown",
   "metadata": {},
   "source": [
    "Observe the Driver \"clicking\" the Link and a new page appears"
   ]
  },
  {
   "cell_type": "markdown",
   "metadata": {},
   "source": [
    "### find_element_by_xpath\n",
    "\n",
    "What is xPath?\n",
    "\n",
    "https://www.w3.org/TR/1999/REC-xpath-19991116/\n"
   ]
  },
  {
   "cell_type": "markdown",
   "metadata": {},
   "source": [
    "Download and Install a Chrome extension **xPath Finder**\n",
    "\n",
    "Go To Chrome Menu \"Customise and Control Google Chrome\"\n",
    "\n",
    "Select More Tools\n",
    "\n",
    "Select Extensions\n",
    "\n",
    "Open chrome web store\n",
    "\n",
    "Enter xPath Finder in the Search the store input box\n",
    "\n",
    "Click Add to Chrome\n",
    "\n",
    "<img src=\"./Images/Selenium6.png\">\n",
    "\n",
    "\n"
   ]
  },
  {
   "cell_type": "markdown",
   "metadata": {},
   "source": [
    "Observer the top right of the windows and the extension is loaded.\n",
    "\n",
    "<img src=\"IMages/Selenium7.png\">"
   ]
  },
  {
   "cell_type": "markdown",
   "metadata": {},
   "source": [
    "Click on the newly installed Extensions\n",
    "\n",
    "Click on the intended item on the page, in this example \"Proton\"\n",
    "\n",
    "\n",
    "<img src=\"./Images/Selenium7b.png\">\n",
    "\n",
    "Observe the xPath shown at the bottom left\n"
   ]
  },
  {
   "cell_type": "code",
   "execution_count": 38,
   "metadata": {},
   "outputs": [],
   "source": [
    "driver.find_element_by_xpath(\"/html/body/div[5]/div[4]/div[4]/div[1]/section[2]/div[2]/div/div/ul/li[2]/a\").click()"
   ]
  },
  {
   "cell_type": "markdown",
   "metadata": {},
   "source": [
    "<img src=\"./Images/Selenium8.png\">"
   ]
  }
 ],
 "metadata": {
  "kernelspec": {
   "display_name": "Python 3 (ipykernel)",
   "language": "python",
   "name": "python3"
  },
  "language_info": {
   "codemirror_mode": {
    "name": "ipython",
    "version": 3
   },
   "file_extension": ".py",
   "mimetype": "text/x-python",
   "name": "python",
   "nbconvert_exporter": "python",
   "pygments_lexer": "ipython3",
   "version": "3.9.16"
  }
 },
 "nbformat": 4,
 "nbformat_minor": 4
}
