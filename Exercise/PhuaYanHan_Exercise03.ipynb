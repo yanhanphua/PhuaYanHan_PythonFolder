{
 "cells": [
  {
   "cell_type": "markdown",
   "metadata": {},
   "source": [
    "<img src=\"https://i.imgur.com/FoKB5Z5.png\" align=\"left\" width=\"300\" height=\"250\" title=\"source: imgur.com\" /></a>"
   ]
  },
  {
   "cell_type": "markdown",
   "metadata": {},
   "source": [
    "## Program Code: J620-002-4:2020 \n",
    "\n",
    "## Program Name: FRONT-END SOFTWARE DEVELOPMENT\n",
    "\n",
    "## Title : Exercise 3 - List Comprehension & Lambda\n",
    "\n",
    "#### Name: Phua Yan Han\n",
    "\n",
    "#### IC Number: 050824070059\n",
    "\n",
    "#### Date : 24/6/23\n",
    "\n",
    "#### Introduction : basics of python list comprehension and lambda\n",
    "\n",
    "\n",
    "\n",
    "#### Conclusion : learned syntax of python list comprehension and lambda\n",
    "\n",
    "\n",
    "\n",
    "\n"
   ]
  },
  {
   "cell_type": "markdown",
   "metadata": {},
   "source": [
    "EXERCISE 3\n",
    "==\n",
    "## List Comprehension & Lambda Exercise"
   ]
  },
  {
   "cell_type": "code",
   "execution_count": 31,
   "metadata": {},
   "outputs": [
    {
     "name": "stdout",
     "output_type": "stream",
     "text": [
      "[5, 5, 3, 5, 4, 4, 3]\n"
     ]
    }
   ],
   "source": [
    "# write list comprehension to determine the length of each word\n",
    "# except 'the' and store as 'word_lengths'\n",
    "sentence = \"the quick brown fox jumps over the lazy dog\"\n",
    "res = [len(i) for i in sentence.split(\" \") if i!=\"the\"]\n",
    "print(res)"
   ]
  },
  {
   "cell_type": "code",
   "execution_count": 24,
   "metadata": {},
   "outputs": [
    {
     "name": "stdout",
     "output_type": "stream",
     "text": [
      "[-203.4, -68.3, -12.2]\n"
     ]
    }
   ],
   "source": [
    "# write a list comprehension to extract the \n",
    "# negative numbers from the list as integers and store as newlist\n",
    "numbers = [34.6, -203.4, 44.9, -68.3, -12.2, 44.6, 12.7]\n",
    "newList=[i for i in numbers if i<0]\n",
    "print(newList)"
   ]
  },
  {
   "cell_type": "code",
   "execution_count": 38,
   "metadata": {},
   "outputs": [
    {
     "name": "stdout",
     "output_type": "stream",
     "text": [
      "[(0, 0), (0, 1), (0, 2), (1, 0), (1, 1), (1, 2), (2, 0), (2, 1), (2, 2)]\n"
     ]
    }
   ],
   "source": [
    "# Convert the following code to list comprehension\n",
    "\n",
    "coords = [ (x,y) for x in range(3) for y in range(3)]\n",
    "# for x in range(4):\n",
    "#     for y in range(2):\n",
    "#         coordinate = (x, y)\n",
    "#         coords.append(coordinate)\n",
    "print(coords)\n"
   ]
  },
  {
   "cell_type": "code",
   "execution_count": 7,
   "metadata": {},
   "outputs": [
    {
     "name": "stdout",
     "output_type": "stream",
     "text": [
      "[('ball', 'cake'), ('ball', 'rice'), ('ball', 'ham'), ('cheese', 'cake'), ('cheese', 'rice'), ('cheese', 'ham'), ('round', 'cake'), ('round', 'rice'), ('round', 'ham')]\n"
     ]
    }
   ],
   "source": [
    "# write a list comprehension to list all the combinations\n",
    "# for the two sets of words\n",
    "\n",
    "set1 = ['ball','cheese','round']\n",
    "set2 = ['cake','rice','ham']\n",
    "word = [ (x,y) for x in set1 for y in set2]\n",
    "print(word)"
   ]
  },
  {
   "cell_type": "code",
   "execution_count": 50,
   "metadata": {},
   "outputs": [
    {
     "name": "stdout",
     "output_type": "stream",
     "text": [
      "[1, 9, 25, 49, 81, 121, 169, 225, 289, 361, 441, 529, 625, 729, 841, 961, 1089, 1225, 1369, 1521, 1681, 1849, 2025, 2209, 2401, 2601, 2809, 3025, 3249, 3481, 3721, 3969, 4225, 4489, 4761, 5041, 5329, 5625, 5929, 6241, 6561, 6889, 7225, 7569, 7921, 8281, 8649, 9025, 9409, 9801]\n"
     ]
    }
   ],
   "source": [
    "# write a lambda function that squares the number\n",
    "# for all odd numbers from 1 to 100\n",
    "x = range(1,101)\n",
    "newX=list((map(lambda x : x**2 , filter(lambda y : y%2!=0 , x))))\n",
    "print(newX)"
   ]
  },
  {
   "cell_type": "code",
   "execution_count": 46,
   "metadata": {},
   "outputs": [
    {
     "name": "stdout",
     "output_type": "stream",
     "text": [
      "[4, 16, 36, 64, 100, 144, 196, 256, 324, 400, 484, 576, 676, 784, 900, 1024, 1156, 1296, 1444, 1600, 1764, 1936, 2116, 2304, 2500, 2704, 2916, 3136, 3364, 3600, 3844, 4096, 4356, 4624, 4900, 5184, 5476, 5776, 6084, 6400, 6724, 7056, 7396, 7744, 8100, 8464, 8836, 9216, 9604, 10000]\n"
     ]
    }
   ],
   "source": [
    "# write a list comprehension that squares number\n",
    "# for all odd numbers from 1 to 100\n",
    "x = range(1,101)\n",
    "b = [i**2 for i in x if i%2==0]\n",
    "print(b)\n",
    "\n"
   ]
  },
  {
   "cell_type": "code",
   "execution_count": 49,
   "metadata": {},
   "outputs": [
    {
     "name": "stdout",
     "output_type": "stream",
     "text": [
      "['Anne', 'Amy']\n"
     ]
    }
   ],
   "source": [
    "# write a lambda function to extract names that begin with 'A'\n",
    "names = ['Anne', 'Amy', 'Bob', 'David', 'Carrie', 'Barbara', 'Zach']\n",
    "newNames=list(filter(lambda x:x[0]==\"A\",names))\n",
    "print(newNames)"
   ]
  },
  {
   "cell_type": "code",
   "execution_count": 53,
   "metadata": {},
   "outputs": [
    {
     "name": "stdout",
     "output_type": "stream",
     "text": [
      "['Anne', 'Amy']\n"
     ]
    }
   ],
   "source": [
    "# write a list comprehension to extract names that begin with 'B'\n",
    "names = ['Anne', 'Amy', 'Bob', 'David', 'Carrie', 'Barbara', 'Zach']\n",
    "newNames=[i for i in names if i[0]==\"A\"]\n",
    "print(newNames)"
   ]
  }
 ],
 "metadata": {
  "kernelspec": {
   "display_name": "Python 3 (ipykernel)",
   "language": "python",
   "name": "python3"
  },
  "language_info": {
   "codemirror_mode": {
    "name": "ipython",
    "version": 3
   },
   "file_extension": ".py",
   "mimetype": "text/x-python",
   "name": "python",
   "nbconvert_exporter": "python",
   "pygments_lexer": "ipython3",
   "version": "3.9.16"
  }
 },
 "nbformat": 4,
 "nbformat_minor": 2
}
