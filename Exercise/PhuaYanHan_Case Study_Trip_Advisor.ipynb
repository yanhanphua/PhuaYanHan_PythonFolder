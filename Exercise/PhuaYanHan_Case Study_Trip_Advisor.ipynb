{
 "cells": [
  {
   "cell_type": "markdown",
   "metadata": {},
   "source": [
    "<img src=\"https://i.imgur.com/FoKB5Z5.png\" align=\"left\" width=\"300\" height=\"250\" title=\"source: imgur.com\" /></a>"
   ]
  },
  {
   "cell_type": "markdown",
   "metadata": {},
   "source": [
    "## Program Code: J620-002-4:2020 \n",
    "\n",
    "## Program Name: FRONT-END SOFTWARE DEVELOPMENT\n",
    "\n",
    "## Title :  Case Study - Webscrapping on Trip Advisor\n",
    "\n",
    "#### Name: Phua Yan Han\n",
    "\n",
    "#### IC Number: 050824070059\n",
    "\n",
    "#### Date : 4/7/23\n",
    "\n",
    "#### Introduction : learning webScrapping\n",
    "\n",
    "\n",
    "\n",
    "#### Conclusion : learned more efficient ways to do webScrapping\n",
    "\n",
    "\n",
    "\n",
    "\n"
   ]
  },
  {
   "cell_type": "markdown",
   "metadata": {},
   "source": [
    "Instruction: Use Selenium and Beautiful Soup to extract the first 5 comments and their titles from the trip advisor link.\n",
    "\n",
    "Url: https://www.tripadvisor.com/Airline_Review-d8729220-Reviews-AirAsia-AirAsia-Berhad-Malaysia"
   ]
  },
  {
   "cell_type": "code",
   "execution_count": 13,
   "metadata": {},
   "outputs": [],
   "source": [
    "from selenium import webdriver\n",
    "from bs4 import BeautifulSoup\n",
    "\n",
    "driver = webdriver.Chrome('C:\\\\Users\\Asus\\Documents\\ChromeDriver\\chromedriver\\chromedriver')"
   ]
  },
  {
   "cell_type": "code",
   "execution_count": 21,
   "metadata": {},
   "outputs": [
    {
     "name": "stdout",
     "output_type": "stream",
     "text": [
      "title No refund from Aiaasia for flight cancellation more than 8 months\n",
      "description No refund from Aiaasia for flight cancellation more than 8 months\n",
      "\n",
      "title Not good\n",
      "description Not good\n",
      "\n",
      "title Don’t use this airline\n",
      "description Don’t use this airline\n",
      "\n",
      "title The staffs are very very rude\n",
      "description The staffs are very very rude\n",
      "\n",
      "title No in-flight entertainment\n",
      "description No in-flight entertainment\n",
      "\n",
      "title Nicole and dime airline company\n",
      "description Nicole and dime airline company\n",
      "\n",
      "title mr\n",
      "description mr\n",
      "\n",
      "title Great experience, plane needs some refurbishing though.\n",
      "description Great experience, plane needs some refurbishing though.\n",
      "\n",
      "title One of the worst customer service\n",
      "description One of the worst customer service\n",
      "\n",
      "title Terrible Booking Process and Waste of Time\n",
      "description Terrible Booking Process and Waste of Time\n",
      "\n",
      "title AirAsia is a FRAUD\n",
      "description AirAsia is a FRAUD\n",
      "\n",
      "title Air Asia (& Hutchgo Wholeseller)  is Organised Crime, Taking Advantage of Medical Emergency\n",
      "description Air Asia (& Hutchgo Wholeseller)  is Organised Crime, Taking Advantage of Medical Emergency\n",
      "\n",
      "title Horrendous app navigation that leads to 0 checked in baggage\n",
      "description Horrendous app navigation that leads to 0 checked in baggage\n",
      "\n",
      "title They dont refund and their app or website keep breakdown, cant even book flight under airasia.\n",
      "description They dont refund and their app or website keep breakdown, cant even book flight under airasia.\n",
      "\n",
      "title Booking nightmare\n",
      "description Booking nightmare\n",
      "\n",
      "title Damaged luggage, dirty broken chair, broken armrest, unhelpful ground and air staff\n",
      "description Damaged luggage, dirty broken chair, broken armrest, unhelpful ground and air staff\n",
      "\n",
      "title They wont refund\n",
      "description They wont refund\n",
      "\n",
      "title Worse customer service ever and do not refund after canceling a flight.\n",
      "description Worse customer service ever and do not refund after canceling a flight.\n",
      "\n",
      "title Worst airline ever\n",
      "description Worst airline ever\n",
      "\n",
      "title Only fly with AirAsia if you have no alternative\n",
      "description Only fly with AirAsia if you have no alternative\n",
      "\n",
      "title I got my money back. SG residents, contact CASE, it refunded my money without a Single-Word.\n",
      "description I got my money back. SG residents, contact CASE, it refunded my money without a Single-Word.\n",
      "\n",
      "title Scammers who reschedule and refuse refunds\n",
      "description Scammers who reschedule and refuse refunds\n",
      "\n",
      "title Bad experience in Air asia\n",
      "description Bad experience in Air asia\n",
      "\n",
      "title Must be the worst airline\n",
      "description Must be the worst airline\n",
      "\n",
      "title Scam artists!\n",
      "description Scam artists!\n",
      "\n",
      "25\n"
     ]
    }
   ],
   "source": [
    "import time\n",
    "from selenium import webdriver\n",
    "from bs4 import BeautifulSoup\n",
    "import time\n",
    "import pandas as pd\n",
    "from datetime import datetime\n",
    "driver.get(\"https://www.tripadvisor.com/Airline_Review-d8729220-Reviews-AirAsia-AirAsia-Berhad-Malaysia\")\n",
    "data = []\n",
    "ammountLooped = 0\n",
    "while ammountLooped <=4:\n",
    "    tit=\"\"\n",
    "    desc=\"\"\n",
    "    time.sleep(5)\n",
    "    soup = BeautifulSoup(driver.page_source, \"html.parser\")\n",
    "    for card in soup.find_all('div',attrs={'class': 'WAllg _T'}):\n",
    "        for title in card.find_all('div',attrs={'class':'KgQgP MC _S b S6 H5 _a'}):\n",
    "#             print(f\"title {title.text.rstrip()}\")\n",
    "            tit=f\"title {title.text.rstrip()}\"\n",
    "        for description in card.find_all('a',attrs={'class':'Qwuub'}):\n",
    "#             print(f\"description {description.text.rstrip()}\")\n",
    "            desc =f\"description {description.text.rstrip()}\"\n",
    "        data.append([tit,desc])\n",
    "    button = driver.find_element_by_class_name('ui_button.nav.next.primary')\n",
    "    button.click()\n",
    "    time.sleep(5)\n",
    "    ammountLooped+=1\n",
    "for item in data:\n",
    "    print(item[0])\n",
    "    print(item[1])\n",
    "    print()\n",
    "print(len(data))"
   ]
  },
  {
   "cell_type": "markdown",
   "metadata": {},
   "source": [
    "Reference: https://medium.com/ymedialabs-innovation/web-scraping-using-beautiful-soup-and-selenium-for-dynamic-page-2f8ad15efe25\n"
   ]
  }
 ],
 "metadata": {
  "kernelspec": {
   "display_name": "Python 3 (ipykernel)",
   "language": "python",
   "name": "python3"
  },
  "language_info": {
   "codemirror_mode": {
    "name": "ipython",
    "version": 3
   },
   "file_extension": ".py",
   "mimetype": "text/x-python",
   "name": "python",
   "nbconvert_exporter": "python",
   "pygments_lexer": "ipython3",
   "version": "3.9.16"
  }
 },
 "nbformat": 4,
 "nbformat_minor": 4
}
