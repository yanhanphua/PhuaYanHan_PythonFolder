{
 "cells": [
  {
   "cell_type": "markdown",
   "metadata": {},
   "source": [
    "<img src=\"https://i.imgur.com/FoKB5Z5.png\" align=\"left\" width=\"300\" height=\"250\" title=\"source: imgur.com\" /></a>"
   ]
  },
  {
   "cell_type": "markdown",
   "metadata": {},
   "source": [
    "## Program Code: J620-002-4:2020 \n",
    "\n",
    "## Program Name: FRONT-END SOFTWARE DEVELOPMENT\n",
    "\n",
    "## Title : Data Structures II (Dictionary)\n",
    "\n",
    "#### Name: \n",
    "\n",
    "#### IC Number:\n",
    "\n",
    "#### Date :\n",
    "\n",
    "#### Introduction : \n",
    "\n",
    "\n",
    "\n",
    "#### Conclusion :\n",
    "\n",
    "\n",
    "\n",
    "\n"
   ]
  },
  {
   "cell_type": "markdown",
   "metadata": {},
   "source": [
    "# Module P04: Data Structures II (Dictionary)\n",
    "\n",
    "* [Intuition: Hash Tables](#Intuition:-Hash-Tables)\n",
    "* [Dictionary](#Dictionary)"
   ]
  },
  {
   "cell_type": "code",
   "execution_count": 5,
   "metadata": {},
   "outputs": [],
   "source": [
    "def find(num, li):\n",
    "    for val in li:\n",
    "        if num == val:\n",
    "            return True\n",
    "    return False"
   ]
  },
  {
   "cell_type": "code",
   "execution_count": 8,
   "metadata": {},
   "outputs": [
    {
     "name": "stdout",
     "output_type": "stream",
     "text": [
      "531 ms ± 5.29 ms per loop (mean ± std. dev. of 7 runs, 1 loop each)\n"
     ]
    }
   ],
   "source": [
    "%timeit find('ab', list(range(10000000)))"
   ]
  },
  {
   "cell_type": "markdown",
   "metadata": {},
   "source": [
    "### Intuition: Hash Tables\n",
    "\n",
    "The reason `find(element, li)` was slow is that we were doing this for loop by going through all the elements in order, and we're checking if they match the keyword.  To determine that a keyword not in the list is not there, we had to go through the whole index.\n",
    "\n",
    "That's slow.  What might be a better way to go through a list?\n",
    "\n",
    "You can sort it - it'll be like an index? But that takes time and effort too and isn't necessary!\n",
    "\n",
    "What we want is something that will allow us, given a keyword, to have some\n",
    "function that tells us where it belongs. That's called a hash function.\n",
    "\n",
    "The **Hash function** tells us where in the entry to look. Instead of looking through the whole index, you can just look at where it belongs.\n",
    "\n",
    "One easy way is using the first letter of a word. But there are problems with this:\n",
    "* It works best if you have roughly equal buckets of words.\n",
    "* If you have a million keywords, it only makes things 26 times faster at best\n",
    "\n",
    "Let's use some function on the whole 'key' or 'keyword' that will be able to tell us where it belongs. \n",
    "\n",
    "A hash function is a function that takes in a keyword, produces a number.  It outputs the position in the hash table which is the bucket where that keyword would appear. If we assume that there are b buckets, k keywords, which properties should a hash function have?\n",
    "\n",
    "* Output a unique number between 0 and k-1\n",
    "* Output a number between 0 and b-1\n",
    "* Map approximately k/b keywords to bucket 0\n",
    "* Map approximately k/b keywords to bucker b-1\n",
    "* Map more keywords to bucket 0 than to bucket 1"
   ]
  },
  {
   "cell_type": "markdown",
   "metadata": {},
   "source": [
    "## Dictionary\n",
    "\n",
    "Fortunately, Python has a built in hash table structure.\n",
    "\n",
    "Python's efficient key/value hash table structure is called a \"dict\".\n",
    "\n",
    "A dictionary is similar to a list, but you access values by looking up a key instead of an index. A key can be any string or number.\n",
    "\n",
    "The contents of a dict can be written as a series of key:value pairs within braces { }, e.g. dict = {key1:value1, key2:value2, ... }.\n",
    "\n",
    "The \"empty dict\" is just an empty pair of curly braces {}.\n",
    "\n",
    "Looking up or setting a value in a dict uses square brackets, e.g. dict['foo'] looks up the value under the key 'foo'. Strings, numbers, and tuples work as keys, and any type can be a value. Other types may or may not work correctly as keys.\n",
    "\n",
    "Dictionaries are mutable!"
   ]
  },
  {
   "cell_type": "code",
   "execution_count": 5,
   "metadata": {},
   "outputs": [],
   "source": [
    "# create an empty dictionary\n",
    "newDict ={}"
   ]
  },
  {
   "cell_type": "code",
   "execution_count": 9,
   "metadata": {},
   "outputs": [
    {
     "name": "stdout",
     "output_type": "stream",
     "text": [
      "{'a': 'gold', 'b': 'silver', 'c': 'bronze', 'd': 'platinum'}\n"
     ]
    }
   ],
   "source": [
    "myDict = {}\n",
    "\n",
    "# key-value pairs: e.g. 'a' (key), 'gold' (value)\n",
    "myDict['a'] = 'gold'\n",
    "myDict['b'] = 'silver'\n",
    "myDict['c'] = 'bronze'\n",
    "myDict['d'] = 'platinum'\n",
    "\n",
    "print(myDict)"
   ]
  },
  {
   "cell_type": "code",
   "execution_count": 10,
   "metadata": {},
   "outputs": [
    {
     "name": "stdout",
     "output_type": "stream",
     "text": [
      "('a', 'gold')\n",
      "('b', 'silver')\n",
      "('c', 'bronze')\n",
      "('d', 'platinum')\n"
     ]
    }
   ],
   "source": [
    "# looping through all entries in the dictionary. easy!\n",
    "for v in myDict.items():\n",
    "    print(v)"
   ]
  },
  {
   "cell_type": "code",
   "execution_count": 10,
   "metadata": {},
   "outputs": [
    {
     "name": "stdout",
     "output_type": "stream",
     "text": [
      "{'a': 'gold', 'b': 'silver', 'c': 'bronze', 'd': 'platinum'}\n",
      "silver\n",
      "True\n",
      "False\n"
     ]
    }
   ],
   "source": [
    "myDict = {}\n",
    "\n",
    "myDict['a'] = 'gold'\n",
    "myDict['b'] = 'silver'\n",
    "myDict['c'] = 'bronze'\n",
    "myDict['d'] = 'platinum'\n",
    "\n",
    "print(myDict)\n",
    "print((myDict['b']))\n",
    "\n",
    "# checking if a value exists in a dictionary involves searching thru the keys, not values\n",
    "print(('a' in myDict))\n",
    "print(('gold' in myDict))"
   ]
  },
  {
   "cell_type": "code",
   "execution_count": 16,
   "metadata": {},
   "outputs": [
    {
     "name": "stdout",
     "output_type": "stream",
     "text": [
      "dict_values(['gold', 'silver', 'bronze', 'platinum'])\n",
      "['a', 'b', 'c', 'd']\n",
      "<class 'list'>\n",
      "('\\nitems:', [('a', 'gold'), ('b', 'silver'), ('c', 'bronze'), ('d', 'platinum')], '\\n')\n",
      "('a', 'gold')\n",
      "('b', 'silver')\n",
      "('c', 'bronze')\n",
      "('d', 'platinum')\n"
     ]
    }
   ],
   "source": [
    "# to list all keys\n",
    "s = list(myDict.keys())\n",
    "\n",
    "# to list all values\n",
    "print(myDict.values())\n",
    "print(s)\n",
    "print((type(s)))\n",
    "\n",
    "# .items() returns a list of key-value tuples\n",
    "print(('\\nitems:', list(myDict.items()), '\\n')) \n",
    "\n",
    "# print key-value tuples using a loop\n",
    "for key in myDict: \n",
    "    print((key, myDict[key]))"
   ]
  },
  {
   "cell_type": "code",
   "execution_count": 10,
   "metadata": {
    "scrolled": true
   },
   "outputs": [
    {
     "name": "stdout",
     "output_type": "stream",
     "text": [
      "dict_keys(['Puffin', 'Burmese Python'])\n",
      "105\n",
      "2\n"
     ]
    }
   ],
   "source": [
    "# Assigning a dictionary with three key-value pairs, two entries have the same key...\n",
    "residents = {'Puffin' : 104, 'Puffin' : 105, 'Burmese Python' : 106}\n",
    "\n",
    "print(residents.keys())\n",
    "print(residents['Puffin'])      # what's the value?\n",
    "print(len(residents))           # how many entries?"
   ]
  },
  {
   "cell_type": "code",
   "execution_count": 11,
   "metadata": {},
   "outputs": [
    {
     "name": "stdout",
     "output_type": "stream",
     "text": [
      "key, value pairs using keys\n",
      "('a', 'gold')\n",
      "('b', 'silver')\n",
      "('c', 'bronze')\n",
      "('d', 'platinum')\n",
      "\n",
      "key, value pairs using items()\n",
      "('a', 'gold')\n",
      "('b', 'silver')\n",
      "('c', 'bronze')\n",
      "('d', 'platinum')\n",
      "\n"
     ]
    }
   ],
   "source": [
    "print('key, value pairs using keys')\n",
    "\n",
    "for i in myDict.keys():\n",
    "    print((i, myDict[i]))    # myDict[i] <- isn't this how we access values in dictionary?\n",
    "    \n",
    "print('\\nkey, value pairs using items()')\n",
    "\n",
    "# a list of tuples can be assigned respectively to two loop iterators k and v \n",
    "for k, v in list(myDict.items()):\n",
    "    print((k, v))\n",
    "    \n",
    "print()"
   ]
  },
  {
   "cell_type": "code",
   "execution_count": 12,
   "metadata": {},
   "outputs": [],
   "source": [
    "# if we want to do an update on the prev dictionary based on the new dictionary.....\n",
    "another_d = {'e':'looser', 'a':'SUPER_GOLD'}\n",
    "myDict.update(another_d)"
   ]
  },
  {
   "cell_type": "code",
   "execution_count": 13,
   "metadata": {},
   "outputs": [
    {
     "name": "stdout",
     "output_type": "stream",
     "text": [
      "{'e': 'looser', 'a': 'SUPER_GOLD'}\n"
     ]
    },
    {
     "data": {
      "text/plain": [
       "{'a': 'SUPER_GOLD',\n",
       " 'b': 'silver',\n",
       " 'c': 'bronze',\n",
       " 'd': 'platinum',\n",
       " 'e': 'looser'}"
      ]
     },
     "execution_count": 13,
     "metadata": {},
     "output_type": "execute_result"
    }
   ],
   "source": [
    "print(another_d)\n",
    "myDict"
   ]
  },
  {
   "cell_type": "markdown",
   "metadata": {},
   "source": [
    "**Quick Exercise 1** Construct a new dictionary consisting of the following data and then proceed to update their allowances by giving an increment of 8%. Add some code to print the contents of the dictionary just to be sure it is correct \n",
    "\n",
    "*(Expected answer - Debbie 972.00, Ishak 918.00, Rajah 1242.00, Siti 999.00)*\n",
    "\n",
    "|   |   |\n",
    "|---|:-:|\n",
    "|Debbie |900|  \n",
    "|Ishak |850|  \n",
    "|Rajah|1150|\n",
    "|Siti|925|\n"
   ]
  },
  {
   "cell_type": "code",
   "execution_count": 23,
   "metadata": {},
   "outputs": [
    {
     "name": "stdout",
     "output_type": "stream",
     "text": [
      "{'debbie': 972.0, 'ishak': 918.0, 'rajah': 1242.0, 'siti': 999.0}\n"
     ]
    }
   ],
   "source": [
    "# write your code here\n",
    "allowance = {\"debbie\":900,\"ishak\":850,\"rajah\":1150,\"siti\":925}\n",
    "    \n",
    "for x,y in list(allowance.items()):\n",
    "    allowance.update({x:round(y*1.08,2)})\n",
    "print(allowance)"
   ]
  },
  {
   "cell_type": "markdown",
   "metadata": {},
   "source": [
    "**Quick Exercise 2** Write the allowance updating again using **dictionary comprehension**, which is basically done in a single line. \n",
    "\n",
    "Note: Dictionary comprehension is similar to list comprehension, except for 2 big differences: We replace the list's square brackets with dict's curly braces, and the key and value pairs should be operated on together, separated by a colon.  "
   ]
  },
  {
   "cell_type": "code",
   "execution_count": 67,
   "metadata": {},
   "outputs": [
    {
     "name": "stdout",
     "output_type": "stream",
     "text": [
      "{'debbie': 972.0000000000001, 'ishak': 918.0000000000001, 'rajah': 1242.0, 'siti': 999.0000000000001}\n"
     ]
    }
   ],
   "source": [
    "# Write your code here\n",
    "allowance = {\"debbie\":900,\"ishak\":850,\"rajah\":1150,\"siti\":925}\n",
    "# allowance=map(lambda x,y:allowance.update({x:round(y*1.08,2)}),allowance)\n",
    "b = {x:y*1.08 for x,y in allowance.items()}\n",
    "print(b)"
   ]
  },
  {
   "cell_type": "markdown",
   "metadata": {
    "collapsed": true
   },
   "source": [
    "### Dictionary Methods\n",
    "\n",
    "Here's a whole bunch of dictionary methods that could be useful to you!\n",
    "\n",
    "- len(dict) -- Gives the total length of the dictionary. This would be equal to the number of items in the dictionary.\n",
    "- str(dict) -- Produces a printable string representation of a dictionary\n",
    "- type(variable) -- Returns the type of the passed variable. If passed variable is dictionary, then it would return a dictionary type.\n",
    "- dict.clear() -- Removes all elements of dictionary dict\n",
    "- dict.copy() -- Returns a shallow copy of dictionary dict\n",
    "- dict.fromkeys() -- Create a new dictionary with keys from seq and values set to value.\n",
    "- dict.get(key, default=None) -- For key key, returns value or default if key not in dictionary\n",
    "- dict.items() -- Returns a iterator of dict's (key, value) tuple pairs\n",
    "- dict.keys() -- Returns iterator of dictionary dict's keys\n",
    "- dict.setdefault(key, default=None) -- Similar to get(), but will set dict[key]=default if key is not already in dict\n",
    "- dict.update(dict2) -- Adds dictionary dict2's key-values pairs to dict\n",
    "- dict.values() -- Returns list of dictionary dict's values\n",
    "\n",
    "What about sorting? Can we sort values or keys in a dictionary? "
   ]
  },
  {
   "cell_type": "code",
   "execution_count": 12,
   "metadata": {},
   "outputs": [
    {
     "name": "stdout",
     "output_type": "stream",
     "text": [
      "bronze\n",
      "gold\n",
      "platinum\n",
      "silver\n",
      "\n",
      "('a', 'gold')\n",
      "('b', 'silver')\n",
      "('c', 'bronze')\n",
      "('d', 'platinum')\n"
     ]
    }
   ],
   "source": [
    "for v in sorted(myDict.values()):   # sorted. what does it do?\n",
    "    print(v)\n",
    "    \n",
    "print()\n",
    "\n",
    "for key in sorted(myDict.keys()):\n",
    "    print((key, myDict[key]))"
   ]
  },
  {
   "cell_type": "markdown",
   "metadata": {},
   "source": [
    "In Python, we can import packages when coding to give us additional functionalities. For instance, the `time` and `datetime` packages can give us the current time reading:"
   ]
  },
  {
   "cell_type": "code",
   "execution_count": 59,
   "metadata": {},
   "outputs": [
    {
     "data": {
      "text/plain": [
       "1687242108.981063"
      ]
     },
     "execution_count": 59,
     "metadata": {},
     "output_type": "execute_result"
    }
   ],
   "source": [
    "import time\n",
    "time.time()     # what does this number represent?"
   ]
  },
  {
   "cell_type": "code",
   "execution_count": 60,
   "metadata": {},
   "outputs": [
    {
     "data": {
      "text/plain": [
       "datetime.datetime(2023, 6, 20, 14, 21, 49, 813451)"
      ]
     },
     "execution_count": 60,
     "metadata": {},
     "output_type": "execute_result"
    }
   ],
   "source": [
    "import datetime\n",
    "datetime.datetime.now()     # this looks more familiar :)"
   ]
  },
  {
   "cell_type": "markdown",
   "metadata": {},
   "source": [
    "Let's do a bit of speed benchmarking here, comparing the performance of a BIG list and dictionary. We first create 30 million integers and put them into both:"
   ]
  },
  {
   "cell_type": "code",
   "execution_count": 61,
   "metadata": {},
   "outputs": [],
   "source": [
    "biglist = []\n",
    "bigdict = {}\n",
    "for j in range(30000000):\n",
    "    biglist.append(j)     # recall: this is how you add to a list\n",
    "    bigdict[j]=j          # this is how you add to a dictionary"
   ]
  },
  {
   "cell_type": "markdown",
   "metadata": {},
   "source": [
    "Let's go by the worst-case scenario, and search for the \"last\" number in the data structure. \"Last\" here meaning, we assume it's going to be something we expect the data structure to find at the \"end\" of the container. To benchmark this, note down the start and end times and find the duration. "
   ]
  },
  {
   "cell_type": "code",
   "execution_count": 64,
   "metadata": {},
   "outputs": [
    {
     "name": "stdout",
     "output_type": "stream",
     "text": [
      "('Time for LIST lookup: ', 0.28568410873413086)\n",
      "('Time for DICT lookup: ', 0.0)\n"
     ]
    }
   ],
   "source": [
    "t1 = time.time()\n",
    "list_tf = 29999999 in biglist\n",
    "t2 = time.time()\n",
    "dict_tf = 29999999 in bigdict\n",
    "t3 = time.time()\n",
    "\n",
    "print((\"Time for LIST lookup: \", t2-t1))     # in most decent machines, this would be ~0.4-0.5 seconds\n",
    "print((\"Time for DICT lookup: \", t3-t2))"
   ]
  },
  {
   "cell_type": "code",
   "execution_count": 84,
   "metadata": {},
   "outputs": [
    {
     "ename": "ZeroDivisionError",
     "evalue": "float division by zero",
     "output_type": "error",
     "traceback": [
      "\u001b[1;31m---------------------------------------------------------------------------\u001b[0m",
      "\u001b[1;31mZeroDivisionError\u001b[0m                         Traceback (most recent call last)",
      "Cell \u001b[1;32mIn[84], line 1\u001b[0m\n\u001b[1;32m----> 1\u001b[0m \u001b[43m(\u001b[49m\u001b[43mt2\u001b[49m\u001b[38;5;241;43m-\u001b[39;49m\u001b[43mt1\u001b[49m\u001b[43m)\u001b[49m\u001b[38;5;241;43m/\u001b[39;49m\u001b[43m(\u001b[49m\u001b[43mt3\u001b[49m\u001b[38;5;241;43m-\u001b[39;49m\u001b[43mt2\u001b[49m\u001b[43m)\u001b[49m\n",
      "\u001b[1;31mZeroDivisionError\u001b[0m: float division by zero"
     ]
    }
   ],
   "source": [
    "(t2-t1)/(t3-t2)       # ugh.... "
   ]
  },
  {
   "cell_type": "markdown",
   "metadata": {},
   "source": [
    "Did you get a speed-up of ~2000 times ?\n",
    "\n",
    "Another example below:"
   ]
  },
  {
   "cell_type": "markdown",
   "metadata": {},
   "source": [
    "Due to the problem above, we can't possibly find out how many times are dictionaries faster than lists....\n",
    "\n",
    "So let's use the Jupyter magic function `%timeit` which runs an operation in N number of loops for T number of times, then takes the best of the T rounds. It reports back how much time was consumed per loop."
   ]
  },
  {
   "cell_type": "code",
   "execution_count": 85,
   "metadata": {},
   "outputs": [
    {
     "name": "stdout",
     "output_type": "stream",
     "text": [
      "67 ns ± 0.478 ns per loop (mean ± std. dev. of 7 runs, 10,000,000 loops each)\n"
     ]
    }
   ],
   "source": [
    "%timeit 9999999 in bigdict"
   ]
  },
  {
   "cell_type": "code",
   "execution_count": 86,
   "metadata": {},
   "outputs": [
    {
     "name": "stdout",
     "output_type": "stream",
     "text": [
      "93.1 ms ± 1.93 ms per loop (mean ± std. dev. of 7 runs, 10 loops each)\n"
     ]
    }
   ],
   "source": [
    "%timeit 9999999 in biglist"
   ]
  },
  {
   "cell_type": "code",
   "execution_count": 87,
   "metadata": {},
   "outputs": [
    {
     "name": "stdout",
     "output_type": "stream",
     "text": [
      "2040.8163265306118\n"
     ]
    }
   ],
   "source": [
    "# do a bit of calculation here to determine how many times faster are dictionaries...\n",
    "# replace the values accordingly\n",
    "dict_faster_than_list = (130*10**-6) / (63.7*10**-9)\n",
    "print(dict_faster_than_list)"
   ]
  },
  {
   "cell_type": "code",
   "execution_count": null,
   "metadata": {},
   "outputs": [],
   "source": [
    "emails = {'bob': 'bob@example.com', \n",
    "          'Jane': 'jane@example.com', \n",
    "          'Stou': 'stou@example.net'}\n",
    "\n",
    "newdict = {}\n",
    "for name, email in emails.items():\n",
    "    if '.com' in email:\n",
    "        newdict[name]=email"
   ]
  },
  {
   "cell_type": "code",
   "execution_count": 24,
   "metadata": {},
   "outputs": [
    {
     "data": {
      "text/plain": [
       "{'bob': 'bob@example.com', 'Jane': 'jane@example.com'}"
      ]
     },
     "execution_count": 24,
     "metadata": {},
     "output_type": "execute_result"
    }
   ],
   "source": [
    "# new dictionary contains only those with emails ending with .com\n",
    "newdict"
   ]
  },
  {
   "cell_type": "code",
   "execution_count": 25,
   "metadata": {},
   "outputs": [],
   "source": [
    "# dict comprehension to check if the email contains .com domain\n",
    "email_at_dotcom = {name :'.com' in email for name, email in emails.items()}"
   ]
  },
  {
   "cell_type": "code",
   "execution_count": 26,
   "metadata": {},
   "outputs": [
    {
     "data": {
      "text/plain": [
       "{'bob': True, 'Jane': True, 'Stou': False}"
      ]
     },
     "execution_count": 26,
     "metadata": {},
     "output_type": "execute_result"
    }
   ],
   "source": [
    "email_at_dotcom"
   ]
  },
  {
   "cell_type": "code",
   "execution_count": 27,
   "metadata": {},
   "outputs": [
    {
     "name": "stdout",
     "output_type": "stream",
     "text": [
      "3\n",
      "{'bob': 'bob@example.com', 'Jane': 'jane@example.com', 'Stou': 'stou@example.net'}\n",
      "<class 'dict'>\n",
      "NEW_EMAILS {'bob': 'bob@example.com', 'Jane': 'jane@example.com', 'Stou': 'stou@example.net'}\n",
      "{}\n"
     ]
    }
   ],
   "source": [
    "print(len(emails))    # length of dictionary\n",
    "print(str(emails))    # conversion of dict to string... \n",
    "print(type(emails))   \n",
    "\n",
    "# making a copy of a dictionary\n",
    "new_emails = emails.copy()\n",
    "print(\"NEW_EMAILS\", new_emails)\n",
    "\n",
    "# clear the contents of the dictionary\n",
    "new_emails.clear()\n",
    "print(new_emails)"
   ]
  },
  {
   "cell_type": "markdown",
   "metadata": {},
   "source": [
    "Some other interesting functionalities:"
   ]
  },
  {
   "cell_type": "code",
   "execution_count": 28,
   "metadata": {},
   "outputs": [
    {
     "name": "stdout",
     "output_type": "stream",
     "text": [
      "<class 'tuple'>\n",
      "{'Jane': 'info@example.com', 'Julie': 'info@example.com'}\n",
      "bob@example.com\n",
      "None\n"
     ]
    }
   ],
   "source": [
    "new_emails = {'jane': 'jane@example.com', \n",
    "              'Julie': 'julie@example.com', \n",
    "              'Stam': 'stam@example.net'}\n",
    "seq = ('Jane', 'Julie')\n",
    "print((type(seq)))\n",
    "\n",
    "# create a new dictionary using keys specified in a container, fixed to a value\n",
    "other = new_emails.fromkeys(seq, 'info@example.com')\n",
    "print(other)\n",
    "\n",
    "# get: retrieve the value given a key\n",
    "print((emails.get('bob')))\n",
    "print((emails.get('Micheal')))"
   ]
  },
  {
   "cell_type": "markdown",
   "metadata": {},
   "source": [
    "**TASK** Compute the price of this cart. By default everything cost RM 1, except when prices are written"
   ]
  },
  {
   "cell_type": "code",
   "execution_count": 90,
   "metadata": {},
   "outputs": [],
   "source": [
    "# By default everything is RM 1\n",
    "\n",
    "cart = {'apple':12, \n",
    "       'banana': 1,\n",
    "       'orange': 2,\n",
    "       'pear':10}\n",
    "\n",
    "prices = {'mango':12,\n",
    "         'apple':2.5,\n",
    "         'orange':5.5,\n",
    "         'banana':None}\n",
    "\n",
    "# write your code from here on\n",
    "# TIP: Use the keys from 'cart' to access the price in 'prices'\n",
    "# HINT: put dict.get() method to good use\n",
    "total=0\n",
    "for x,y in cart.items():\n",
    "    if prices.get(x) != None:\n",
    "        total+=prices.get(x)*y\n",
    "    else:\n",
    "        total+=1*y\n",
    "\n"
   ]
  }
 ],
 "metadata": {
  "anaconda-cloud": {},
  "kernelspec": {
   "display_name": "Python 3 (ipykernel)",
   "language": "python",
   "name": "python3"
  },
  "language_info": {
   "codemirror_mode": {
    "name": "ipython",
    "version": 3
   },
   "file_extension": ".py",
   "mimetype": "text/x-python",
   "name": "python",
   "nbconvert_exporter": "python",
   "pygments_lexer": "ipython3",
   "version": "3.10.9"
  }
 },
 "nbformat": 4,
 "nbformat_minor": 1
}
