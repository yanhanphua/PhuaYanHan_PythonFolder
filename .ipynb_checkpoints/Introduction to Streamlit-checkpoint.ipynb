{
 "cells": [
  {
   "cell_type": "markdown",
   "id": "2b432a29-08f1-451b-9834-532d4fc44a31",
   "metadata": {},
   "source": [
    "![streamlit_logo](https://upload.wikimedia.org/wikipedia/commons/7/77/Streamlit-logo-primary-colormark-darktext.png)\n",
    "\n",
    "# What is Streamlit?\n",
    "Streamlit is an open-source Python library that allows you to build interactive, web-based applications for data science and machine learning. It is designed to be simple, fast, and flexible, enabling you to create beautiful applications without the need for web development skills."
   ]
  },
  {
   "cell_type": "code",
   "execution_count": 28,
   "id": "ebaa76f0",
   "metadata": {},
   "outputs": [],
   "source": [
    "# !pip install streamlit"
   ]
  },
  {
   "cell_type": "markdown",
   "id": "20d9ac3c-698e-4267-b4e3-2f60c6c588f7",
   "metadata": {},
   "source": [
    "# Installing Streamlit\n",
    "To install Streamlit, run the following command in your terminal or command prompt:\n",
    "```\n",
    "pip install streamlit\n",
    "```"
   ]
  },
  {
   "cell_type": "markdown",
   "id": "148b3797-9a3d-494d-85c6-e7ab2c946644",
   "metadata": {},
   "source": [
    "# Creating Your First Streamlit App\n",
    "1. Create a new Python file called `app.py` and add the following code:"
   ]
  },
  {
   "cell_type": "code",
   "execution_count": 29,
   "id": "dd1cb025-22d1-4a86-a61e-59cf61238422",
   "metadata": {
    "tags": []
   },
   "outputs": [
    {
     "name": "stdout",
     "output_type": "stream",
     "text": [
      "Overwriting app.py\n"
     ]
    }
   ],
   "source": [
    "%%writefile app.py\n",
    "import streamlit as st\n",
    "\n",
    "st.title(\"My First Streamlit App\")\n",
    "\n",
    "st.write(\"Hello, world!\")"
   ]
  },
  {
   "cell_type": "markdown",
   "id": "763435c2-31a5-44bf-9466-16688581377a",
   "metadata": {},
   "source": [
    "2. Run your Streamlit app by typing the following command in your terminal or command prompt:\n",
    "\n",
    "```\n",
    "streamlit run app.py\n",
    "```\n",
    "Note:  \n",
    "Press \"Allow access\" if you're prompted.\n",
    "![screenshot](img/screenshot.png)"
   ]
  },
  {
   "cell_type": "markdown",
   "id": "eb1c00cb-ca2c-4027-a533-09b538feab7a",
   "metadata": {},
   "source": [
    "Your default web browser should open automatically, displaying your app. If not, you can manually navigate to http://localhost:8501.\n"
   ]
  },
  {
   "cell_type": "markdown",
   "id": "4e38d23d-c836-4f7d-9f4e-9f80ad26e9ba",
   "metadata": {},
   "source": [
    "# Streamlit Basics\n",
    "\n",
    "## Displaying Text\n",
    "To display text in your Streamlit app, you can use the following functions:\n",
    "\n",
    "`st.title()`: Creates a large title text  \n",
    "`st.header()`: Creates a header text  \n",
    "`st.subheader()`: Creates a subheader text  \n",
    "`st.text()`: Displays plain text  \n",
    "`st.write()`: Writes a formatted text, also capable of rendering Markdown, LaTeX, tables, and more"
   ]
  },
  {
   "cell_type": "markdown",
   "id": "23607ce9-97d2-4c8f-9a46-d5708c6ac7df",
   "metadata": {},
   "source": [
    "## Displaying Data\n",
    "\n",
    "To display data in your Streamlit app. you can use the following functions:  \n",
    "\n",
    "`st.dataframe()`: Displays a DataFrame  \n",
    "`st.table()`: Displays a static table"
   ]
  },
  {
   "cell_type": "markdown",
   "id": "300dc574-c31c-4345-823f-255ef5a933e3",
   "metadata": {},
   "source": [
    "User Input\n",
    "To collect user input in your Streamlit app, you can use the following functions:\n",
    "\n",
    "`st.text_input()`: Creates a text input box  \n",
    "`st.number_input()`: Creates a number input box  \n",
    "`st.slider()`: Creates a slider for numerical values  \n",
    "`st.selectbox()`: Creates a dropdown menu  \n",
    "`st.multiselect()`: Creates a multi-select dropdown menu  \n",
    "`st.checkbox()`: Creates a checkbox  \n",
    "`st.radio()`: Creates a set of radio buttons  \n",
    "`st.button()`: Creates a button  \n",
    "`st.file_uploader()`: Creates a file uploader"
   ]
  },
  {
   "cell_type": "code",
   "execution_count": 30,
   "id": "a10fa76c-3d59-4ffb-a6e7-344cbdc9f433",
   "metadata": {
    "tags": []
   },
   "outputs": [
    {
     "name": "stdout",
     "output_type": "stream",
     "text": [
      "Overwriting app.py\n"
     ]
    }
   ],
   "source": [
    "%%writefile app.py\n",
    "# Import required libraries\n",
    "import streamlit as st\n",
    "import pandas as pd\n",
    "import numpy as np\n",
    "from sklearn import datasets\n",
    "from sklearn.neighbors import KNeighborsClassifier\n",
    "\n",
    "# Load Iris dataset\n",
    "iris = datasets.load_iris()\n",
    "X = iris.data\n",
    "y = iris.target\n",
    "\n",
    "# Define a function to classify the flowers using KNN\n",
    "def classify_iris(sl, sw, pl, pw):\n",
    "    knn = KNeighborsClassifier(n_neighbors=5)\n",
    "    knn.fit(X, y)\n",
    "    return iris.target_names[knn.predict([[sl, sw, pl, pw]])[0]]\n",
    "\n",
    "# Set up the Streamlit app\n",
    "st.title(\"Iris Flower Classification\")\n",
    "st.write(\"Enter the dimensions of an iris flower to classify its species.\")\n",
    "\n",
    "# Collect user input\n",
    "sepal_length = st.number_input(\"Sepal Length (cm)\", min_value=0.0, step=0.1)\n",
    "sepal_width = st.number_input(\"Sepal Width (cm)\", min_value=0.0, step=0.1)\n",
    "petal_length = st.number_input(\"Petal Length (cm)\", min_value=0.0, step=0.1)\n",
    "petal_width = st.number_input(\"Petal Width (cm)\", min_value=0.0, step=0.1)\n",
    "\n",
    "# Create a button to trigger classification\n",
    "classify_button = st.button(\"Classify\")\n",
    "\n",
    "# Perform classification and display the result\n",
    "if classify_button:\n",
    "    iris_species = classify_iris(sepal_length, sepal_width, petal_length, petal_width)\n",
    "    st.write(f\"The iris flower is of the {iris_species} species.\")"
   ]
  },
  {
   "cell_type": "markdown",
   "id": "6f7c275e-7ffc-49f4-ab84-29aa90dab2bc",
   "metadata": {},
   "source": [
    "# Displaying Images and Charts\n",
    "\n",
    "Streamlit also supports displaying images and various types of charts. Here are some functions you can use:\n",
    "\n",
    "`st.image()`: Displays an image  \n",
    "`st.line_chart()`: Creates a line chart  \n",
    "`st.bar_chart()`: Creates a bar chart  \n",
    "`st.area_chart()`: Creates an area chart  \n",
    "`st.pyplot()`: Displays a plot created with Matplotlib  \n",
    "`st.plotly_chart()`: Display an interactive Plotly chart"
   ]
  },
  {
   "cell_type": "markdown",
   "id": "c4984c25-7dee-4d70-ae04-fac05ef38440",
   "metadata": {},
   "source": [
    "***NOTE***: Stop the streamlit server in the terminal via Ctrl+C before running this cell!"
   ]
  },
  {
   "cell_type": "markdown",
   "id": "8511f03c-702c-44f1-8262-25c8496bccd1",
   "metadata": {},
   "source": [
    "In this updated Iris Flower Classification example, we will include an area chart to visualize the input flower's dimensions in comparison to the average dimensions of each Iris species."
   ]
  },
  {
   "cell_type": "code",
   "execution_count": 31,
   "id": "fd8f3923-add4-43d4-89e1-6a6f2221280c",
   "metadata": {
    "tags": []
   },
   "outputs": [
    {
     "name": "stdout",
     "output_type": "stream",
     "text": [
      "Overwriting app.py\n"
     ]
    }
   ],
   "source": [
    "%%writefile app.py\n",
    "# Import required libraries\n",
    "import streamlit as st\n",
    "import pandas as pd\n",
    "import numpy as np\n",
    "from sklearn import datasets\n",
    "from sklearn.neighbors import KNeighborsClassifier\n",
    "import matplotlib.pyplot as plt\n",
    "\n",
    "# Load Iris dataset\n",
    "iris = datasets.load_iris()\n",
    "X = iris.data\n",
    "y = iris.target\n",
    "\n",
    "# Calculate average dimensions for each species\n",
    "average_dimensions = pd.DataFrame(X, columns=iris.feature_names).groupby(y).mean()\n",
    "\n",
    "# Define a function to classify the flowers using KNN\n",
    "def classify_iris(sl, sw, pl, pw):\n",
    "    knn = KNeighborsClassifier(n_neighbors=5)\n",
    "    knn.fit(X, y)\n",
    "    return iris.target_names[knn.predict([[sl, sw, pl, pw]])[0]]\n",
    "\n",
    "# Set up the Streamlit app\n",
    "st.title(\"Iris Flower Classification\")\n",
    "st.write(\"Enter the dimensions of an iris flower to classify its species.\")\n",
    "\n",
    "# Collect user input\n",
    "sepal_length = st.number_input(\"Sepal Length (cm)\", min_value=0.0, step=0.1)\n",
    "sepal_width = st.number_input(\"Sepal Width (cm)\", min_value=0.0, step=0.1)\n",
    "petal_length = st.number_input(\"Petal Length (cm)\", min_value=0.0, step=0.1)\n",
    "petal_width = st.number_input(\"Petal Width (cm)\", min_value=0.0, step=0.1)\n",
    "\n",
    "# Create a button to trigger classification\n",
    "classify_button = st.button(\"Classify\")\n",
    "\n",
    "# Perform classification and display the result\n",
    "if classify_button:\n",
    "    iris_species = classify_iris(sepal_length, sepal_width, petal_length, petal_width)\n",
    "    st.write(f\"The iris flower is of the {iris_species} species.\")\n",
    "    \n",
    "    # Display area chart comparing input flower to average dimensions of each species\n",
    "    input_dimensions = pd.Series([sepal_length, sepal_width, petal_length, petal_width], index=iris.feature_names)\n",
    "    comparison_data = average_dimensions.copy()\n",
    "    comparison_data.loc['Input'] = input_dimensions\n",
    "    st.area_chart(comparison_data.T)\n",
    "    st.write(\"The above area chart compares the input flower's dimensions to the average dimensions of each Iris species.\")\n"
   ]
  },
  {
   "cell_type": "markdown",
   "id": "4cacea8b-e3d1-4aff-ba61-2b43065794ba",
   "metadata": {},
   "source": [
    "# Adding Interactivity with Widgets\n",
    "\n",
    "Streamlit widgets provide a powerful way to add interactivity to your applications. Here are some common use cases:\n",
    "\n",
    "- Control the number of data points displayed on a chart\n",
    "- Adjust model parameters in real-time\n",
    "- Filter a dataset based on user-selected criteria  \n",
    "\n",
    "Remember to use the `st.sidebar` function to place widgets in the sidebar, providing a cleaner layout for your application."
   ]
  },
  {
   "cell_type": "markdown",
   "id": "d9443097-30ec-499b-8c59-56a9a8f0c82b",
   "metadata": {},
   "source": [
    "***NOTE***: Stop the streamlit server in the terminal via Ctrl+C before running this cell!"
   ]
  },
  {
   "cell_type": "markdown",
   "id": "0781691c-dcf3-4c4d-9bd9-d6c2b4a189f3",
   "metadata": {},
   "source": [
    "In this updated Iris Flower Classification example, we will add interactivity using Streamlit widgets. We will allow users to select the number of neighbors for the KNN classifier and display the classification results in the sidebar."
   ]
  },
  {
   "cell_type": "code",
   "execution_count": 32,
   "id": "87486ba8-7a7a-41dc-8260-639639ea04d2",
   "metadata": {
    "tags": []
   },
   "outputs": [
    {
     "name": "stdout",
     "output_type": "stream",
     "text": [
      "Overwriting app.py\n"
     ]
    }
   ],
   "source": [
    "%%writefile app.py\n",
    "# Import required libraries\n",
    "import streamlit as st\n",
    "import pandas as pd\n",
    "import numpy as np\n",
    "from sklearn import datasets\n",
    "from sklearn.neighbors import KNeighborsClassifier\n",
    "\n",
    "# Load Iris dataset\n",
    "iris = datasets.load_iris()\n",
    "X = iris.data\n",
    "y = iris.target\n",
    "\n",
    "# Calculate average dimensions for each species\n",
    "average_dimensions = pd.DataFrame(X, columns=iris.feature_names).groupby(y).mean()\n",
    "\n",
    "# Define a function to classify the flowers using KNN\n",
    "def classify_iris(sl, sw, pl, pw, n_neighbors):\n",
    "    knn = KNeighborsClassifier(n_neighbors=n_neighbors)\n",
    "    knn.fit(X, y)\n",
    "    return iris.target_names[knn.predict([[sl, sw, pl, pw]])[0]]\n",
    "\n",
    "# Set up the Streamlit app\n",
    "st.title(\"Iris Flower Classification\")\n",
    "st.write(\"Enter the dimensions of an iris flower to classify its species.\")\n",
    "\n",
    "# Collect user input\n",
    "sepal_length = st.number_input(\"Sepal Length (cm)\", min_value=0.0, step=0.1)\n",
    "sepal_width = st.number_input(\"Sepal Width (cm)\", min_value=0.0, step=0.1)\n",
    "petal_length = st.number_input(\"Petal Length (cm)\", min_value=0.0, step=0.1)\n",
    "petal_width = st.number_input(\"Petal Width (cm)\", min_value=0.0, step=0.1)\n",
    "\n",
    "# Sidebar for additional settings\n",
    "st.sidebar.title(\"Settings\")\n",
    "n_neighbors = st.sidebar.slider(\"Number of Neighbors for KNN\", min_value=1, max_value=10, value=5)\n",
    "\n",
    "# Create a button to trigger classification\n",
    "classify_button = st.button(\"Classify\")\n",
    "\n",
    "# Perform classification and display the result\n",
    "if classify_button:\n",
    "    iris_species = classify_iris(sepal_length, sepal_width, petal_length, petal_width, n_neighbors)\n",
    "    \n",
    "    # Display classification result in the sidebar\n",
    "    st.sidebar.subheader(\"Classification Result\")\n",
    "    st.sidebar.write(f\"The iris flower is of the {iris_species} species.\")\n",
    "    \n",
    "    # Display area chart comparing input flower to average dimensions of each species\n",
    "    input_dimensions = pd.Series([sepal_length, sepal_width, petal_length, petal_width], index=iris.feature_names)\n",
    "    comparison_data = average_dimensions.copy()\n",
    "    comparison_data.loc['Input'] = input_dimensions\n",
    "    st.area_chart(comparison_data.T)\n",
    "    st.write(\"The above area chart compares the input flower's dimensions to the average dimensions of each Iris species.\")\n"
   ]
  },
  {
   "cell_type": "markdown",
   "id": "308819e6-56d3-421f-adf2-22e1c9d6a2b2",
   "metadata": {},
   "source": [
    "# Caching\n",
    "\n",
    "Streamlit provides a caching mechanism to improve the performance of your app, particularly when dealing with large datasets or computationally expensive operations. You can use the `cache` decorator to cache the results of a function. Check the [documentation](https://docs.streamlit.io/library/advanced-features/caching) for more details:  \n",
    "\n",
    "```\n",
    "@st.cache_resource\n",
    "def expensive_operation():\n",
    "    # Your expensive computation here\n",
    "    return result\n",
    "```\n",
    "When the function is called, Streamlit checks if it has already been executed with the same input parameters. If so, the cached result is returned instead of recomputing the function."
   ]
  },
  {
   "cell_type": "markdown",
   "id": "a8dc5231-d976-4386-a7b5-1c470e5852ae",
   "metadata": {},
   "source": [
    "***NOTE***: Stop the streamlit server in the terminal via Ctrl+C before running this cell!"
   ]
  },
  {
   "cell_type": "markdown",
   "id": "fc7182c7-81dd-48b5-b4d3-fcf61e003cb5",
   "metadata": {},
   "source": [
    "In this updated Iris Flower Classification example, we will use Streamlit's caching feature to optimize the performance of our app by caching the results of the KNN classifier."
   ]
  },
  {
   "cell_type": "code",
   "execution_count": 33,
   "id": "d3b0cf3a-f57b-45ce-bde1-28559ff3f4ee",
   "metadata": {
    "tags": []
   },
   "outputs": [
    {
     "name": "stdout",
     "output_type": "stream",
     "text": [
      "Overwriting app.py\n"
     ]
    }
   ],
   "source": [
    "%%writefile app.py\n",
    "# Import required libraries\n",
    "import streamlit as st\n",
    "import pandas as pd\n",
    "import numpy as np\n",
    "from sklearn import datasets\n",
    "from sklearn.neighbors import KNeighborsClassifier\n",
    "\n",
    "# Load Iris dataset\n",
    "iris = datasets.load_iris()\n",
    "X = iris.data\n",
    "y = iris.target\n",
    "\n",
    "# Calculate average dimensions for each species\n",
    "average_dimensions = pd.DataFrame(X, columns=iris.feature_names).groupby(y).mean()\n",
    "\n",
    "# Cache the classifier to optimize performance\n",
    "@st.cache_resource\n",
    "def create_classifier(n_neighbors):\n",
    "    knn = KNeighborsClassifier(n_neighbors=n_neighbors)\n",
    "    knn.fit(X, y)\n",
    "    return knn\n",
    "\n",
    "# Define a function to classify the flowers using KNN\n",
    "def classify_iris(sl, sw, pl, pw, knn):\n",
    "    return iris.target_names[knn.predict([[sl, sw, pl, pw]])[0]]\n",
    "\n",
    "# Set up the Streamlit app\n",
    "st.title(\"Iris Flower Classification\")\n",
    "st.write(\"Enter the dimensions of an iris flower to classify its species.\")\n",
    "\n",
    "# Collect user input\n",
    "sepal_length = st.number_input(\"Sepal Length (cm)\", min_value=0.0, step=0.1)\n",
    "sepal_width = st.number_input(\"Sepal Width (cm)\", min_value=0.0, step=0.1)\n",
    "petal_length = st.number_input(\"Petal Length (cm)\", min_value=0.0, step=0.1)\n",
    "petal_width = st.number_input(\"Petal Width (cm)\", min_value=0.0, step=0.1)\n",
    "\n",
    "# Sidebar for additional settings\n",
    "st.sidebar.title(\"Settings\")\n",
    "n_neighbors = st.sidebar.slider(\"Number of Neighbors for KNN\", min_value=1, max_value=10, value=5)\n",
    "\n",
    "# Create a button to trigger classification\n",
    "classify_button = st.button(\"Classify\")\n",
    "\n",
    "# Perform classification and display the result\n",
    "if classify_button:\n",
    "    knn_classifier = create_classifier(n_neighbors)\n",
    "    iris_species = classify_iris(sepal_length, sepal_width, petal_length, petal_width, knn_classifier)\n",
    "    \n",
    "    # Display classification result in the sidebar\n",
    "    st.sidebar.subheader(\"Classification Result\")\n",
    "    st.sidebar.write(f\"The iris flower is of the {iris_species} species.\")\n",
    "    \n",
    "    # Display area chart comparing input flower to average dimensions of each species\n",
    "    input_dimensions = pd.Series([sepal_length, sepal_width, petal_length, petal_width], index=iris.feature_names)\n",
    "    comparison_data = average_dimensions.copy()\n",
    "    comparison_data.loc['Input'] = input_dimensions\n",
    "    st.area_chart(comparison_data.T)\n",
    "    st.write(\"The above area chart compares the input flower's dimensions to the average dimensions of each Iris species.\")"
   ]
  },
  {
   "cell_type": "markdown",
   "id": "33ce32fa-16f4-4f78-96f8-5103407c4769",
   "metadata": {},
   "source": [
    "# Deploying Your Streamlit App\n",
    "\n",
    "Streamlit Sharing, Heroku, and other platforms can be used to deploy your Streamlit app, making it accessible to a wider audience. Follow the platform's documentation to learn how to deploy your app."
   ]
  },
  {
   "cell_type": "markdown",
   "id": "a5092f75-0c1f-49c5-9a28-4ced967bcb4d",
   "metadata": {},
   "source": [
    "# Exploring Streamlit Components\n",
    "\n",
    "Streamlit's built-in components are powerful, but sometimes you may need more specialized components. Streamlit Components allow you to create custom components or use community-built components. Visit the [Streamlit Components Gallery](https://streamlit.io/components) to explore available components.\n",
    "\n",
    "These lessons should provide a solid foundation for using Streamlit in your data science projects. Remember that Streamlit has an active community and extensive documentation, so don't hesitate to seek help when needed. You may also visit [Streamlit Gallery](https://streamlit.io/gallery) to look at what other users have created in Streamlit. Happy coding!"
   ]
  }
 ],
 "metadata": {
  "kernelspec": {
   "display_name": "Python 3 (ipykernel)",
   "language": "python",
   "name": "python3"
  },
  "language_info": {
   "codemirror_mode": {
    "name": "ipython",
    "version": 3
   },
   "file_extension": ".py",
   "mimetype": "text/x-python",
   "name": "python",
   "nbconvert_exporter": "python",
   "pygments_lexer": "ipython3",
   "version": "3.9.16"
  }
 },
 "nbformat": 4,
 "nbformat_minor": 5
}
