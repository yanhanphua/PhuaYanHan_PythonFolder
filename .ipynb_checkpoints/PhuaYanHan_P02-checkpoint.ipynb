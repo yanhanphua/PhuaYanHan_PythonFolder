{
 "cells": [
  {
   "cell_type": "markdown",
   "metadata": {},
   "source": [
    "<img src=\"https://i.imgur.com/FoKB5Z5.png\" align=\"left\" width=\"300\" height=\"250\" title=\"source: imgur.com\" /></a>"
   ]
  },
  {
   "cell_type": "markdown",
   "metadata": {},
   "source": [
    "## Program Code: J620-002-4:2020 \n",
    "\n",
    "## Program Name: FRONT-END SOFTWARE DEVELOPMENT\n",
    "\n",
    "## Title : Logic and Repetition\n",
    "\n",
    "#### Name: Phua Yan Han\n",
    "\n",
    "#### IC Number: 050824070059\n",
    "\n",
    "#### Date : 24/6/23\n",
    "\n",
    "#### Introduction : Logic and Repetition\n",
    "\n",
    "\n",
    "\n",
    "#### Conclusion :Learned python basic logic\n",
    "\n",
    "\n",
    "\n",
    "\n"
   ]
  },
  {
   "cell_type": "markdown",
   "metadata": {},
   "source": [
    "# Module P02: Logic and Repetition\n",
    "\n",
    "In this module, we'll first understand what procedures are and why you might want to use them.  \n",
    "Then you'll start to write some procedures. Next, we'll learn about Python logic, or how to make comparisons.  \n",
    "\n",
    "Finally, we'll go on to repetition, and how to repeat operations in Python using while and for loops.  \n",
    "\n",
    "* [Procedural Abstraction](#Procedural-Abstraction)\n",
    "* [Computer Logic](#Python-Logic)\n",
    "* [Repetition](#Repetition)\n"
   ]
  },
  {
   "cell_type": "markdown",
   "metadata": {},
   "source": [
    "# Procedural Abstraction\n",
    "\n",
    "What is a procedure? Why might you want to abstract it?"
   ]
  },
  {
   "cell_type": "markdown",
   "metadata": {},
   "source": [
    "We use procedures because we want to stop us from doing tedious work.  \n",
    "Anything we might want to do again and again we will want to 'abstract'."
   ]
  },
  {
   "cell_type": "markdown",
   "metadata": {},
   "source": [
    "## Functions\n",
    "\n",
    "A function is a block of organized, reusable code that is used to perform a single, related action.  For example, we can use the same procedure to multiply two numbers, whatever they are.  We then specify the numbers being multiplied as arguements of the function. Many functions return a value which you can then use; they can also print something out immediately\n",
    "\n",
    "#### Syntax:"
   ]
  },
  {
   "cell_type": "code",
   "execution_count": 1,
   "metadata": {},
   "outputs": [],
   "source": [
    "def functionname( parameters ):\n",
    "    \"functionname ... syntax: blabla\"\n",
    "    block_of_code\n",
    "    return [expression]"
   ]
  },
  {
   "cell_type": "markdown",
   "metadata": {},
   "source": [
    "Notice that you can add some help text after the function header line, so that you can print the help text by:"
   ]
  },
  {
   "cell_type": "code",
   "execution_count": 2,
   "metadata": {},
   "outputs": [
    {
     "name": "stdout",
     "output_type": "stream",
     "text": [
      "functionname ... syntax: blabla\n"
     ]
    }
   ],
   "source": [
    "print((functionname.__doc__))"
   ]
  },
  {
   "cell_type": "code",
   "execution_count": 12,
   "metadata": {},
   "outputs": [
    {
     "name": "stdout",
     "output_type": "stream",
     "text": [
      "234\n",
      "hellohellohello\n",
      "13\n"
     ]
    },
    {
     "data": {
      "text/plain": [
       "12"
      ]
     },
     "execution_count": 12,
     "metadata": {},
     "output_type": "execute_result"
    }
   ],
   "source": [
    "# void: does not return\n",
    "def myPrinter(text):\n",
    "    print(text)\n",
    "    \n",
    "myPrinter(234)\n",
    "\n",
    "# has return\n",
    "def multiplyer(i, j):\n",
    "    return i*j\n",
    "\n",
    "print(multiplyer('hello', 3))\n",
    "\n",
    "print(multiplyer(4, 3) + 1)\n",
    "\n",
    "multiplyer(3, 4) # return nothing\n"
   ]
  },
  {
   "cell_type": "code",
   "execution_count": 12,
   "metadata": {},
   "outputs": [
    {
     "name": "stdout",
     "output_type": "stream",
     "text": [
      "Name:  he\n",
      "Age  22\n",
      "Height  150\n",
      "Weight  65\n",
      "\n",
      "Name:  she\n",
      "Age  35\n",
      "Height  150\n",
      "Weight  60\n",
      "\n"
     ]
    }
   ],
   "source": [
    "def print_info( name, age = 35, height=150, weight=60 ):\n",
    "    \"This prints a passed info into this function\"\n",
    "    print(\"Name: \", name)\n",
    "    print(\"Age \", age)\n",
    "    print(\"Height \", height)\n",
    "    print(\"Weight \", weight)\n",
    "    print()\n",
    "\n",
    "print_info('he', 22, weight=65)\n",
    "\n",
    "print_info('she')\n"
   ]
  },
  {
   "cell_type": "markdown",
   "metadata": {},
   "source": [
    "**Quick Exercise 1** Let's revisit the Farenheit to Celsius conversion task. Write a function `'F2C'` that converts a Fahrenheit value to Celsius, and returns the value."
   ]
  },
  {
   "cell_type": "code",
   "execution_count": 17,
   "metadata": {},
   "outputs": [
    {
     "name": "stdout",
     "output_type": "stream",
     "text": [
      "-17.77777777777778\n",
      "\n"
     ]
    }
   ],
   "source": [
    "def f2c(F=0):\n",
    "    print((F-32)*5/9)\n",
    "    print()\n",
    "    \n",
    "f2c(0)"
   ]
  },
  {
   "cell_type": "markdown",
   "metadata": {},
   "source": [
    "# Logic\n",
    "Can a computer think? How does a computer think differently from how we do? We've seen how computers can represent abstract concepts.  One of those abstract concepts is logic.  We've developed programs that can use logic. \n",
    "\n",
    "A **boolean** expression is an expression that is either _true_ or _false_. The following examples use the operator ==, which compares two operands and produces True if they are equal and False otherwise.\n",
    "\n",
    "There are three logical operators: _and_, _or_, and _not_. The semantics (meaning) of these operators is similar to their meaning in English.\n",
    "\n",
    "\n",
    "#### String logic\n",
    "is\t-- object identity\t \n",
    "\n",
    "is not\t-- negated object identity\t\n",
    "\n",
    "x in s -- True if an item of s is equal to x, else False\n",
    "\n",
    "x not in s -- False if an item of s is equal to x, else True\n",
    "\n",
    "x or y -- if x is false, then y, else x\n",
    "\n",
    "x and y -- if x is false, then x, else y\n",
    "\n",
    "not x -- if x is false, then True, else False \n",
    "\n",
    "#### Arithmetic logic\n",
    "\\> -- Strictly larger than\n",
    "\n",
    "== -- Is the identity of\n",
    "\n",
    "\\>= -- Greater than or equal to \n",
    "\n",
    "\\!= -- Is not the identity of.\n"
   ]
  },
  {
   "cell_type": "code",
   "execution_count": 14,
   "metadata": {},
   "outputs": [
    {
     "name": "stdout",
     "output_type": "stream",
     "text": [
      "True\n",
      "False\n",
      "True\n",
      "False\n",
      "True\n",
      "False\n",
      "True\n",
      "False\n"
     ]
    },
    {
     "name": "stderr",
     "output_type": "stream",
     "text": [
      "<>:3: SyntaxWarning: \"is\" with a literal. Did you mean \"==\"?\n",
      "<>:3: SyntaxWarning: \"is\" with a literal. Did you mean \"==\"?\n",
      "<ipython-input-14-56adce85b2e3>:3: SyntaxWarning: \"is\" with a literal. Did you mean \"==\"?\n",
      "  print((2 is 2))\n"
     ]
    }
   ],
   "source": [
    "print((5 > 2))\n",
    "print((2 > 5))\n",
    "print((2 is 2))\n",
    "print((2 == 3)) \n",
    "print((5 > 2 or 2 > 1))\n",
    "print((5 > 2 and 2 > 2))\n",
    "print(('s' in 'datascience'))\n",
    "print(('x' in 'datascience'))"
   ]
  },
  {
   "cell_type": "code",
   "execution_count": 15,
   "metadata": {},
   "outputs": [
    {
     "ename": "SyntaxError",
     "evalue": "invalid syntax (<ipython-input-15-43fe0a13c0d0>, line 2)",
     "output_type": "error",
     "traceback": [
      "\u001b[1;36m  File \u001b[1;32m\"<ipython-input-15-43fe0a13c0d0>\"\u001b[1;36m, line \u001b[1;32m2\u001b[0m\n\u001b[1;33m    print((2 = 3))\u001b[0m\n\u001b[1;37m             ^\u001b[0m\n\u001b[1;31mSyntaxError\u001b[0m\u001b[1;31m:\u001b[0m invalid syntax\n"
     ]
    }
   ],
   "source": [
    "# Why is == equals, not = ? Test it out\n",
    "print((2 = 3)) "
   ]
  },
  {
   "cell_type": "markdown",
   "metadata": {},
   "source": [
    "### Conditional Execution\n",
    "\n",
    "Python does not use { } to enclose blocks of code for if/loops/function etc. like C. Instead, Python uses the colon (:) and indentation/whitespace to group statements. "
   ]
  },
  {
   "cell_type": "markdown",
   "metadata": {},
   "source": [
    "In order to write useful programs, we almost always need the ability to check conditions and change the behavior of the program accordingly. Conditional statements give us this ability. The simplest form is the if statement:\n",
    "\n",
    "```python\n",
    "if x > 0 :\n",
    "    print 'x is positive'\n",
    "```\n",
    "    \n",
    "The boolean expression after the if statement is called the condition. We end the if statement with a colon character (:) and the line(s) after the if statement are indented.\n",
    "\n",
    "![](http://www.pythonlearn.com/html-007/cfbook005.png)\n",
    "\n",
    "If the logical condition is true, then the indented statement gets executed. If the logical condition is false, the indented statement is skipped.\n",
    "\n",
    "### Alternative execution\n",
    "\n",
    "A second form of the if statement is alternative execution, in which there are two possibilities and the condition determines which one gets executed. The syntax looks like this:\n",
    "\n",
    "```python\n",
    "if x%2 == 0 :\n",
    "    print 'x is even'\n",
    "else :\n",
    "    print 'x is odd'\n",
    "```\n",
    "\n",
    "If the remainder when x is divided by 2 is 0, then we know that x is even, and the program displays a message to that effect. If the condition is false, the second set of statements is executed. \n",
    "\n",
    "![](http://www.pythonlearn.com/html-007/cfbook006.png)\n",
    "\n",
    "Since the condition must be true or false, exactly one of the alternatives will be executed. The alternatives are called branches, because they are branches in the flow of execution.\n",
    "\n",
    "### Chained conditionals\n",
    "\n",
    "Sometimes there are more than two possibilities and we need more than two branches. One way to express a computation like that is a chained conditional:\n",
    "\n",
    "```python\n",
    "if x < y:\n",
    "    print 'x is less than y'\n",
    "elif x > y:\n",
    "    print 'x is greater than y'\n",
    "else:\n",
    "    print 'x and y are equal'\n",
    "```\n",
    "\n",
    "elif is an abbreviation of \"else if\". Again, exactly one branch will be executed.\n",
    "\n",
    "![](http://www.pythonlearn.com/html-007/cfbook007.png)\n",
    "\n",
    "There is no limit on the number of elif statements. If there is an else clause, it has to be at the end, but there doesn't have to be one.\n"
   ]
  },
  {
   "cell_type": "code",
   "execution_count": 20,
   "metadata": {},
   "outputs": [
    {
     "name": "stdout",
     "output_type": "stream",
     "text": [
      "block of code 2\n"
     ]
    }
   ],
   "source": [
    "if False:\n",
    "    print(\"block of code 1\")\n",
    "elif True:\n",
    "    print(\"block of code 2\")\n",
    "else:\n",
    "    print(\"block of code 3\")"
   ]
  },
  {
   "cell_type": "code",
   "execution_count": 27,
   "metadata": {},
   "outputs": [
    {
     "name": "stdout",
     "output_type": "stream",
     "text": [
      "License and registration please\n",
      "You have the right to remain silent.\n"
     ]
    }
   ],
   "source": [
    "speed = 105\n",
    "mood = 'terrible'\n",
    "\n",
    "if speed >= 80:\n",
    "    print('License and registration please')\n",
    "    if mood == 'terrible' and speed >= 100:\n",
    "        print('You have the right to remain silent.')\n",
    "    elif mood == 'bad' or speed >= 90:\n",
    "        print(\"I'm going to have to write you a ticket.\")\n",
    "    else:\n",
    "        print(\"Let's try to keep it under 80 ok?\")"
   ]
  },
  {
   "cell_type": "code",
   "execution_count": 31,
   "metadata": {},
   "outputs": [
    {
     "name": "stdout",
     "output_type": "stream",
     "text": [
      "-1\n",
      "Not found!\n"
     ]
    }
   ],
   "source": [
    "#string = 'Hi there' # True example\n",
    "string = 'Good bye' # False example\n",
    "\n",
    "result = string.find('th')\n",
    "print(result)\n",
    "\n",
    "if result != -1:\n",
    "    print('Success!')\n",
    "else:\n",
    "    print('Not found!')"
   ]
  },
  {
   "cell_type": "code",
   "execution_count": 38,
   "metadata": {},
   "outputs": [
    {
     "name": "stdout",
     "output_type": "stream",
     "text": [
      "Yes\n"
     ]
    }
   ],
   "source": [
    "# Define starts_with_B('Boyce')\n",
    "\n",
    "def starts_with_B(name):\n",
    "    if name[0] == 'B' or name[0] == 'b':\n",
    "        print(\"Yes\")\n",
    "        \n",
    "# call the function\n",
    "starts_with_B('Boyce')"
   ]
  },
  {
   "cell_type": "code",
   "execution_count": 51,
   "metadata": {},
   "outputs": [
    {
     "data": {
      "text/plain": [
       "45"
      ]
     },
     "execution_count": 51,
     "metadata": {},
     "output_type": "execute_result"
    }
   ],
   "source": [
    "# Define bigger(a,b)\n",
    "def bigger(a, b):\n",
    "    if a > b:\n",
    "        return a\n",
    "    else:\n",
    "        return b\n",
    "    \n",
    "    # quick alternative\n",
    "    #return max(a, b)\n",
    "\n",
    "bigger(45, -64)"
   ]
  },
  {
   "cell_type": "markdown",
   "metadata": {},
   "source": [
    "**Quick Exercise 2** Nested if problem: Define a function `biggest(a,b,c)` which takes the largest of the three inputs and returns the largest one."
   ]
  },
  {
   "cell_type": "code",
   "execution_count": 20,
   "metadata": {},
   "outputs": [
    {
     "name": "stdout",
     "output_type": "stream",
     "text": [
      "3\n"
     ]
    }
   ],
   "source": [
    "# Write your code here\n",
    "def compare(a,b,c):\n",
    "    return max(a,b,c)\n",
    "compare(1,2,3)\n",
    "\n",
    "def compare2(a,b,c):\n",
    "    if a>b and a>c:\n",
    "        return a\n",
    "    elif b>a and b>c:\n",
    "        return b\n",
    "    else:\n",
    "        return c\n",
    "    \n",
    "print(compare2(1,2,3))"
   ]
  },
  {
   "cell_type": "markdown",
   "metadata": {},
   "source": [
    "## Repetition\n",
    "\n",
    "### While\n",
    "\n",
    "The while loop continues iterating until it's condition stops being true:"
   ]
  },
  {
   "cell_type": "code",
   "execution_count": 47,
   "metadata": {},
   "outputs": [
    {
     "name": "stdout",
     "output_type": "stream",
     "text": [
      "1\n",
      "2\n",
      "3\n",
      "4\n",
      "5\n",
      "6\n",
      "7\n",
      "8\n",
      "9\n",
      "10\n"
     ]
    }
   ],
   "source": [
    "i = 0\n",
    "while i < 10:\n",
    "    i = i + 1\n",
    "    print(i) \n"
   ]
  },
  {
   "cell_type": "code",
   "execution_count": null,
   "metadata": {},
   "outputs": [],
   "source": [
    "# What happens here? \n",
    "# Try guessing. Run at your own risk! :)\n",
    "#i = 0\n",
    "#while i != 11:\n",
    "#    i = i+2\n",
    "#    print i"
   ]
  },
  {
   "cell_type": "markdown",
   "metadata": {},
   "source": [
    "### For\n",
    "\n",
    "The for-loop iterates for all elements in a data structure (can be an array, list, dict, data structures that behave like iterators in general).\n",
    "\n",
    "If we do not have a so-called container of elements, we can create a list of numbers on the go, and have the for loop to cycle through it... (but of course this has not much use, normally we will have a container of data)"
   ]
  },
  {
   "cell_type": "code",
   "execution_count": 94,
   "metadata": {},
   "outputs": [
    {
     "name": "stdout",
     "output_type": "stream",
     "text": [
      "0\n",
      "1\n",
      "2\n",
      "3\n",
      "4\n",
      "5\n",
      "6\n",
      "7\n",
      "8\n",
      "9\n"
     ]
    }
   ],
   "source": [
    "for i in range(0, 10):\n",
    "    print(i)\n",
    "    #print(i, end=\" \")         #### to print all in the same line use the 'end' option"
   ]
  },
  {
   "cell_type": "markdown",
   "metadata": {},
   "source": [
    "A while-loop operates in a slightly different way. A condition is given to control the loop (to continue running or terminate)."
   ]
  },
  {
   "cell_type": "code",
   "execution_count": 50,
   "metadata": {},
   "outputs": [
    {
     "name": "stdout",
     "output_type": "stream",
     "text": [
      "banana\n",
      "apple\n",
      "durian\n"
     ]
    }
   ],
   "source": [
    "basket = ['banana','apple','durian','orange','rambutan']\n",
    "i=0\n",
    "while i < 3:\n",
    "    print(basket[i])\n",
    "    i = i + 1    # this is the update to move the counter"
   ]
  },
  {
   "cell_type": "markdown",
   "metadata": {},
   "source": [
    "Let's now use a loop to count the number of items in the basket"
   ]
  },
  {
   "cell_type": "code",
   "execution_count": 56,
   "metadata": {},
   "outputs": [
    {
     "name": "stdout",
     "output_type": "stream",
     "text": [
      "5\n",
      "5\n"
     ]
    }
   ],
   "source": [
    "# one way\n",
    "c = 0\n",
    "for fruits in basket:\n",
    "    c = c + 1\n",
    "print(c)\n",
    "\n",
    "# another way\n",
    "for i, fruits in enumerate(basket):\n",
    "    i = i + 1\n",
    "\n",
    "print(i)"
   ]
  },
  {
   "cell_type": "code",
   "execution_count": 57,
   "metadata": {},
   "outputs": [
    {
     "name": "stdout",
     "output_type": "stream",
     "text": [
      "154\n"
     ]
    }
   ],
   "source": [
    "# write a for loop to sum all numbers in this list [3, 41, 12, 9, 74, 15]\n",
    "sum = 0\n",
    "for i in [3, 41, 12, 9, 74, 15]:\n",
    "    sum = sum + i\n",
    "\n",
    "print(sum)"
   ]
  },
  {
   "cell_type": "code",
   "execution_count": 97,
   "metadata": {},
   "outputs": [
    {
     "name": "stdout",
     "output_type": "stream",
     "text": [
      "3628800\n"
     ]
    }
   ],
   "source": [
    "# Define a function called factorial(n)\n",
    "def factorial(n):\n",
    "    f = 1\n",
    "    while n > 1:    # keep multiplying while it has not reached 1\n",
    "        f = f*n\n",
    "        n = n-1\n",
    "    return f\n",
    "        \n",
    "print(factorial(10)) \n",
    "    "
   ]
  },
  {
   "cell_type": "markdown",
   "metadata": {
    "collapsed": true
   },
   "source": [
    "**Quick Exercise 3** Write a loop that prints out all the even numbers between 0 and 99. "
   ]
  },
  {
   "cell_type": "code",
   "execution_count": 26,
   "metadata": {
    "scrolled": true
   },
   "outputs": [
    {
     "name": "stdout",
     "output_type": "stream",
     "text": [
      "2\n",
      "4\n",
      "6\n",
      "8\n",
      "10\n",
      "12\n",
      "14\n",
      "16\n",
      "18\n",
      "20\n",
      "22\n",
      "24\n",
      "26\n",
      "28\n",
      "30\n",
      "32\n",
      "34\n",
      "36\n",
      "38\n",
      "40\n",
      "42\n",
      "44\n",
      "46\n",
      "48\n",
      "50\n",
      "52\n",
      "54\n",
      "56\n",
      "58\n",
      "60\n",
      "62\n",
      "64\n",
      "66\n",
      "68\n",
      "70\n",
      "72\n",
      "74\n",
      "76\n",
      "78\n",
      "80\n",
      "82\n",
      "84\n",
      "86\n",
      "88\n",
      "90\n",
      "92\n",
      "94\n",
      "96\n",
      "98\n"
     ]
    }
   ],
   "source": [
    "# Write your code here\n",
    "arr = range(2,100,2)\n",
    "for i in arr:\n",
    "    print(i)\n",
    "# i=1\n",
    "# while i<100:\n",
    "#     if i%2==0:\n",
    "#         print(i)\n",
    "#     i+=1"
   ]
  }
 ],
 "metadata": {
  "anaconda-cloud": {},
  "kernelspec": {
   "display_name": "Python 3 (ipykernel)",
   "language": "python",
   "name": "python3"
  },
  "language_info": {
   "codemirror_mode": {
    "name": "ipython",
    "version": 3
   },
   "file_extension": ".py",
   "mimetype": "text/x-python",
   "name": "python",
   "nbconvert_exporter": "python",
   "pygments_lexer": "ipython3",
   "version": "3.9.16"
  }
 },
 "nbformat": 4,
 "nbformat_minor": 1
}
