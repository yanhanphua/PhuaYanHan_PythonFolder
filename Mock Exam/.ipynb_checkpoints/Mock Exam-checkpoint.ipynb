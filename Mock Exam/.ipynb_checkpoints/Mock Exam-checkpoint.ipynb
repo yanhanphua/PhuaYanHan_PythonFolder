{
 "cells": [
  {
   "cell_type": "code",
   "execution_count": 22,
   "id": "a72bce4b",
   "metadata": {},
   "outputs": [],
   "source": [
    "import nltk\n",
    "import pandas as pd\n",
    "from sklearn.metrics import confusion_matrix\n",
    "import matplotlib.pyplot as plt\n",
    "import seaborn as sns\n",
    "import matplotlib.pyplot as plt\n",
    "from wordcloud import WordCloud\n",
    "from nltk.tokenize import sent_tokenize, word_tokenize"
   ]
  },
  {
   "cell_type": "code",
   "execution_count": 79,
   "id": "9d72f47d",
   "metadata": {},
   "outputs": [
    {
     "name": "stdout",
     "output_type": "stream",
     "text": [
      "11\n",
      "['As a term, data analytics predominantly refers to an assortment of applications, from basic business intelligence (BI), reporting and online analytical processing (OLAP) to various forms of advanced analytics.', \"In that sense, it's similar in nature to business analytics, another umbrella term for approaches to analyzing data -- with the difference that the latter is oriented to business uses, while data analytics has a broader focus.\", \"The expansive view of the term isn't universal, though: In some cases, people use data analytics specifically to mean advanced analytics, treating BI as a separate category.\", 'Data analytics initiatives can help businesses increase revenues, improve operational efficiency, optimize marketing campaigns and customer service efforts, respond more quickly to emerging market trends and gain a competitive edge over rivals -- all with the ultimate goal of boosting business performance.', \"Depending on the particular application, the data that's analyzed can consist of either historical records or new information that has been processed for real-time analytics uses.\", 'In addition, it can come from a mix of internal systems and external data sources.', 'At a high level, data analytics methodologies include exploratory data analysis (EDA), which aims to find patterns and relationships in data, and confirmatory data analysis (CDA), which applies statistical techniques to determine whether hypotheses about a data set are true or false.', 'EDA is often compared to detective work, while CDA is akin to the work of a judge or jury during a court trial -- a distinction first drawn by statistician John W. Tukey in his 1977 book Exploratory Data Analysis.', 'Data analytics can also be separated into quantitative data analysis and qualitative data analysis.', 'The former involves analysis of numerical data with quantifiable variables that can be compared or measured statistically.', 'The qualitative approach is more interpretive -- it focuses on understanding the content of non-numerical data like text, images, audio and video, including common phrases, themes and points of view.']\n",
      "the probability of the word data to occur in a sentence is  0.8181818181818182\n"
     ]
    }
   ],
   "source": [
    "text = open('./Data files/text_q3.txt', encoding='utf-8').read()\n",
    "text = text.replace (' \\n',' ')\n",
    "sentences = nltk.sent_tokenize(text)\n",
    "count=0\n",
    "print(len(sentences))\n",
    "print(sentences)\n",
    "for i in sentences:\n",
    "    if 'data' in i:\n",
    "        count+=1\n",
    "probDatainSentence = count/len(sentences)\n",
    "print('the probability of the word data to occur in a sentence is ', count/len(sentences))"
   ]
  },
  {
   "cell_type": "code",
   "execution_count": 87,
   "id": "79864202",
   "metadata": {},
   "outputs": [
    {
     "data": {
      "image/png": "[encoded data removed]",
      "text/plain": [
       "<Figure size 640x480 with 1 Axes>"
      ]
     },
     "metadata": {},
     "output_type": "display_data"
    }
   ],
   "source": [
    "import matplotlib.pyplot as plt\n",
    "data =[]\n",
    "for i in sentences:\n",
    "    word = i.split(' ')\n",
    "    data.append(len(word))\n",
    "plt.hist(data)\n",
    "\n",
    "plt.show()"
   ]
  },
  {
   "cell_type": "code",
   "execution_count": 83,
   "id": "07a4ce86",
   "metadata": {},
   "outputs": [
    {
     "name": "stdout",
     "output_type": "stream",
     "text": [
      "0.3333333333333333\n"
     ]
    }
   ],
   "source": [
    "dataAnalytics=0\n",
    "numberOfTimeDataOccur = 0\n",
    "word = []\n",
    "for i in sentences:\n",
    "        words = word_tokenize(i)\n",
    "        word.append(words)\n",
    "for x in word:\n",
    "    for z,y in enumerate(x):\n",
    "        if y.lower() == 'data':\n",
    "            numberOfTimeDataOccur+=1\n",
    "        if y == 'Data' and x[z+1].lower() == 'analytics':\n",
    "            dataAnalytics+=1\n",
    "        if y == 'data' and x[z+1].lower() == 'analytics':\n",
    "            dataAnalytics+=1\n",
    "print(dataAnalytics/numberOfTimeDataOccur)"
   ]
  },
  {
   "cell_type": "code",
   "execution_count": null,
   "id": "a233154d",
   "metadata": {},
   "outputs": [],
   "source": []
  }
 ],
 "metadata": {
  "kernelspec": {
   "display_name": "Python 3 (ipykernel)",
   "language": "python",
   "name": "python3"
  },
  "language_info": {
   "codemirror_mode": {
    "name": "ipython",
    "version": 3
   },
   "file_extension": ".py",
   "mimetype": "text/x-python",
   "name": "python",
   "nbconvert_exporter": "python",
   "pygments_lexer": "ipython3",
   "version": "3.9.16"
  }
 },
 "nbformat": 4,
 "nbformat_minor": 5
}
